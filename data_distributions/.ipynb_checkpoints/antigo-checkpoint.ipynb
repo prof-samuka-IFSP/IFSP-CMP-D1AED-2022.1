{
 "cells": [
  {
   "cell_type": "markdown",
   "id": "horizontal-investigation",
   "metadata": {},
   "source": [
    "**D1DAE: Análise Estatística para Ciência de Dados (2021.1)** <br/>\n",
    "IFSP Campinas\n",
    "\n",
    "Profs: Ricardo Sovat, Samuel Martins <br/><br/>\n",
    "\n",
    "<a rel=\"license\" href=\"http://creativecommons.org/licenses/by-nc-sa/4.0/\"><img alt=\"Creative Commons License\" style=\"border-width:0\" src=\"https://i.creativecommons.org/l/by-nc-sa/4.0/88x31.png\" /></a><br />This work is licensed under a <a rel=\"license\" href=\"http://creativecommons.org/licenses/by-nc-sa/4.0/\">Creative Commons Attribution-NonCommercial-ShareAlike 4.0 International License</a>."
   ]
  },
  {
   "cell_type": "code",
   "execution_count": 1,
   "id": "educated-france",
   "metadata": {},
   "outputs": [],
   "source": [
    "import pandas as pd\n",
    "import seaborn as sns\n",
    "import matplotlib.pyplot as plt\n",
    "import numpy as np"
   ]
  },
  {
   "cell_type": "markdown",
   "id": "civic-angola",
   "metadata": {},
   "source": [
    "# 1. Probability Distributions"
   ]
  },
  {
   "cell_type": "markdown",
   "id": "smaller-taylor",
   "metadata": {},
   "source": [
    "## 1.2. Binomial Distribution"
   ]
  },
  {
   "cell_type": "markdown",
   "id": "lined-guitar",
   "metadata": {},
   "source": [
    "<img src=\"./imgs/binomial_distribution_ex.png\" width=500/>"
   ]
  },
  {
   "cell_type": "markdown",
   "id": "satisfied-deployment",
   "metadata": {},
   "source": [
    "### Exercise 1"
   ]
  },
  {
   "cell_type": "markdown",
   "id": "attempted-condition",
   "metadata": {},
   "source": [
    "In an admission test for the Data Science specialization, **10 questions** with  **3 possible choices** in each question.<br/>\n",
    "**Each question scores equally**. Suppose that a candidate have not been prepared for the test. She decided to guess all answers.<br/>\n",
    "Let the test has the **maximum score of 10** and **cut-off score of 5** for being approved for the next stage.<br/>\n",
    "\n",
    "Provide the _probability_ that this candidate will **get 5 questions right**, and the _probability_ that she will **advance to the next stage of the test**.<br/><br/>\n"
   ]
  },
  {
   "cell_type": "markdown",
   "id": "entertaining-blake",
   "metadata": {},
   "source": [
    "#### Is this a Binomial experiment?"
   ]
  },
  {
   "cell_type": "markdown",
   "id": "essential-provision",
   "metadata": {},
   "source": [
    "#### 1. How many trials (n)? (Fixed number of identical trials)"
   ]
  },
  {
   "cell_type": "code",
   "execution_count": 2,
   "id": "powerful-pencil",
   "metadata": {},
   "outputs": [
    {
     "data": {
      "text/plain": [
       "10"
      ]
     },
     "execution_count": 2,
     "metadata": {},
     "output_type": "execute_result"
    }
   ],
   "source": [
    "n = 10\n",
    "n"
   ]
  },
  {
   "cell_type": "markdown",
   "id": "activated-cameroon",
   "metadata": {},
   "source": [
    "#### 2. Are the trials independent?"
   ]
  },
  {
   "cell_type": "markdown",
   "id": "hollywood-plaza",
   "metadata": {},
   "source": [
    "Yes. One option chosen for a given question does not influence the chosen answer for the other questions."
   ]
  },
  {
   "cell_type": "markdown",
   "id": "binary-depression",
   "metadata": {},
   "source": [
    "#### 3. Are only two outcomes possible per trial?"
   ]
  },
  {
   "cell_type": "markdown",
   "id": "looking-chambers",
   "metadata": {},
   "source": [
    "Yes. The candidate has two possibilities: **hit** or **miss** the question."
   ]
  },
  {
   "cell_type": "markdown",
   "id": "random-instrument",
   "metadata": {},
   "source": [
    "#### 4. What is the probability of success (p) and failure (q)?"
   ]
  },
  {
   "cell_type": "code",
   "execution_count": 3,
   "id": "indirect-match",
   "metadata": {},
   "outputs": [],
   "source": [
    "# question ==> 'trial´ \n",
    "n_choices_per_question = 3"
   ]
  },
  {
   "cell_type": "code",
   "execution_count": 4,
   "id": "private-segment",
   "metadata": {},
   "outputs": [
    {
     "data": {
      "text/plain": [
       "0.3333333333333333"
      ]
     },
     "execution_count": 4,
     "metadata": {},
     "output_type": "execute_result"
    }
   ],
   "source": [
    "# probabilidade de acertar uma questão\n",
    "p = 1 / n_choices_per_question\n",
    "p"
   ]
  },
  {
   "cell_type": "code",
   "execution_count": 5,
   "id": "imperial-presence",
   "metadata": {},
   "outputs": [
    {
     "data": {
      "text/plain": [
       "0.6666666666666667"
      ]
     },
     "execution_count": 5,
     "metadata": {},
     "output_type": "execute_result"
    }
   ],
   "source": [
    "# probabilidade de errar uma questão\n",
    "q = 1 - p\n",
    "q"
   ]
  },
  {
   "cell_type": "markdown",
   "id": "empty-digit",
   "metadata": {},
   "source": [
    "Therefore, it is a **Binomial experiment**."
   ]
  },
  {
   "cell_type": "markdown",
   "id": "wireless-batman",
   "metadata": {},
   "source": [
    "#### What is the total number of events that you want to get successes (x)? "
   ]
  },
  {
   "cell_type": "code",
   "execution_count": 6,
   "id": "inner-floor",
   "metadata": {},
   "outputs": [
    {
     "data": {
      "text/plain": [
       "5"
      ]
     },
     "execution_count": 6,
     "metadata": {},
     "output_type": "execute_result"
    }
   ],
   "source": [
    "# queremos 5 questões corretas entre as 10 respondidas\n",
    "x = 5\n",
    "x"
   ]
  },
  {
   "cell_type": "markdown",
   "id": "suburban-turkey",
   "metadata": {},
   "source": [
    "<br/>\n",
    "\n",
    "#### Q1. What is the _probability_ that the candidate will get 5 questions right?"
   ]
  },
  {
   "cell_type": "markdown",
   "id": "second-moldova",
   "metadata": {},
   "source": [
    "##### Solution 1"
   ]
  },
  {
   "cell_type": "code",
   "execution_count": 7,
   "id": "comprehensive-mainland",
   "metadata": {},
   "outputs": [],
   "source": [
    "from scipy.special import comb"
   ]
  },
  {
   "cell_type": "code",
   "execution_count": 8,
   "id": "vital-development",
   "metadata": {},
   "outputs": [
    {
     "data": {
      "text/plain": [
       "0.13656454808718185"
      ]
     },
     "execution_count": 8,
     "metadata": {},
     "output_type": "execute_result"
    }
   ],
   "source": [
    "probability = comb(n, x) * (p ** x) * (q ** (n - x))\n",
    "probability"
   ]
  },
  {
   "cell_type": "markdown",
   "id": "mysterious-flashing",
   "metadata": {},
   "source": [
    "##### Solution 2"
   ]
  },
  {
   "cell_type": "code",
   "execution_count": 9,
   "id": "artificial-result",
   "metadata": {},
   "outputs": [],
   "source": [
    "from scipy.stats import binom"
   ]
  },
  {
   "cell_type": "code",
   "execution_count": 10,
   "id": "minor-opposition",
   "metadata": {},
   "outputs": [
    {
     "data": {
      "text/plain": [
       "0.1365645480871819"
      ]
     },
     "execution_count": 10,
     "metadata": {},
     "output_type": "execute_result"
    }
   ],
   "source": [
    "probability = binom.pmf(x, n, p)\n",
    "probability"
   ]
  },
  {
   "cell_type": "markdown",
   "id": "numerous-paste",
   "metadata": {},
   "source": [
    "<br/>\n",
    "\n",
    "#### Q2. How likely is the candidate to pass the test? (What is the _probability_ for that?)\n",
    "<center><img src=\"./imgs/binomial_distribution_ex_Q2.png\" width=500/></center>"
   ]
  },
  {
   "cell_type": "markdown",
   "id": "applied-flood",
   "metadata": {},
   "source": [
    "##### Solution 1"
   ]
  },
  {
   "cell_type": "code",
   "execution_count": 11,
   "id": "historical-blank",
   "metadata": {},
   "outputs": [],
   "source": [
    "probability = 0.0\n",
    "\n",
    "# para cada número de questões acertadas possíveis para\n",
    "# o cenário estudado\n",
    "for x in range(5, 11):\n",
    "    probability += binom.pmf(x, n, p)"
   ]
  },
  {
   "cell_type": "code",
   "execution_count": 12,
   "id": "apart-albania",
   "metadata": {},
   "outputs": [
    {
     "data": {
      "text/plain": [
       "0.21312808006909525"
      ]
     },
     "execution_count": 12,
     "metadata": {},
     "output_type": "execute_result"
    }
   ],
   "source": [
    "probability"
   ]
  },
  {
   "cell_type": "markdown",
   "id": "governmental-journalism",
   "metadata": {},
   "source": [
    "##### Solution 2"
   ]
  },
  {
   "cell_type": "code",
   "execution_count": 13,
   "id": "competent-architect",
   "metadata": {},
   "outputs": [
    {
     "data": {
      "text/plain": [
       "0.21312808006909512"
      ]
     },
     "execution_count": 13,
     "metadata": {},
     "output_type": "execute_result"
    }
   ],
   "source": [
    "1 - binom.cdf(4, n, p)"
   ]
  },
  {
   "cell_type": "markdown",
   "id": "electoral-functionality",
   "metadata": {},
   "source": [
    "##### Solution 3\n",
    "https://docs.scipy.org/doc/scipy/reference/generated/scipy.stats.binom.html"
   ]
  },
  {
   "cell_type": "code",
   "execution_count": 14,
   "id": "massive-standing",
   "metadata": {},
   "outputs": [
    {
     "data": {
      "text/plain": [
       "0.21312808006909517"
      ]
     },
     "execution_count": 14,
     "metadata": {},
     "output_type": "execute_result"
    }
   ],
   "source": [
    "# a função abaixo é exatamente igual a:\n",
    "# 1 - binom.cdf(4, n, p)\n",
    "binom.sf(4, n, p)"
   ]
  },
  {
   "cell_type": "markdown",
   "id": "surprising-associate",
   "metadata": {},
   "source": [
    "<br/>\n",
    "\n",
    "### Exercise 2"
   ]
  },
  {
   "cell_type": "markdown",
   "id": "inclusive-throw",
   "metadata": {},
   "source": [
    "In the last World Chess Championship, **the proportion of female participants was 60%.** <br/>\n",
    "**The total of teams, with 12 members, in this year's championship is 30.** <br/>\n",
    "According to these information, **how many teams should be formed by 8 women?** <br/><br/>\n",
    "\n"
   ]
  },
  {
   "cell_type": "markdown",
   "id": "consistent-peninsula",
   "metadata": {},
   "source": [
    "Let's first calculate the probability of a team has 8 women."
   ]
  },
  {
   "cell_type": "markdown",
   "id": "representative-poster",
   "metadata": {},
   "source": [
    "#### 1. How many trials (n)? (Fixed number of identical trials)"
   ]
  },
  {
   "cell_type": "code",
   "execution_count": 15,
   "id": "excited-nursing",
   "metadata": {},
   "outputs": [
    {
     "data": {
      "text/plain": [
       "12"
      ]
     },
     "execution_count": 15,
     "metadata": {},
     "output_type": "execute_result"
    }
   ],
   "source": [
    "n = 12\n",
    "n"
   ]
  },
  {
   "cell_type": "markdown",
   "id": "respective-furniture",
   "metadata": {},
   "source": [
    "#### 2. Are the trials independent?"
   ]
  },
  {
   "cell_type": "markdown",
   "id": "baking-johnston",
   "metadata": {},
   "source": [
    "Yes. The gender of each member is independent."
   ]
  },
  {
   "cell_type": "markdown",
   "id": "sunset-breath",
   "metadata": {},
   "source": [
    "#### 3. Are only two outcomes possible per trial?"
   ]
  },
  {
   "cell_type": "markdown",
   "id": "inner-routine",
   "metadata": {},
   "source": [
    "Yes: woman (success) and others (failure)."
   ]
  },
  {
   "cell_type": "markdown",
   "id": "sonic-black",
   "metadata": {},
   "source": [
    "#### 4. What is the probability of success (p) and failure (q)?"
   ]
  },
  {
   "cell_type": "code",
   "execution_count": 16,
   "id": "sealed-victim",
   "metadata": {},
   "outputs": [
    {
     "data": {
      "text/plain": [
       "0.6"
      ]
     },
     "execution_count": 16,
     "metadata": {},
     "output_type": "execute_result"
    }
   ],
   "source": [
    "p = 0.6\n",
    "p"
   ]
  },
  {
   "cell_type": "markdown",
   "id": "bright-richards",
   "metadata": {},
   "source": [
    "#### What is the total number of events that you want to get successes (x)? "
   ]
  },
  {
   "cell_type": "code",
   "execution_count": 17,
   "id": "rolled-cliff",
   "metadata": {},
   "outputs": [
    {
     "data": {
      "text/plain": [
       "8"
      ]
     },
     "execution_count": 17,
     "metadata": {},
     "output_type": "execute_result"
    }
   ],
   "source": [
    "x = 8\n",
    "x"
   ]
  },
  {
   "cell_type": "markdown",
   "id": "homeless-stocks",
   "metadata": {},
   "source": [
    "#### Q: How many teams (out of 30) should be formed by 8 women?"
   ]
  },
  {
   "cell_type": "code",
   "execution_count": 18,
   "id": "helpful-thanks",
   "metadata": {},
   "outputs": [
    {
     "data": {
      "text/plain": [
       "0.2128409395199996"
      ]
     },
     "execution_count": 18,
     "metadata": {},
     "output_type": "execute_result"
    }
   ],
   "source": [
    "# probability of a team (12 members) having 8 women\n",
    "probability = binom.pmf(x, n, p)\n",
    "probability"
   ]
  },
  {
   "cell_type": "markdown",
   "id": "expensive-junior",
   "metadata": {},
   "source": [
    "##### Solution"
   ]
  },
  {
   "cell_type": "markdown",
   "id": "creative-spice",
   "metadata": {},
   "source": [
    "#### mean = n * p"
   ]
  },
  {
   "cell_type": "code",
   "execution_count": 19,
   "id": "renewable-carter",
   "metadata": {},
   "outputs": [
    {
     "data": {
      "text/plain": [
       "30"
      ]
     },
     "execution_count": 19,
     "metadata": {},
     "output_type": "execute_result"
    }
   ],
   "source": [
    "n = 30  # teams\n",
    "n"
   ]
  },
  {
   "cell_type": "code",
   "execution_count": 20,
   "id": "ecological-madness",
   "metadata": {},
   "outputs": [
    {
     "data": {
      "text/plain": [
       "0.2128409395199996"
      ]
     },
     "execution_count": 20,
     "metadata": {},
     "output_type": "execute_result"
    }
   ],
   "source": [
    "p = probability  # probability of a team having 8 woman\n",
    "p"
   ]
  },
  {
   "cell_type": "code",
   "execution_count": 21,
   "id": "uniform-archives",
   "metadata": {},
   "outputs": [
    {
     "data": {
      "text/plain": [
       "6.385228185599988"
      ]
     },
     "execution_count": 21,
     "metadata": {},
     "output_type": "execute_result"
    }
   ],
   "source": [
    "# What is the expected value (mean) of 30 trials (teams) having teams with 8 woman? \n",
    "n_teams = n * p\n",
    "n_teams"
   ]
  },
  {
   "cell_type": "markdown",
   "id": "continued-batch",
   "metadata": {},
   "source": [
    "<br/>\n",
    "\n",
    "## 1.3. Poisson Distribution"
   ]
  },
  {
   "cell_type": "markdown",
   "id": "effective-photograph",
   "metadata": {},
   "source": [
    "<img src=\"./imgs/poisson_distribution_formula.png\" width=600/>"
   ]
  },
  {
   "cell_type": "markdown",
   "id": "comprehensive-proposal",
   "metadata": {},
   "source": [
    "### Exercise 1"
   ]
  },
  {
   "cell_type": "markdown",
   "id": "environmental-gather",
   "metadata": {},
   "source": [
    "A restaurant receives **20 orders per hour**. What is the chance that, at a given hour chosen at random, the restaurant will receive **15 orders**?"
   ]
  },
  {
   "cell_type": "markdown",
   "id": "aboriginal-meter",
   "metadata": {},
   "source": [
    "#### What is the mean number of occurrences per hour? (𝜆)"
   ]
  },
  {
   "cell_type": "code",
   "execution_count": 22,
   "id": "pretty-present",
   "metadata": {},
   "outputs": [
    {
     "data": {
      "text/plain": [
       "20"
      ]
     },
     "execution_count": 22,
     "metadata": {},
     "output_type": "execute_result"
    }
   ],
   "source": [
    "lambda_ = 20\n",
    "lambda_"
   ]
  },
  {
   "cell_type": "markdown",
   "id": "mental-montgomery",
   "metadata": {},
   "source": [
    "#### What is the desired number of occurrences within the period of time? (x)"
   ]
  },
  {
   "cell_type": "code",
   "execution_count": 23,
   "id": "english-beach",
   "metadata": {},
   "outputs": [
    {
     "data": {
      "text/plain": [
       "15"
      ]
     },
     "execution_count": 23,
     "metadata": {},
     "output_type": "execute_result"
    }
   ],
   "source": [
    "x = 15\n",
    "x"
   ]
  },
  {
   "cell_type": "markdown",
   "id": "practical-fleece",
   "metadata": {},
   "source": [
    "##### Solution 1"
   ]
  },
  {
   "cell_type": "code",
   "execution_count": 24,
   "id": "automated-bacon",
   "metadata": {},
   "outputs": [
    {
     "data": {
      "text/plain": [
       "0.0516488535317584"
      ]
     },
     "execution_count": 24,
     "metadata": {},
     "output_type": "execute_result"
    }
   ],
   "source": [
    "probability = ((np.e ** (-lambda_)) * (lambda_ ** x)) / np.math.factorial(x)\n",
    "probability"
   ]
  },
  {
   "cell_type": "markdown",
   "id": "coastal-intervention",
   "metadata": {},
   "source": [
    "##### Solution 2\n",
    "https://docs.scipy.org/doc/scipy/reference/generated/scipy.stats.poisson.html"
   ]
  },
  {
   "cell_type": "code",
   "execution_count": 25,
   "id": "accredited-optimization",
   "metadata": {},
   "outputs": [],
   "source": [
    "from scipy.stats import poisson"
   ]
  },
  {
   "cell_type": "code",
   "execution_count": 26,
   "id": "resident-municipality",
   "metadata": {},
   "outputs": [
    {
     "data": {
      "text/plain": [
       "0.05164885353175814"
      ]
     },
     "execution_count": 26,
     "metadata": {},
     "output_type": "execute_result"
    }
   ],
   "source": [
    "probability = poisson.pmf(x, lambda_)\n",
    "probability"
   ]
  },
  {
   "cell_type": "markdown",
   "id": "early-generic",
   "metadata": {},
   "source": [
    "### Exercise 2"
   ]
  },
  {
   "cell_type": "markdown",
   "id": "concerned-economics",
   "metadata": {},
   "source": [
    "Vehicles pass through a junction on a busy road at an average rate of 300 per hour. <br/>"
   ]
  },
  {
   "cell_type": "markdown",
   "id": "sweet-subcommittee",
   "metadata": {},
   "source": [
    "#### **Q1**: Find the probability that none passes in a given minute."
   ]
  },
  {
   "cell_type": "markdown",
   "id": "unauthorized-conviction",
   "metadata": {},
   "source": [
    "##### The average number of cars per minute (𝜆)"
   ]
  },
  {
   "cell_type": "code",
   "execution_count": 27,
   "id": "sixth-stephen",
   "metadata": {},
   "outputs": [
    {
     "data": {
      "text/plain": [
       "5.0"
      ]
     },
     "execution_count": 27,
     "metadata": {},
     "output_type": "execute_result"
    }
   ],
   "source": [
    "lambda_ = 300 / 60\n",
    "lambda_"
   ]
  },
  {
   "cell_type": "markdown",
   "id": "personal-model",
   "metadata": {},
   "source": [
    "##### What is the desired number of occurrences within the period of time? (x)"
   ]
  },
  {
   "cell_type": "code",
   "execution_count": 28,
   "id": "responsible-veteran",
   "metadata": {},
   "outputs": [
    {
     "data": {
      "text/plain": [
       "0"
      ]
     },
     "execution_count": 28,
     "metadata": {},
     "output_type": "execute_result"
    }
   ],
   "source": [
    "x = 0\n",
    "x"
   ]
  },
  {
   "cell_type": "code",
   "execution_count": 29,
   "id": "accepting-discipline",
   "metadata": {},
   "outputs": [
    {
     "data": {
      "text/plain": [
       "0.006737946999085467"
      ]
     },
     "execution_count": 29,
     "metadata": {},
     "output_type": "execute_result"
    }
   ],
   "source": [
    "probability = poisson.pmf(x, lambda_)\n",
    "probability"
   ]
  },
  {
   "cell_type": "markdown",
   "id": "architectural-mention",
   "metadata": {},
   "source": [
    "#### **Q2**: What is the expected number (average number) passing in two minutes?"
   ]
  },
  {
   "cell_type": "code",
   "execution_count": 30,
   "id": "signed-verse",
   "metadata": {},
   "outputs": [
    {
     "data": {
      "text/plain": [
       "10.0"
      ]
     },
     "execution_count": 30,
     "metadata": {},
     "output_type": "execute_result"
    }
   ],
   "source": [
    "# alpha: average number of cars per ONE minute\n",
    "expected_number_per_two_minutes = lambda_ * 2\n",
    "expected_number_per_two_minutes"
   ]
  },
  {
   "cell_type": "markdown",
   "id": "technological-companion",
   "metadata": {},
   "source": [
    "#### **Q3**: Find the probability that this expected number actually pass through in a given two-minute period.\n",
    "Given that the average rate of vehicles that pass through in a busy road in **two minutes** is **10**, which is the probability of passing through **exactly 10 vehicles** in a given two-minute period?"
   ]
  },
  {
   "cell_type": "markdown",
   "id": "quarterly-cisco",
   "metadata": {},
   "source": [
    "##### The average number of cars per two minutes (𝜆)"
   ]
  },
  {
   "cell_type": "code",
   "execution_count": 31,
   "id": "eligible-spending",
   "metadata": {},
   "outputs": [
    {
     "data": {
      "text/plain": [
       "10.0"
      ]
     },
     "execution_count": 31,
     "metadata": {},
     "output_type": "execute_result"
    }
   ],
   "source": [
    "lambda_ = expected_number_per_two_minutes\n",
    "lambda_"
   ]
  },
  {
   "cell_type": "markdown",
   "id": "rational-resort",
   "metadata": {},
   "source": [
    "##### What is the desired number of occurrences within the period of time? (x)"
   ]
  },
  {
   "cell_type": "code",
   "execution_count": 32,
   "id": "polish-prairie",
   "metadata": {},
   "outputs": [
    {
     "data": {
      "text/plain": [
       "10"
      ]
     },
     "execution_count": 32,
     "metadata": {},
     "output_type": "execute_result"
    }
   ],
   "source": [
    "x = 10\n",
    "x"
   ]
  },
  {
   "cell_type": "code",
   "execution_count": 33,
   "id": "offensive-singles",
   "metadata": {},
   "outputs": [
    {
     "data": {
      "text/plain": [
       "0.12511003572113372"
      ]
     },
     "execution_count": 33,
     "metadata": {},
     "output_type": "execute_result"
    }
   ],
   "source": [
    "probability = poisson.pmf(x, lambda_)\n",
    "probability"
   ]
  },
  {
   "cell_type": "markdown",
   "id": "civilian-optimum",
   "metadata": {},
   "source": [
    "### Exercise 3"
   ]
  },
  {
   "cell_type": "markdown",
   "id": "sustained-assault",
   "metadata": {},
   "source": [
    "Suppose the **average number of lions** seen on a **1-day safari** is **5**. What is the probability that tourists will see **fewer than four lions** on the next 1-day safari?"
   ]
  },
  {
   "cell_type": "markdown",
   "id": "sunrise-start",
   "metadata": {},
   "source": [
    "#### What is the mean number of lions seen on a 1-day safari? (𝜆)"
   ]
  },
  {
   "cell_type": "code",
   "execution_count": 34,
   "id": "unlikely-weather",
   "metadata": {},
   "outputs": [
    {
     "data": {
      "text/plain": [
       "5"
      ]
     },
     "execution_count": 34,
     "metadata": {},
     "output_type": "execute_result"
    }
   ],
   "source": [
    "lambda_ = 5\n",
    "lambda_"
   ]
  },
  {
   "cell_type": "markdown",
   "id": "assumed-recipe",
   "metadata": {},
   "source": [
    "#### What is the desired number of occurrences within the period of time? (x)\n",
    "x = 0, 1, 2, or 3"
   ]
  },
  {
   "cell_type": "markdown",
   "id": "alike-kidney",
   "metadata": {},
   "source": [
    "<img src=\"./imgs/poisson_distribution_ex3.png\" width=400/>"
   ]
  },
  {
   "cell_type": "markdown",
   "id": "correct-offense",
   "metadata": {},
   "source": [
    "##### Solution 1"
   ]
  },
  {
   "cell_type": "code",
   "execution_count": 35,
   "id": "essential-progress",
   "metadata": {},
   "outputs": [
    {
     "data": {
      "text/plain": [
       "0.26502591529736164"
      ]
     },
     "execution_count": 35,
     "metadata": {},
     "output_type": "execute_result"
    }
   ],
   "source": [
    "probability = 0.0\n",
    "\n",
    "for x in range(4):\n",
    "    probability += poisson.pmf(x, lambda_)\n",
    "\n",
    "probability"
   ]
  },
  {
   "cell_type": "markdown",
   "id": "robust-heritage",
   "metadata": {},
   "source": [
    "##### Solution 2"
   ]
  },
  {
   "cell_type": "code",
   "execution_count": 36,
   "id": "specified-arabic",
   "metadata": {},
   "outputs": [
    {
     "data": {
      "text/plain": [
       "0.2650259152973616"
      ]
     },
     "execution_count": 36,
     "metadata": {},
     "output_type": "execute_result"
    }
   ],
   "source": [
    "probability = poisson.cdf(3, lambda_)\n",
    "probability"
   ]
  },
  {
   "cell_type": "markdown",
   "id": "found-ethernet",
   "metadata": {},
   "source": [
    "<br/>\n",
    "\n",
    "## 1.4. Normal Distribution"
   ]
  },
  {
   "cell_type": "markdown",
   "id": "hungarian-blast",
   "metadata": {},
   "source": [
    "<img src=\"./imgs/standard_normal_distribution_formula.png\" width=700/>"
   ]
  },
  {
   "cell_type": "markdown",
   "id": "impossible-conspiracy",
   "metadata": {},
   "source": [
    "### Exercise 1"
   ]
  },
  {
   "cell_type": "markdown",
   "id": "dynamic-diagnosis",
   "metadata": {},
   "source": [
    "When studying the height of the inhabitants of Pompeia, it was found that its **distribution is approximately normal**, with **mean** of 1.70 m and **standard deviation** of 0.1 m."
   ]
  },
  {
   "cell_type": "code",
   "execution_count": 37,
   "id": "oriental-reception",
   "metadata": {},
   "outputs": [],
   "source": [
    "mean = 1.7\n",
    "std = 0.1"
   ]
  },
  {
   "cell_type": "markdown",
   "id": "educational-jacket",
   "metadata": {},
   "source": [
    "#### Q1: Probability of a person, selected by chance, is less than 1.8m tall? P(X < 1.8)"
   ]
  },
  {
   "cell_type": "code",
   "execution_count": 38,
   "id": "committed-contributor",
   "metadata": {},
   "outputs": [
    {
     "data": {
      "text/plain": [
       "1.8"
      ]
     },
     "execution_count": 38,
     "metadata": {},
     "output_type": "execute_result"
    }
   ],
   "source": [
    "x = 1.8\n",
    "x"
   ]
  },
  {
   "cell_type": "code",
   "execution_count": 39,
   "id": "romantic-filing",
   "metadata": {},
   "outputs": [
    {
     "data": {
      "text/plain": [
       "1.0000000000000009"
      ]
     },
     "execution_count": 39,
     "metadata": {},
     "output_type": "execute_result"
    }
   ],
   "source": [
    "z = (x - mean) / std\n",
    "z"
   ]
  },
  {
   "cell_type": "markdown",
   "id": "german-ivory",
   "metadata": {},
   "source": [
    "##### **P(X < 1.8) = P(Z < 1.000)**"
   ]
  },
  {
   "cell_type": "markdown",
   "id": "subject-debate",
   "metadata": {},
   "source": [
    "##### Solution 1 - Using the z-score table\n",
    "https://www.math.arizona.edu/~rsims/ma464/standardnormaltable.pdf"
   ]
  },
  {
   "cell_type": "markdown",
   "id": "caroline-sullivan",
   "metadata": {},
   "source": [
    "Checking the z-score table, **P(Z < 1.000)=0.84134**"
   ]
  },
  {
   "cell_type": "markdown",
   "id": "proud-shooting",
   "metadata": {},
   "source": [
    "##### Solution 2 - Using scipy"
   ]
  },
  {
   "cell_type": "code",
   "execution_count": 40,
   "id": "apparent-killing",
   "metadata": {},
   "outputs": [],
   "source": [
    "from scipy.stats import norm"
   ]
  },
  {
   "cell_type": "code",
   "execution_count": 41,
   "id": "small-penalty",
   "metadata": {},
   "outputs": [
    {
     "data": {
      "text/plain": [
       "0.8413447460685429"
      ]
     },
     "execution_count": 41,
     "metadata": {},
     "output_type": "execute_result"
    }
   ],
   "source": [
    "probability = norm.cdf(1.000)\n",
    "probability"
   ]
  },
  {
   "cell_type": "markdown",
   "id": "human-headset",
   "metadata": {},
   "source": [
    "#### Q2: Probability of a person, selected by chance, is between 1.6m and 1.8m tall? P(1.6 <= X <= 1.8)\n",
    "P(1.6 <= X <= 1.8) = P(X < 1.8) - P(X < 1.6)"
   ]
  },
  {
   "cell_type": "code",
   "execution_count": 42,
   "id": "curious-balloon",
   "metadata": {},
   "outputs": [],
   "source": [
    "a = 1.6\n",
    "b = 1.8"
   ]
  },
  {
   "cell_type": "code",
   "execution_count": 43,
   "id": "cooked-collect",
   "metadata": {},
   "outputs": [
    {
     "data": {
      "text/plain": [
       "(-0.9999999999999987, 1.0000000000000009)"
      ]
     },
     "execution_count": 43,
     "metadata": {},
     "output_type": "execute_result"
    }
   ],
   "source": [
    "z_a = (a - mean) / std\n",
    "z_b = (b - mean) / std\n",
    "\n",
    "z_a, z_b"
   ]
  },
  {
   "cell_type": "markdown",
   "id": "wireless-irish",
   "metadata": {},
   "source": [
    "**P(1.6 <= X <= 1.8) = P(Z < -0.9999) - P(Z < 1.00000)**"
   ]
  },
  {
   "cell_type": "markdown",
   "id": "divine-guide",
   "metadata": {},
   "source": [
    "##### Solution 1 - Using the z-score table\n",
    "https://www.math.arizona.edu/~rsims/ma464/standardnormaltable.pdf"
   ]
  },
  {
   "cell_type": "code",
   "execution_count": 44,
   "id": "quiet-cambridge",
   "metadata": {},
   "outputs": [],
   "source": [
    "prob_a = 0.16109\n",
    "prob_b = 0.84134"
   ]
  },
  {
   "cell_type": "code",
   "execution_count": 45,
   "id": "existing-engineering",
   "metadata": {},
   "outputs": [
    {
     "data": {
      "text/plain": [
       "0.68025"
      ]
     },
     "execution_count": 45,
     "metadata": {},
     "output_type": "execute_result"
    }
   ],
   "source": [
    "probability = prob_b - prob_a\n",
    "probability"
   ]
  },
  {
   "cell_type": "markdown",
   "id": "digital-rogers",
   "metadata": {},
   "source": [
    "##### Solution 2 - Using scipy"
   ]
  },
  {
   "cell_type": "code",
   "execution_count": 46,
   "id": "sensitive-belief",
   "metadata": {},
   "outputs": [
    {
     "data": {
      "text/plain": [
       "0.6826894921370857"
      ]
     },
     "execution_count": 46,
     "metadata": {},
     "output_type": "execute_result"
    }
   ],
   "source": [
    "probability = norm.cdf(z_b) - norm.cdf(z_a)\n",
    "probability"
   ]
  },
  {
   "cell_type": "markdown",
   "id": "circular-maximum",
   "metadata": {},
   "source": [
    "#### Q3: Probability of a person, selected by chance, is over 1.9m tall? P (X >= 1.9)\n",
    "P(X >= 1.9) = 1 - P(X < 1.9)"
   ]
  },
  {
   "cell_type": "code",
   "execution_count": 47,
   "id": "informational-bidding",
   "metadata": {},
   "outputs": [
    {
     "data": {
      "text/plain": [
       "1.9"
      ]
     },
     "execution_count": 47,
     "metadata": {},
     "output_type": "execute_result"
    }
   ],
   "source": [
    "x = 1.9\n",
    "x"
   ]
  },
  {
   "cell_type": "code",
   "execution_count": 48,
   "id": "atmospheric-couple",
   "metadata": {},
   "outputs": [
    {
     "data": {
      "text/plain": [
       "1.9999999999999996"
      ]
     },
     "execution_count": 48,
     "metadata": {},
     "output_type": "execute_result"
    }
   ],
   "source": [
    "z = (x - mean) / std\n",
    "z"
   ]
  },
  {
   "cell_type": "markdown",
   "id": "expanded-westminster",
   "metadata": {},
   "source": [
    "**P(X >= 1.9) = P(Z >= 1.99999) = 1 - P(Z < 1.99999)**"
   ]
  },
  {
   "cell_type": "markdown",
   "id": "split-bennett",
   "metadata": {},
   "source": [
    "##### Solution 1 - Using the z-score table\n",
    "https://www.math.arizona.edu/~rsims/ma464/standardnormaltable.pdf"
   ]
  },
  {
   "cell_type": "code",
   "execution_count": 49,
   "id": "empirical-passion",
   "metadata": {},
   "outputs": [
    {
     "data": {
      "text/plain": [
       "0.022750000000000048"
      ]
     },
     "execution_count": 49,
     "metadata": {},
     "output_type": "execute_result"
    }
   ],
   "source": [
    "cdf_z = 0.97725 # considerei z=2\n",
    "probability = 1 - cdf_z\n",
    "probability"
   ]
  },
  {
   "cell_type": "markdown",
   "id": "isolated-flush",
   "metadata": {},
   "source": [
    "##### Solution 2 - Using scipy"
   ]
  },
  {
   "cell_type": "code",
   "execution_count": 50,
   "id": "tight-holiday",
   "metadata": {},
   "outputs": [
    {
     "data": {
      "text/plain": [
       "0.02275013194817921"
      ]
     },
     "execution_count": 50,
     "metadata": {},
     "output_type": "execute_result"
    }
   ],
   "source": [
    "probability = 1 - norm.cdf(z)\n",
    "probability"
   ]
  },
  {
   "cell_type": "markdown",
   "id": "legendary-payroll",
   "metadata": {},
   "source": [
    "<br/>\n",
    "\n",
    "# 2. Central Limit Theorem"
   ]
  },
  {
   "cell_type": "markdown",
   "id": "61536305-dc82-4990-ac90-e19c4f02dec9",
   "metadata": {},
   "source": [
    "**Dataset:** https://www.kaggle.com/fedesoriano/stroke-prediction-dataset"
   ]
  },
  {
   "cell_type": "code",
   "execution_count": 51,
   "id": "binary-biodiversity",
   "metadata": {},
   "outputs": [],
   "source": [
    "# dataset with data about stroke patients\n",
    "df = pd.read_csv('./datasets/healthcare-dataset-stroke-data.csv')"
   ]
  },
  {
   "cell_type": "code",
   "execution_count": 52,
   "id": "wrapped-rider",
   "metadata": {},
   "outputs": [
    {
     "data": {
      "text/html": [
       "<div>\n",
       "<style scoped>\n",
       "    .dataframe tbody tr th:only-of-type {\n",
       "        vertical-align: middle;\n",
       "    }\n",
       "\n",
       "    .dataframe tbody tr th {\n",
       "        vertical-align: top;\n",
       "    }\n",
       "\n",
       "    .dataframe thead th {\n",
       "        text-align: right;\n",
       "    }\n",
       "</style>\n",
       "<table border=\"1\" class=\"dataframe\">\n",
       "  <thead>\n",
       "    <tr style=\"text-align: right;\">\n",
       "      <th></th>\n",
       "      <th>id</th>\n",
       "      <th>gender</th>\n",
       "      <th>age</th>\n",
       "      <th>hypertension</th>\n",
       "      <th>heart_disease</th>\n",
       "      <th>ever_married</th>\n",
       "      <th>work_type</th>\n",
       "      <th>Residence_type</th>\n",
       "      <th>avg_glucose_level</th>\n",
       "      <th>bmi</th>\n",
       "      <th>smoking_status</th>\n",
       "      <th>stroke</th>\n",
       "    </tr>\n",
       "  </thead>\n",
       "  <tbody>\n",
       "    <tr>\n",
       "      <th>0</th>\n",
       "      <td>9046</td>\n",
       "      <td>Male</td>\n",
       "      <td>67.0</td>\n",
       "      <td>0</td>\n",
       "      <td>1</td>\n",
       "      <td>Yes</td>\n",
       "      <td>Private</td>\n",
       "      <td>Urban</td>\n",
       "      <td>228.69</td>\n",
       "      <td>36.6</td>\n",
       "      <td>formerly smoked</td>\n",
       "      <td>1</td>\n",
       "    </tr>\n",
       "    <tr>\n",
       "      <th>1</th>\n",
       "      <td>51676</td>\n",
       "      <td>Female</td>\n",
       "      <td>61.0</td>\n",
       "      <td>0</td>\n",
       "      <td>0</td>\n",
       "      <td>Yes</td>\n",
       "      <td>Self-employed</td>\n",
       "      <td>Rural</td>\n",
       "      <td>202.21</td>\n",
       "      <td>NaN</td>\n",
       "      <td>never smoked</td>\n",
       "      <td>1</td>\n",
       "    </tr>\n",
       "    <tr>\n",
       "      <th>2</th>\n",
       "      <td>31112</td>\n",
       "      <td>Male</td>\n",
       "      <td>80.0</td>\n",
       "      <td>0</td>\n",
       "      <td>1</td>\n",
       "      <td>Yes</td>\n",
       "      <td>Private</td>\n",
       "      <td>Rural</td>\n",
       "      <td>105.92</td>\n",
       "      <td>32.5</td>\n",
       "      <td>never smoked</td>\n",
       "      <td>1</td>\n",
       "    </tr>\n",
       "    <tr>\n",
       "      <th>3</th>\n",
       "      <td>60182</td>\n",
       "      <td>Female</td>\n",
       "      <td>49.0</td>\n",
       "      <td>0</td>\n",
       "      <td>0</td>\n",
       "      <td>Yes</td>\n",
       "      <td>Private</td>\n",
       "      <td>Urban</td>\n",
       "      <td>171.23</td>\n",
       "      <td>34.4</td>\n",
       "      <td>smokes</td>\n",
       "      <td>1</td>\n",
       "    </tr>\n",
       "    <tr>\n",
       "      <th>4</th>\n",
       "      <td>1665</td>\n",
       "      <td>Female</td>\n",
       "      <td>79.0</td>\n",
       "      <td>1</td>\n",
       "      <td>0</td>\n",
       "      <td>Yes</td>\n",
       "      <td>Self-employed</td>\n",
       "      <td>Rural</td>\n",
       "      <td>174.12</td>\n",
       "      <td>24.0</td>\n",
       "      <td>never smoked</td>\n",
       "      <td>1</td>\n",
       "    </tr>\n",
       "  </tbody>\n",
       "</table>\n",
       "</div>"
      ],
      "text/plain": [
       "      id  gender   age  hypertension  heart_disease ever_married  \\\n",
       "0   9046    Male  67.0             0              1          Yes   \n",
       "1  51676  Female  61.0             0              0          Yes   \n",
       "2  31112    Male  80.0             0              1          Yes   \n",
       "3  60182  Female  49.0             0              0          Yes   \n",
       "4   1665  Female  79.0             1              0          Yes   \n",
       "\n",
       "       work_type Residence_type  avg_glucose_level   bmi   smoking_status  \\\n",
       "0        Private          Urban             228.69  36.6  formerly smoked   \n",
       "1  Self-employed          Rural             202.21   NaN     never smoked   \n",
       "2        Private          Rural             105.92  32.5     never smoked   \n",
       "3        Private          Urban             171.23  34.4           smokes   \n",
       "4  Self-employed          Rural             174.12  24.0     never smoked   \n",
       "\n",
       "   stroke  \n",
       "0       1  \n",
       "1       1  \n",
       "2       1  \n",
       "3       1  \n",
       "4       1  "
      ]
     },
     "execution_count": 52,
     "metadata": {},
     "output_type": "execute_result"
    }
   ],
   "source": [
    "df.head()"
   ]
  },
  {
   "cell_type": "code",
   "execution_count": 53,
   "id": "crazy-actor",
   "metadata": {},
   "outputs": [
    {
     "data": {
      "text/plain": [
       "0       228.69\n",
       "1       202.21\n",
       "2       105.92\n",
       "3       171.23\n",
       "4       174.12\n",
       "         ...  \n",
       "5105     83.75\n",
       "5106    125.20\n",
       "5107     82.99\n",
       "5108    166.29\n",
       "5109     85.28\n",
       "Name: avg_glucose_level, Length: 5110, dtype: float64"
      ]
     },
     "execution_count": 53,
     "metadata": {},
     "output_type": "execute_result"
    }
   ],
   "source": [
    "population = df['avg_glucose_level']\n",
    "population"
   ]
  },
  {
   "cell_type": "code",
   "execution_count": 54,
   "id": "8bb890d5-3a73-4304-bbaf-94a91cca9fe3",
   "metadata": {},
   "outputs": [
    {
     "data": {
      "text/plain": [
       "106.1476771037182"
      ]
     },
     "execution_count": 54,
     "metadata": {},
     "output_type": "execute_result"
    }
   ],
   "source": [
    "population_mean = population.mean()\n",
    "population_mean"
   ]
  },
  {
   "cell_type": "code",
   "execution_count": 55,
   "id": "a9b4c169-bcc2-44f5-93fd-352cc205b990",
   "metadata": {},
   "outputs": [
    {
     "data": {
      "text/plain": [
       "45.28356015058198"
      ]
     },
     "execution_count": 55,
     "metadata": {},
     "output_type": "execute_result"
    }
   ],
   "source": [
    "population_std = population.std()\n",
    "population_std"
   ]
  },
  {
   "cell_type": "code",
   "execution_count": 58,
   "id": "reliable-rugby",
   "metadata": {},
   "outputs": [
    {
     "data": {
      "text/plain": [
       "Text(111.1476771037182, 350, 'Population Mean\\n106.15')"
      ]
     },
     "execution_count": 58,
     "metadata": {},
     "output_type": "execute_result"
    },
    {
     "data": {
      "image/png": "[encoded data removed]",
      "text/plain": [
       "<Figure size 720x432 with 1 Axes>"
      ]
     },
     "metadata": {
      "needs_background": "light"
     },
     "output_type": "display_data"
    }
   ],
   "source": [
    "plt.figure(figsize=(10,6))\n",
    "ax = sns.histplot(population, kde=True)  # the distribution is not normal\n",
    "ax.axvline(x=population_mean, color='red')\n",
    "ax.annotate(f'Population Mean\\n{population_mean:.2f}', xy=(population_mean + 5, 350))"
   ]
  },
  {
   "cell_type": "markdown",
   "id": "upper-tutorial",
   "metadata": {},
   "source": [
    "<br/>\n",
    "\n",
    "#### The data distribution of a sample does not necessarily follow the **normal distribution**"
   ]
  },
  {
   "cell_type": "code",
   "execution_count": 57,
   "id": "central-twenty",
   "metadata": {},
   "outputs": [],
   "source": [
    "sample_100 = population.sample(100, random_state=999)"
   ]
  },
  {
   "cell_type": "code",
   "execution_count": 59,
   "id": "seven-anger",
   "metadata": {},
   "outputs": [
    {
     "data": {
      "text/plain": [
       "<AxesSubplot:xlabel='avg_glucose_level', ylabel='Count'>"
      ]
     },
     "execution_count": 59,
     "metadata": {},
     "output_type": "execute_result"
    },
    {
     "data": {
      "image/png": "[encoded data removed]",
      "text/plain": [
       "<Figure size 720x432 with 1 Axes>"
      ]
     },
     "metadata": {
      "needs_background": "light"
     },
     "output_type": "display_data"
    }
   ],
   "source": [
    "plt.figure(figsize=(10,6))\n",
    "sns.histplot(sample_100, kde=True)"
   ]
  },
  {
   "cell_type": "markdown",
   "id": "creative-management",
   "metadata": {},
   "source": [
    "#### As the sample size increases, the **sampling distribution of the mean** approaches a **normal distribution** with the **sampling distribution’s mean** equals **the population mean**"
   ]
  },
  {
   "cell_type": "code",
   "execution_count": 60,
   "id": "instant-squad",
   "metadata": {},
   "outputs": [],
   "source": [
    "# Dictionary where each key correspond to a sample size\n",
    "# For each sample size, there is a dataframe with 1000 samples associated to\n",
    "samples = {}\n",
    "\n",
    "for n in [5, 10, 30, 100, 1000]:\n",
    "    df_sample_size = pd.DataFrame()\n",
    "    \n",
    "    for i in range(1000):\n",
    "        sample = population.sample(n)\n",
    "        sample.reset_index(drop=True, inplace=True)  # requires this \"trick\" to work\n",
    "        df_sample_size[f'Sample #{i}'] = sample\n",
    "    \n",
    "    samples[n] = df_sample_size"
   ]
  },
  {
   "cell_type": "code",
   "execution_count": 61,
   "id": "facial-ireland",
   "metadata": {},
   "outputs": [
    {
     "data": {
      "text/plain": [
       "dict_keys([5, 10, 30, 100, 1000])"
      ]
     },
     "execution_count": 61,
     "metadata": {},
     "output_type": "execute_result"
    }
   ],
   "source": [
    "samples.keys()"
   ]
  },
  {
   "cell_type": "code",
   "execution_count": 62,
   "id": "processed-mortgage",
   "metadata": {},
   "outputs": [
    {
     "data": {
      "text/html": [
       "<div>\n",
       "<style scoped>\n",
       "    .dataframe tbody tr th:only-of-type {\n",
       "        vertical-align: middle;\n",
       "    }\n",
       "\n",
       "    .dataframe tbody tr th {\n",
       "        vertical-align: top;\n",
       "    }\n",
       "\n",
       "    .dataframe thead th {\n",
       "        text-align: right;\n",
       "    }\n",
       "</style>\n",
       "<table border=\"1\" class=\"dataframe\">\n",
       "  <thead>\n",
       "    <tr style=\"text-align: right;\">\n",
       "      <th></th>\n",
       "      <th>Sample #0</th>\n",
       "      <th>Sample #1</th>\n",
       "      <th>Sample #2</th>\n",
       "      <th>Sample #3</th>\n",
       "      <th>Sample #4</th>\n",
       "      <th>Sample #5</th>\n",
       "      <th>Sample #6</th>\n",
       "      <th>Sample #7</th>\n",
       "      <th>Sample #8</th>\n",
       "      <th>Sample #9</th>\n",
       "      <th>...</th>\n",
       "      <th>Sample #990</th>\n",
       "      <th>Sample #991</th>\n",
       "      <th>Sample #992</th>\n",
       "      <th>Sample #993</th>\n",
       "      <th>Sample #994</th>\n",
       "      <th>Sample #995</th>\n",
       "      <th>Sample #996</th>\n",
       "      <th>Sample #997</th>\n",
       "      <th>Sample #998</th>\n",
       "      <th>Sample #999</th>\n",
       "    </tr>\n",
       "  </thead>\n",
       "  <tbody>\n",
       "    <tr>\n",
       "      <th>0</th>\n",
       "      <td>81.77</td>\n",
       "      <td>82.32</td>\n",
       "      <td>71.91</td>\n",
       "      <td>107.74</td>\n",
       "      <td>84.86</td>\n",
       "      <td>91.88</td>\n",
       "      <td>101.56</td>\n",
       "      <td>66.46</td>\n",
       "      <td>88.05</td>\n",
       "      <td>88.54</td>\n",
       "      <td>...</td>\n",
       "      <td>89.16</td>\n",
       "      <td>91.57</td>\n",
       "      <td>114.34</td>\n",
       "      <td>84.18</td>\n",
       "      <td>56.74</td>\n",
       "      <td>147.04</td>\n",
       "      <td>94.62</td>\n",
       "      <td>100.61</td>\n",
       "      <td>89.30</td>\n",
       "      <td>83.28</td>\n",
       "    </tr>\n",
       "    <tr>\n",
       "      <th>1</th>\n",
       "      <td>71.22</td>\n",
       "      <td>114.94</td>\n",
       "      <td>144.08</td>\n",
       "      <td>107.11</td>\n",
       "      <td>77.59</td>\n",
       "      <td>105.08</td>\n",
       "      <td>71.06</td>\n",
       "      <td>109.52</td>\n",
       "      <td>75.30</td>\n",
       "      <td>77.12</td>\n",
       "      <td>...</td>\n",
       "      <td>81.74</td>\n",
       "      <td>81.66</td>\n",
       "      <td>113.11</td>\n",
       "      <td>237.74</td>\n",
       "      <td>194.99</td>\n",
       "      <td>96.26</td>\n",
       "      <td>63.43</td>\n",
       "      <td>83.91</td>\n",
       "      <td>84.90</td>\n",
       "      <td>61.29</td>\n",
       "    </tr>\n",
       "    <tr>\n",
       "      <th>2</th>\n",
       "      <td>223.83</td>\n",
       "      <td>188.69</td>\n",
       "      <td>79.81</td>\n",
       "      <td>112.09</td>\n",
       "      <td>62.81</td>\n",
       "      <td>88.92</td>\n",
       "      <td>97.39</td>\n",
       "      <td>100.93</td>\n",
       "      <td>103.08</td>\n",
       "      <td>119.61</td>\n",
       "      <td>...</td>\n",
       "      <td>56.75</td>\n",
       "      <td>72.36</td>\n",
       "      <td>103.69</td>\n",
       "      <td>124.64</td>\n",
       "      <td>88.32</td>\n",
       "      <td>65.96</td>\n",
       "      <td>68.76</td>\n",
       "      <td>90.46</td>\n",
       "      <td>103.62</td>\n",
       "      <td>76.26</td>\n",
       "    </tr>\n",
       "    <tr>\n",
       "      <th>3</th>\n",
       "      <td>73.29</td>\n",
       "      <td>144.90</td>\n",
       "      <td>92.16</td>\n",
       "      <td>112.25</td>\n",
       "      <td>91.25</td>\n",
       "      <td>72.09</td>\n",
       "      <td>88.79</td>\n",
       "      <td>60.98</td>\n",
       "      <td>76.26</td>\n",
       "      <td>116.67</td>\n",
       "      <td>...</td>\n",
       "      <td>115.46</td>\n",
       "      <td>88.57</td>\n",
       "      <td>76.93</td>\n",
       "      <td>105.49</td>\n",
       "      <td>97.39</td>\n",
       "      <td>99.47</td>\n",
       "      <td>65.90</td>\n",
       "      <td>81.33</td>\n",
       "      <td>88.02</td>\n",
       "      <td>99.00</td>\n",
       "    </tr>\n",
       "    <tr>\n",
       "      <th>4</th>\n",
       "      <td>68.35</td>\n",
       "      <td>95.79</td>\n",
       "      <td>104.64</td>\n",
       "      <td>102.84</td>\n",
       "      <td>74.16</td>\n",
       "      <td>60.22</td>\n",
       "      <td>104.07</td>\n",
       "      <td>86.93</td>\n",
       "      <td>88.54</td>\n",
       "      <td>83.52</td>\n",
       "      <td>...</td>\n",
       "      <td>95.02</td>\n",
       "      <td>86.57</td>\n",
       "      <td>68.35</td>\n",
       "      <td>67.78</td>\n",
       "      <td>97.35</td>\n",
       "      <td>92.26</td>\n",
       "      <td>83.76</td>\n",
       "      <td>83.52</td>\n",
       "      <td>206.66</td>\n",
       "      <td>139.77</td>\n",
       "    </tr>\n",
       "  </tbody>\n",
       "</table>\n",
       "<p>5 rows × 1000 columns</p>\n",
       "</div>"
      ],
      "text/plain": [
       "   Sample #0  Sample #1  Sample #2  Sample #3  Sample #4  Sample #5  \\\n",
       "0      81.77      82.32      71.91     107.74      84.86      91.88   \n",
       "1      71.22     114.94     144.08     107.11      77.59     105.08   \n",
       "2     223.83     188.69      79.81     112.09      62.81      88.92   \n",
       "3      73.29     144.90      92.16     112.25      91.25      72.09   \n",
       "4      68.35      95.79     104.64     102.84      74.16      60.22   \n",
       "\n",
       "   Sample #6  Sample #7  Sample #8  Sample #9  ...  Sample #990  Sample #991  \\\n",
       "0     101.56      66.46      88.05      88.54  ...        89.16        91.57   \n",
       "1      71.06     109.52      75.30      77.12  ...        81.74        81.66   \n",
       "2      97.39     100.93     103.08     119.61  ...        56.75        72.36   \n",
       "3      88.79      60.98      76.26     116.67  ...       115.46        88.57   \n",
       "4     104.07      86.93      88.54      83.52  ...        95.02        86.57   \n",
       "\n",
       "   Sample #992  Sample #993  Sample #994  Sample #995  Sample #996  \\\n",
       "0       114.34        84.18        56.74       147.04        94.62   \n",
       "1       113.11       237.74       194.99        96.26        63.43   \n",
       "2       103.69       124.64        88.32        65.96        68.76   \n",
       "3        76.93       105.49        97.39        99.47        65.90   \n",
       "4        68.35        67.78        97.35        92.26        83.76   \n",
       "\n",
       "   Sample #997  Sample #998  Sample #999  \n",
       "0       100.61        89.30        83.28  \n",
       "1        83.91        84.90        61.29  \n",
       "2        90.46       103.62        76.26  \n",
       "3        81.33        88.02        99.00  \n",
       "4        83.52       206.66       139.77  \n",
       "\n",
       "[5 rows x 1000 columns]"
      ]
     },
     "execution_count": 62,
     "metadata": {},
     "output_type": "execute_result"
    }
   ],
   "source": [
    "samples[5]"
   ]
  },
  {
   "cell_type": "code",
   "execution_count": 63,
   "id": "proof-chocolate",
   "metadata": {},
   "outputs": [
    {
     "data": {
      "text/html": [
       "<div>\n",
       "<style scoped>\n",
       "    .dataframe tbody tr th:only-of-type {\n",
       "        vertical-align: middle;\n",
       "    }\n",
       "\n",
       "    .dataframe tbody tr th {\n",
       "        vertical-align: top;\n",
       "    }\n",
       "\n",
       "    .dataframe thead th {\n",
       "        text-align: right;\n",
       "    }\n",
       "</style>\n",
       "<table border=\"1\" class=\"dataframe\">\n",
       "  <thead>\n",
       "    <tr style=\"text-align: right;\">\n",
       "      <th></th>\n",
       "      <th>Sample #0</th>\n",
       "      <th>Sample #1</th>\n",
       "      <th>Sample #2</th>\n",
       "      <th>Sample #3</th>\n",
       "      <th>Sample #4</th>\n",
       "      <th>Sample #5</th>\n",
       "      <th>Sample #6</th>\n",
       "      <th>Sample #7</th>\n",
       "      <th>Sample #8</th>\n",
       "      <th>Sample #9</th>\n",
       "      <th>...</th>\n",
       "      <th>Sample #990</th>\n",
       "      <th>Sample #991</th>\n",
       "      <th>Sample #992</th>\n",
       "      <th>Sample #993</th>\n",
       "      <th>Sample #994</th>\n",
       "      <th>Sample #995</th>\n",
       "      <th>Sample #996</th>\n",
       "      <th>Sample #997</th>\n",
       "      <th>Sample #998</th>\n",
       "      <th>Sample #999</th>\n",
       "    </tr>\n",
       "  </thead>\n",
       "  <tbody>\n",
       "    <tr>\n",
       "      <th>0</th>\n",
       "      <td>191.94</td>\n",
       "      <td>96.85</td>\n",
       "      <td>90.57</td>\n",
       "      <td>59.36</td>\n",
       "      <td>68.48</td>\n",
       "      <td>103.37</td>\n",
       "      <td>65.12</td>\n",
       "      <td>128.72</td>\n",
       "      <td>85.98</td>\n",
       "      <td>196.58</td>\n",
       "      <td>...</td>\n",
       "      <td>90.62</td>\n",
       "      <td>235.63</td>\n",
       "      <td>210.23</td>\n",
       "      <td>106.13</td>\n",
       "      <td>78.43</td>\n",
       "      <td>83.82</td>\n",
       "      <td>96.62</td>\n",
       "      <td>229.21</td>\n",
       "      <td>223.68</td>\n",
       "      <td>95.66</td>\n",
       "    </tr>\n",
       "    <tr>\n",
       "      <th>1</th>\n",
       "      <td>56.30</td>\n",
       "      <td>77.44</td>\n",
       "      <td>102.54</td>\n",
       "      <td>101.35</td>\n",
       "      <td>103.94</td>\n",
       "      <td>158.89</td>\n",
       "      <td>60.53</td>\n",
       "      <td>123.95</td>\n",
       "      <td>99.91</td>\n",
       "      <td>68.60</td>\n",
       "      <td>...</td>\n",
       "      <td>124.66</td>\n",
       "      <td>58.03</td>\n",
       "      <td>74.24</td>\n",
       "      <td>94.14</td>\n",
       "      <td>70.55</td>\n",
       "      <td>100.84</td>\n",
       "      <td>107.47</td>\n",
       "      <td>110.84</td>\n",
       "      <td>80.88</td>\n",
       "      <td>116.84</td>\n",
       "    </tr>\n",
       "    <tr>\n",
       "      <th>2</th>\n",
       "      <td>65.34</td>\n",
       "      <td>69.04</td>\n",
       "      <td>65.34</td>\n",
       "      <td>74.23</td>\n",
       "      <td>77.37</td>\n",
       "      <td>95.81</td>\n",
       "      <td>60.01</td>\n",
       "      <td>207.60</td>\n",
       "      <td>83.16</td>\n",
       "      <td>225.35</td>\n",
       "      <td>...</td>\n",
       "      <td>94.38</td>\n",
       "      <td>231.54</td>\n",
       "      <td>80.21</td>\n",
       "      <td>199.14</td>\n",
       "      <td>65.09</td>\n",
       "      <td>57.95</td>\n",
       "      <td>138.47</td>\n",
       "      <td>79.64</td>\n",
       "      <td>113.34</td>\n",
       "      <td>104.03</td>\n",
       "    </tr>\n",
       "    <tr>\n",
       "      <th>3</th>\n",
       "      <td>239.52</td>\n",
       "      <td>98.71</td>\n",
       "      <td>85.07</td>\n",
       "      <td>55.35</td>\n",
       "      <td>59.86</td>\n",
       "      <td>111.84</td>\n",
       "      <td>82.44</td>\n",
       "      <td>176.34</td>\n",
       "      <td>63.28</td>\n",
       "      <td>77.66</td>\n",
       "      <td>...</td>\n",
       "      <td>109.69</td>\n",
       "      <td>76.08</td>\n",
       "      <td>80.55</td>\n",
       "      <td>97.55</td>\n",
       "      <td>77.91</td>\n",
       "      <td>90.43</td>\n",
       "      <td>68.40</td>\n",
       "      <td>72.49</td>\n",
       "      <td>124.78</td>\n",
       "      <td>99.67</td>\n",
       "    </tr>\n",
       "    <tr>\n",
       "      <th>4</th>\n",
       "      <td>62.60</td>\n",
       "      <td>73.24</td>\n",
       "      <td>97.58</td>\n",
       "      <td>105.51</td>\n",
       "      <td>62.60</td>\n",
       "      <td>92.86</td>\n",
       "      <td>122.50</td>\n",
       "      <td>164.67</td>\n",
       "      <td>111.48</td>\n",
       "      <td>102.07</td>\n",
       "      <td>...</td>\n",
       "      <td>74.23</td>\n",
       "      <td>86.92</td>\n",
       "      <td>111.15</td>\n",
       "      <td>70.07</td>\n",
       "      <td>78.24</td>\n",
       "      <td>85.48</td>\n",
       "      <td>97.90</td>\n",
       "      <td>78.75</td>\n",
       "      <td>111.65</td>\n",
       "      <td>64.37</td>\n",
       "    </tr>\n",
       "    <tr>\n",
       "      <th>...</th>\n",
       "      <td>...</td>\n",
       "      <td>...</td>\n",
       "      <td>...</td>\n",
       "      <td>...</td>\n",
       "      <td>...</td>\n",
       "      <td>...</td>\n",
       "      <td>...</td>\n",
       "      <td>...</td>\n",
       "      <td>...</td>\n",
       "      <td>...</td>\n",
       "      <td>...</td>\n",
       "      <td>...</td>\n",
       "      <td>...</td>\n",
       "      <td>...</td>\n",
       "      <td>...</td>\n",
       "      <td>...</td>\n",
       "      <td>...</td>\n",
       "      <td>...</td>\n",
       "      <td>...</td>\n",
       "      <td>...</td>\n",
       "      <td>...</td>\n",
       "    </tr>\n",
       "    <tr>\n",
       "      <th>95</th>\n",
       "      <td>77.01</td>\n",
       "      <td>107.46</td>\n",
       "      <td>219.80</td>\n",
       "      <td>68.40</td>\n",
       "      <td>97.59</td>\n",
       "      <td>62.20</td>\n",
       "      <td>122.46</td>\n",
       "      <td>70.53</td>\n",
       "      <td>89.68</td>\n",
       "      <td>126.34</td>\n",
       "      <td>...</td>\n",
       "      <td>218.65</td>\n",
       "      <td>94.63</td>\n",
       "      <td>75.25</td>\n",
       "      <td>237.17</td>\n",
       "      <td>216.90</td>\n",
       "      <td>82.40</td>\n",
       "      <td>81.51</td>\n",
       "      <td>70.03</td>\n",
       "      <td>84.88</td>\n",
       "      <td>84.70</td>\n",
       "    </tr>\n",
       "    <tr>\n",
       "      <th>96</th>\n",
       "      <td>135.79</td>\n",
       "      <td>167.31</td>\n",
       "      <td>69.16</td>\n",
       "      <td>196.61</td>\n",
       "      <td>95.33</td>\n",
       "      <td>57.02</td>\n",
       "      <td>105.73</td>\n",
       "      <td>111.19</td>\n",
       "      <td>76.56</td>\n",
       "      <td>74.81</td>\n",
       "      <td>...</td>\n",
       "      <td>98.61</td>\n",
       "      <td>122.83</td>\n",
       "      <td>80.99</td>\n",
       "      <td>61.75</td>\n",
       "      <td>149.15</td>\n",
       "      <td>110.33</td>\n",
       "      <td>95.59</td>\n",
       "      <td>56.47</td>\n",
       "      <td>114.71</td>\n",
       "      <td>104.77</td>\n",
       "    </tr>\n",
       "    <tr>\n",
       "      <th>97</th>\n",
       "      <td>91.95</td>\n",
       "      <td>59.68</td>\n",
       "      <td>78.52</td>\n",
       "      <td>97.93</td>\n",
       "      <td>84.44</td>\n",
       "      <td>92.35</td>\n",
       "      <td>93.89</td>\n",
       "      <td>207.58</td>\n",
       "      <td>227.68</td>\n",
       "      <td>195.25</td>\n",
       "      <td>...</td>\n",
       "      <td>141.16</td>\n",
       "      <td>120.44</td>\n",
       "      <td>221.29</td>\n",
       "      <td>87.06</td>\n",
       "      <td>68.37</td>\n",
       "      <td>147.14</td>\n",
       "      <td>81.87</td>\n",
       "      <td>234.58</td>\n",
       "      <td>115.42</td>\n",
       "      <td>76.03</td>\n",
       "    </tr>\n",
       "    <tr>\n",
       "      <th>98</th>\n",
       "      <td>69.72</td>\n",
       "      <td>121.11</td>\n",
       "      <td>77.92</td>\n",
       "      <td>91.13</td>\n",
       "      <td>70.34</td>\n",
       "      <td>63.78</td>\n",
       "      <td>97.78</td>\n",
       "      <td>78.48</td>\n",
       "      <td>74.29</td>\n",
       "      <td>61.04</td>\n",
       "      <td>...</td>\n",
       "      <td>88.41</td>\n",
       "      <td>100.29</td>\n",
       "      <td>90.51</td>\n",
       "      <td>231.72</td>\n",
       "      <td>119.67</td>\n",
       "      <td>62.61</td>\n",
       "      <td>83.73</td>\n",
       "      <td>58.81</td>\n",
       "      <td>112.30</td>\n",
       "      <td>90.10</td>\n",
       "    </tr>\n",
       "    <tr>\n",
       "      <th>99</th>\n",
       "      <td>71.06</td>\n",
       "      <td>58.29</td>\n",
       "      <td>231.72</td>\n",
       "      <td>83.83</td>\n",
       "      <td>114.71</td>\n",
       "      <td>80.05</td>\n",
       "      <td>72.16</td>\n",
       "      <td>120.58</td>\n",
       "      <td>223.83</td>\n",
       "      <td>238.53</td>\n",
       "      <td>...</td>\n",
       "      <td>169.43</td>\n",
       "      <td>88.47</td>\n",
       "      <td>72.49</td>\n",
       "      <td>56.42</td>\n",
       "      <td>119.88</td>\n",
       "      <td>79.33</td>\n",
       "      <td>82.85</td>\n",
       "      <td>204.77</td>\n",
       "      <td>113.41</td>\n",
       "      <td>101.75</td>\n",
       "    </tr>\n",
       "  </tbody>\n",
       "</table>\n",
       "<p>100 rows × 1000 columns</p>\n",
       "</div>"
      ],
      "text/plain": [
       "    Sample #0  Sample #1  Sample #2  Sample #3  Sample #4  Sample #5  \\\n",
       "0      191.94      96.85      90.57      59.36      68.48     103.37   \n",
       "1       56.30      77.44     102.54     101.35     103.94     158.89   \n",
       "2       65.34      69.04      65.34      74.23      77.37      95.81   \n",
       "3      239.52      98.71      85.07      55.35      59.86     111.84   \n",
       "4       62.60      73.24      97.58     105.51      62.60      92.86   \n",
       "..        ...        ...        ...        ...        ...        ...   \n",
       "95      77.01     107.46     219.80      68.40      97.59      62.20   \n",
       "96     135.79     167.31      69.16     196.61      95.33      57.02   \n",
       "97      91.95      59.68      78.52      97.93      84.44      92.35   \n",
       "98      69.72     121.11      77.92      91.13      70.34      63.78   \n",
       "99      71.06      58.29     231.72      83.83     114.71      80.05   \n",
       "\n",
       "    Sample #6  Sample #7  Sample #8  Sample #9  ...  Sample #990  Sample #991  \\\n",
       "0       65.12     128.72      85.98     196.58  ...        90.62       235.63   \n",
       "1       60.53     123.95      99.91      68.60  ...       124.66        58.03   \n",
       "2       60.01     207.60      83.16     225.35  ...        94.38       231.54   \n",
       "3       82.44     176.34      63.28      77.66  ...       109.69        76.08   \n",
       "4      122.50     164.67     111.48     102.07  ...        74.23        86.92   \n",
       "..        ...        ...        ...        ...  ...          ...          ...   \n",
       "95     122.46      70.53      89.68     126.34  ...       218.65        94.63   \n",
       "96     105.73     111.19      76.56      74.81  ...        98.61       122.83   \n",
       "97      93.89     207.58     227.68     195.25  ...       141.16       120.44   \n",
       "98      97.78      78.48      74.29      61.04  ...        88.41       100.29   \n",
       "99      72.16     120.58     223.83     238.53  ...       169.43        88.47   \n",
       "\n",
       "    Sample #992  Sample #993  Sample #994  Sample #995  Sample #996  \\\n",
       "0        210.23       106.13        78.43        83.82        96.62   \n",
       "1         74.24        94.14        70.55       100.84       107.47   \n",
       "2         80.21       199.14        65.09        57.95       138.47   \n",
       "3         80.55        97.55        77.91        90.43        68.40   \n",
       "4        111.15        70.07        78.24        85.48        97.90   \n",
       "..          ...          ...          ...          ...          ...   \n",
       "95        75.25       237.17       216.90        82.40        81.51   \n",
       "96        80.99        61.75       149.15       110.33        95.59   \n",
       "97       221.29        87.06        68.37       147.14        81.87   \n",
       "98        90.51       231.72       119.67        62.61        83.73   \n",
       "99        72.49        56.42       119.88        79.33        82.85   \n",
       "\n",
       "    Sample #997  Sample #998  Sample #999  \n",
       "0        229.21       223.68        95.66  \n",
       "1        110.84        80.88       116.84  \n",
       "2         79.64       113.34       104.03  \n",
       "3         72.49       124.78        99.67  \n",
       "4         78.75       111.65        64.37  \n",
       "..          ...          ...          ...  \n",
       "95        70.03        84.88        84.70  \n",
       "96        56.47       114.71       104.77  \n",
       "97       234.58       115.42        76.03  \n",
       "98        58.81       112.30        90.10  \n",
       "99       204.77       113.41       101.75  \n",
       "\n",
       "[100 rows x 1000 columns]"
      ]
     },
     "execution_count": 63,
     "metadata": {},
     "output_type": "execute_result"
    }
   ],
   "source": [
    "samples[100]"
   ]
  },
  {
   "cell_type": "code",
   "execution_count": 64,
   "id": "cardiovascular-plate",
   "metadata": {},
   "outputs": [
    {
     "data": {
      "text/plain": [
       "Sample #0      109.6160\n",
       "Sample #1      103.1817\n",
       "Sample #2      101.0369\n",
       "Sample #3      100.9075\n",
       "Sample #4      101.1544\n",
       "                 ...   \n",
       "Sample #995    104.8681\n",
       "Sample #996    103.6366\n",
       "Sample #997    111.2125\n",
       "Sample #998    105.0462\n",
       "Sample #999    110.3377\n",
       "Length: 1000, dtype: float64"
      ]
     },
     "execution_count": 64,
     "metadata": {},
     "output_type": "execute_result"
    }
   ],
   "source": [
    "# mean of each one of the 1000 samples with sample size of 100\n",
    "samples[100].mean()"
   ]
  },
  {
   "cell_type": "code",
   "execution_count": 65,
   "id": "valued-circulation",
   "metadata": {},
   "outputs": [
    {
     "data": {
      "image/png": "[encoded data removed]",
      "text/plain": [
       "<Figure size 1728x216 with 5 Axes>"
      ]
     },
     "metadata": {
      "needs_background": "light"
     },
     "output_type": "display_data"
    }
   ],
   "source": [
    "sample_sizes = sorted(samples.keys())\n",
    "\n",
    "fig, axs = plt.subplots(1, 5, figsize=(24, 3))\n",
    "\n",
    "for i, n in enumerate(sample_sizes):\n",
    "    sampling_distribution = samples[n].mean()\n",
    "    mean_of_sampling_distribution = sampling_distribution.mean()\n",
    "    \n",
    "    ax = sns.histplot(sampling_distribution, ax=axs[i])\n",
    "    axs[i].axvline(x=mean_of_sampling_distribution, color='red')\n",
    "    ax.annotate(f'Mean\\n{mean_of_sampling_distribution:.2f}', xy=(mean_of_sampling_distribution + 1, 120))\n",
    "    ax.spines['top'].set_visible(False)\n",
    "    ax.set_ylim([0, 130])"
   ]
  },
  {
   "cell_type": "markdown",
   "id": "secure-egypt",
   "metadata": {},
   "source": [
    "#### Standard error"
   ]
  },
  {
   "cell_type": "markdown",
   "id": "public-latest",
   "metadata": {},
   "source": [
    "<img src='./imgs/standard_error.png' width=150 />"
   ]
  },
  {
   "cell_type": "code",
   "execution_count": 66,
   "id": "aa85122c-a088-4a56-953e-d98848c56e8e",
   "metadata": {},
   "outputs": [
    {
     "data": {
      "text/plain": [
       "45.28356015058198"
      ]
     },
     "execution_count": 66,
     "metadata": {},
     "output_type": "execute_result"
    }
   ],
   "source": [
    "population_std"
   ]
  },
  {
   "cell_type": "code",
   "execution_count": 67,
   "id": "1ca4d589-7be9-4814-892a-56629df26a78",
   "metadata": {},
   "outputs": [
    {
     "data": {
      "text/plain": [
       "[5, 10, 30, 100, 1000]"
      ]
     },
     "execution_count": 67,
     "metadata": {},
     "output_type": "execute_result"
    }
   ],
   "source": [
    "sample_sizes"
   ]
  },
  {
   "cell_type": "code",
   "execution_count": 68,
   "id": "focused-olive",
   "metadata": {},
   "outputs": [
    {
     "name": "stdout",
     "output_type": "stream",
     "text": [
      "Population standard deviation = 45.28\n",
      "\n",
      "Standard Error for n=5: 20.25\n",
      "Standard Error for n=10: 14.32\n",
      "Standard Error for n=30: 8.27\n",
      "Standard Error for n=100: 4.53\n",
      "Standard Error for n=1000: 1.43\n"
     ]
    }
   ],
   "source": [
    "print(f'Population standard deviation = {population_std:.2f}\\n')\n",
    "\n",
    "for n in sample_sizes:\n",
    "    standard_error = population_std / np.sqrt(n)\n",
    "    print(f'Standard Error for n={n}: {standard_error:.2f}')"
   ]
  },
  {
   "cell_type": "markdown",
   "id": "spectacular-friend",
   "metadata": {},
   "source": [
    "**The larger the sample size, the smaller the standard error.**"
   ]
  },
  {
   "cell_type": "markdown",
   "id": "attached-message",
   "metadata": {},
   "source": [
    "<br/>\n",
    "\n",
    "# 3. Confidence Interval"
   ]
  },
  {
   "cell_type": "markdown",
   "id": "lasting-medicine",
   "metadata": {},
   "source": [
    "<img src='./imgs/confidence_interval.png' width=700 />"
   ]
  },
  {
   "cell_type": "markdown",
   "id": "random-library",
   "metadata": {},
   "source": [
    "- A **90% level of confidence** has 𝜶 = 0.10 and **critical value** of 𝑧𝛼/2 = 1.64.\n",
    "- A **95% level of confidence** has 𝜶 = 0.05 and **critical value** of 𝑧𝛼/2 = 1.96.\n",
    "- A **99% level of confidence** has 𝜶 = 0.01 and **critical value** of 𝑧𝛼/2 = 2.58."
   ]
  },
  {
   "cell_type": "markdown",
   "id": "talented-manual",
   "metadata": {},
   "source": [
    "## Exercise 1\n",
    "Suppose the heights of the inhabitants of a city are **normally distributed** with **population standard deviation** of 20 cm.\n",
    "We measure the heights of **40** randomly chosen people, and get a **mean height** of 1.75 m.\n",
    "Construct a **confidence interval** for the population mean with a **significance level of 5%**."
   ]
  },
  {
   "cell_type": "markdown",
   "id": "lesser-positive",
   "metadata": {},
   "source": [
    "### Sample size"
   ]
  },
  {
   "cell_type": "code",
   "execution_count": 69,
   "id": "strategic-tackle",
   "metadata": {},
   "outputs": [
    {
     "data": {
      "text/plain": [
       "40"
      ]
     },
     "execution_count": 69,
     "metadata": {},
     "output_type": "execute_result"
    }
   ],
   "source": [
    "# sample_size\n",
    "n = 40\n",
    "n"
   ]
  },
  {
   "cell_type": "markdown",
   "id": "collaborative-request",
   "metadata": {},
   "source": [
    "### Population standard deviation and sample mean"
   ]
  },
  {
   "cell_type": "code",
   "execution_count": 70,
   "id": "accurate-mason",
   "metadata": {},
   "outputs": [
    {
     "data": {
      "text/plain": [
       "20"
      ]
     },
     "execution_count": 70,
     "metadata": {},
     "output_type": "execute_result"
    }
   ],
   "source": [
    "population_std = 20\n",
    "population_std"
   ]
  },
  {
   "cell_type": "code",
   "execution_count": 71,
   "id": "aerial-weekly",
   "metadata": {},
   "outputs": [
    {
     "data": {
      "text/plain": [
       "175"
      ]
     },
     "execution_count": 71,
     "metadata": {},
     "output_type": "execute_result"
    }
   ],
   "source": [
    "# x_bar\n",
    "sample_mean = 175  # converting to the same unit\n",
    "sample_mean"
   ]
  },
  {
   "cell_type": "markdown",
   "id": "moving-australian",
   "metadata": {},
   "source": [
    "### Significance level (α)"
   ]
  },
  {
   "cell_type": "code",
   "execution_count": 72,
   "id": "differential-colony",
   "metadata": {},
   "outputs": [
    {
     "data": {
      "text/plain": [
       "0.05"
      ]
     },
     "execution_count": 72,
     "metadata": {},
     "output_type": "execute_result"
    }
   ],
   "source": [
    "significance_level = 0.05\n",
    "significance_level"
   ]
  },
  {
   "cell_type": "markdown",
   "id": "fresh-copper",
   "metadata": {},
   "source": [
    "### Confidence level (1 - α)"
   ]
  },
  {
   "cell_type": "code",
   "execution_count": 73,
   "id": "straight-seven",
   "metadata": {},
   "outputs": [
    {
     "data": {
      "text/plain": [
       "0.95"
      ]
     },
     "execution_count": 73,
     "metadata": {},
     "output_type": "execute_result"
    }
   ],
   "source": [
    "confidence_level = 1 - significance_level\n",
    "confidence_level"
   ]
  },
  {
   "cell_type": "markdown",
   "id": "talented-contemporary",
   "metadata": {},
   "source": [
    "### Critical value ($ 𝒛_{\\alpha/2} = z_{0.025}$)"
   ]
  },
  {
   "cell_type": "code",
   "execution_count": 74,
   "id": "sustained-connecticut",
   "metadata": {},
   "outputs": [
    {
     "data": {
      "text/plain": [
       "1.96"
      ]
     },
     "execution_count": 74,
     "metadata": {},
     "output_type": "execute_result"
    }
   ],
   "source": [
    "critical_value = 1.96\n",
    "critical_value"
   ]
  },
  {
   "cell_type": "markdown",
   "id": "minor-sensitivity",
   "metadata": {},
   "source": [
    "### Standard Error (SE)"
   ]
  },
  {
   "cell_type": "code",
   "execution_count": 75,
   "id": "afraid-february",
   "metadata": {},
   "outputs": [
    {
     "data": {
      "text/plain": [
       "3.162277660168379"
      ]
     },
     "execution_count": 75,
     "metadata": {},
     "output_type": "execute_result"
    }
   ],
   "source": [
    "standard_error = population_std / np.sqrt(n)\n",
    "standard_error"
   ]
  },
  {
   "cell_type": "markdown",
   "id": "competent-thousand",
   "metadata": {},
   "source": [
    "### Margin of Error"
   ]
  },
  {
   "cell_type": "code",
   "execution_count": 76,
   "id": "partial-boston",
   "metadata": {},
   "outputs": [
    {
     "data": {
      "text/plain": [
       "6.198064213930023"
      ]
     },
     "execution_count": 76,
     "metadata": {},
     "output_type": "execute_result"
    }
   ],
   "source": [
    "margin_of_error = critical_value * standard_error\n",
    "margin_of_error"
   ]
  },
  {
   "cell_type": "markdown",
   "id": "animated-fleece",
   "metadata": {},
   "source": [
    "### 95% Confidence Interval"
   ]
  },
  {
   "cell_type": "markdown",
   "id": "unsigned-poker",
   "metadata": {},
   "source": [
    "#### Solution 1 - manually"
   ]
  },
  {
   "cell_type": "code",
   "execution_count": 77,
   "id": "above-injury",
   "metadata": {},
   "outputs": [
    {
     "data": {
      "text/plain": [
       "(168.80193578606998, 181.19806421393002)"
      ]
     },
     "execution_count": 77,
     "metadata": {},
     "output_type": "execute_result"
    }
   ],
   "source": [
    "confidence_interval = (\n",
    "    sample_mean - margin_of_error,\n",
    "    sample_mean + margin_of_error\n",
    ")\n",
    "confidence_interval"
   ]
  },
  {
   "cell_type": "markdown",
   "id": "regional-lunch",
   "metadata": {},
   "source": [
    "#### Solution 2 - Scipy\n",
    "https://docs.scipy.org/doc/scipy/reference/generated/scipy.stats.norm.html\n",
    "\n",
    "alpha ==> confidence level <br/>\n",
    "loc ==> sample mean  <br/>\n",
    "scale ==> standard error"
   ]
  },
  {
   "cell_type": "code",
   "execution_count": 78,
   "id": "humanitarian-elevation",
   "metadata": {},
   "outputs": [],
   "source": [
    "from scipy.stats import norm"
   ]
  },
  {
   "cell_type": "code",
   "execution_count": 79,
   "id": "df29d995-b2c3-4d3b-90c6-c46b91f9196d",
   "metadata": {},
   "outputs": [
    {
     "data": {
      "text/plain": [
       "(168.8020496769544, 181.1979503230456)"
      ]
     },
     "execution_count": 79,
     "metadata": {},
     "output_type": "execute_result"
    }
   ],
   "source": [
    "norm.interval(alpha=confidence_level, loc=sample_mean, scale=standard_error)"
   ]
  },
  {
   "cell_type": "markdown",
   "id": "innovative-fluid",
   "metadata": {},
   "source": [
    "## Exercise 2\n",
    "Given a dataset from stroke patients, we want to study their mean glucose level. <br/>\n",
    "For two samples of 100 and 1000 observations, provide a 95% confidence intervals for the following scenarios:\n",
    "\n",
    "**(a) Known population standard deviation** <br/>\n",
    "**(b) Unknown population standard deviation**\n",
    "\n",
    "**Dataset:** https://www.kaggle.com/fedesoriano/stroke-prediction-dataset"
   ]
  },
  {
   "cell_type": "code",
   "execution_count": 80,
   "id": "analyzed-titanium",
   "metadata": {},
   "outputs": [
    {
     "data": {
      "text/html": [
       "<div>\n",
       "<style scoped>\n",
       "    .dataframe tbody tr th:only-of-type {\n",
       "        vertical-align: middle;\n",
       "    }\n",
       "\n",
       "    .dataframe tbody tr th {\n",
       "        vertical-align: top;\n",
       "    }\n",
       "\n",
       "    .dataframe thead th {\n",
       "        text-align: right;\n",
       "    }\n",
       "</style>\n",
       "<table border=\"1\" class=\"dataframe\">\n",
       "  <thead>\n",
       "    <tr style=\"text-align: right;\">\n",
       "      <th></th>\n",
       "      <th>id</th>\n",
       "      <th>gender</th>\n",
       "      <th>age</th>\n",
       "      <th>hypertension</th>\n",
       "      <th>heart_disease</th>\n",
       "      <th>ever_married</th>\n",
       "      <th>work_type</th>\n",
       "      <th>Residence_type</th>\n",
       "      <th>avg_glucose_level</th>\n",
       "      <th>bmi</th>\n",
       "      <th>smoking_status</th>\n",
       "      <th>stroke</th>\n",
       "    </tr>\n",
       "  </thead>\n",
       "  <tbody>\n",
       "    <tr>\n",
       "      <th>0</th>\n",
       "      <td>9046</td>\n",
       "      <td>Male</td>\n",
       "      <td>67.0</td>\n",
       "      <td>0</td>\n",
       "      <td>1</td>\n",
       "      <td>Yes</td>\n",
       "      <td>Private</td>\n",
       "      <td>Urban</td>\n",
       "      <td>228.69</td>\n",
       "      <td>36.6</td>\n",
       "      <td>formerly smoked</td>\n",
       "      <td>1</td>\n",
       "    </tr>\n",
       "    <tr>\n",
       "      <th>1</th>\n",
       "      <td>51676</td>\n",
       "      <td>Female</td>\n",
       "      <td>61.0</td>\n",
       "      <td>0</td>\n",
       "      <td>0</td>\n",
       "      <td>Yes</td>\n",
       "      <td>Self-employed</td>\n",
       "      <td>Rural</td>\n",
       "      <td>202.21</td>\n",
       "      <td>NaN</td>\n",
       "      <td>never smoked</td>\n",
       "      <td>1</td>\n",
       "    </tr>\n",
       "    <tr>\n",
       "      <th>2</th>\n",
       "      <td>31112</td>\n",
       "      <td>Male</td>\n",
       "      <td>80.0</td>\n",
       "      <td>0</td>\n",
       "      <td>1</td>\n",
       "      <td>Yes</td>\n",
       "      <td>Private</td>\n",
       "      <td>Rural</td>\n",
       "      <td>105.92</td>\n",
       "      <td>32.5</td>\n",
       "      <td>never smoked</td>\n",
       "      <td>1</td>\n",
       "    </tr>\n",
       "    <tr>\n",
       "      <th>3</th>\n",
       "      <td>60182</td>\n",
       "      <td>Female</td>\n",
       "      <td>49.0</td>\n",
       "      <td>0</td>\n",
       "      <td>0</td>\n",
       "      <td>Yes</td>\n",
       "      <td>Private</td>\n",
       "      <td>Urban</td>\n",
       "      <td>171.23</td>\n",
       "      <td>34.4</td>\n",
       "      <td>smokes</td>\n",
       "      <td>1</td>\n",
       "    </tr>\n",
       "    <tr>\n",
       "      <th>4</th>\n",
       "      <td>1665</td>\n",
       "      <td>Female</td>\n",
       "      <td>79.0</td>\n",
       "      <td>1</td>\n",
       "      <td>0</td>\n",
       "      <td>Yes</td>\n",
       "      <td>Self-employed</td>\n",
       "      <td>Rural</td>\n",
       "      <td>174.12</td>\n",
       "      <td>24.0</td>\n",
       "      <td>never smoked</td>\n",
       "      <td>1</td>\n",
       "    </tr>\n",
       "  </tbody>\n",
       "</table>\n",
       "</div>"
      ],
      "text/plain": [
       "      id  gender   age  hypertension  heart_disease ever_married  \\\n",
       "0   9046    Male  67.0             0              1          Yes   \n",
       "1  51676  Female  61.0             0              0          Yes   \n",
       "2  31112    Male  80.0             0              1          Yes   \n",
       "3  60182  Female  49.0             0              0          Yes   \n",
       "4   1665  Female  79.0             1              0          Yes   \n",
       "\n",
       "       work_type Residence_type  avg_glucose_level   bmi   smoking_status  \\\n",
       "0        Private          Urban             228.69  36.6  formerly smoked   \n",
       "1  Self-employed          Rural             202.21   NaN     never smoked   \n",
       "2        Private          Rural             105.92  32.5     never smoked   \n",
       "3        Private          Urban             171.23  34.4           smokes   \n",
       "4  Self-employed          Rural             174.12  24.0     never smoked   \n",
       "\n",
       "   stroke  \n",
       "0       1  \n",
       "1       1  \n",
       "2       1  \n",
       "3       1  \n",
       "4       1  "
      ]
     },
     "execution_count": 80,
     "metadata": {},
     "output_type": "execute_result"
    }
   ],
   "source": [
    "# dataset with data about stroke patients\n",
    "df = pd.read_csv('./datasets/healthcare-dataset-stroke-data.csv')\n",
    "df.head()"
   ]
  },
  {
   "cell_type": "code",
   "execution_count": 81,
   "id": "aerial-manor",
   "metadata": {},
   "outputs": [
    {
     "data": {
      "text/plain": [
       "0       228.69\n",
       "1       202.21\n",
       "2       105.92\n",
       "3       171.23\n",
       "4       174.12\n",
       "         ...  \n",
       "5105     83.75\n",
       "5106    125.20\n",
       "5107     82.99\n",
       "5108    166.29\n",
       "5109     85.28\n",
       "Name: avg_glucose_level, Length: 5110, dtype: float64"
      ]
     },
     "execution_count": 81,
     "metadata": {},
     "output_type": "execute_result"
    }
   ],
   "source": [
    "population = df['avg_glucose_level']\n",
    "population"
   ]
  },
  {
   "cell_type": "code",
   "execution_count": 82,
   "id": "statistical-debut",
   "metadata": {},
   "outputs": [
    {
     "data": {
      "text/plain": [
       "106.1476771037182"
      ]
     },
     "execution_count": 82,
     "metadata": {},
     "output_type": "execute_result"
    }
   ],
   "source": [
    "population_mean = population.mean()\n",
    "population_mean"
   ]
  },
  {
   "cell_type": "code",
   "execution_count": 83,
   "id": "present-bristol",
   "metadata": {},
   "outputs": [
    {
     "data": {
      "text/plain": [
       "<AxesSubplot:xlabel='avg_glucose_level', ylabel='Count'>"
      ]
     },
     "execution_count": 83,
     "metadata": {},
     "output_type": "execute_result"
    },
    {
     "data": {
      "image/png": "[encoded data removed]",
      "text/plain": [
       "<Figure size 432x288 with 1 Axes>"
      ]
     },
     "metadata": {
      "needs_background": "light"
     },
     "output_type": "display_data"
    }
   ],
   "source": [
    "sns.histplot(data=population, kde=True)"
   ]
  },
  {
   "cell_type": "markdown",
   "id": "violent-reliance",
   "metadata": {},
   "source": [
    "#### Population Mean = 106.1476771037182"
   ]
  },
  {
   "cell_type": "code",
   "execution_count": 84,
   "id": "angry-reasoning",
   "metadata": {},
   "outputs": [
    {
     "data": {
      "text/plain": [
       "45.28356015058198"
      ]
     },
     "execution_count": 84,
     "metadata": {},
     "output_type": "execute_result"
    }
   ],
   "source": [
    "population_std = population.std()\n",
    "population_std"
   ]
  },
  {
   "cell_type": "code",
   "execution_count": 85,
   "id": "removed-poster",
   "metadata": {
    "tags": []
   },
   "outputs": [
    {
     "data": {
      "text/plain": [
       "0.95"
      ]
     },
     "execution_count": 85,
     "metadata": {},
     "output_type": "execute_result"
    }
   ],
   "source": [
    "confidence_level = 0.95\n",
    "confidence_level"
   ]
  },
  {
   "cell_type": "code",
   "execution_count": 86,
   "id": "bc8c6bac-6652-41de-84e1-fde82ce09956",
   "metadata": {},
   "outputs": [
    {
     "data": {
      "text/plain": [
       "0.050000000000000044"
      ]
     },
     "execution_count": 86,
     "metadata": {},
     "output_type": "execute_result"
    }
   ],
   "source": [
    "significance_level = 1 - confidence_level\n",
    "significance_level"
   ]
  },
  {
   "cell_type": "code",
   "execution_count": 87,
   "id": "aquatic-extra",
   "metadata": {},
   "outputs": [
    {
     "data": {
      "text/plain": [
       "4358     80.94\n",
       "4779     66.71\n",
       "931      78.11\n",
       "3917     90.00\n",
       "1095    103.94\n",
       "         ...  \n",
       "1566    101.43\n",
       "222     205.35\n",
       "3075     80.92\n",
       "580     107.47\n",
       "1947     65.95\n",
       "Name: avg_glucose_level, Length: 100, dtype: float64"
      ]
     },
     "execution_count": 87,
     "metadata": {},
     "output_type": "execute_result"
    }
   ],
   "source": [
    "sample_100 = population.sample(100, random_state=999)\n",
    "sample_100"
   ]
  },
  {
   "cell_type": "code",
   "execution_count": 88,
   "id": "cognitive-richards",
   "metadata": {},
   "outputs": [
    {
     "data": {
      "text/plain": [
       "<AxesSubplot:xlabel='avg_glucose_level', ylabel='Count'>"
      ]
     },
     "execution_count": 88,
     "metadata": {},
     "output_type": "execute_result"
    },
    {
     "data": {
      "image/png": "[encoded data removed]",
      "text/plain": [
       "<Figure size 432x288 with 1 Axes>"
      ]
     },
     "metadata": {
      "needs_background": "light"
     },
     "output_type": "display_data"
    }
   ],
   "source": [
    "sns.histplot(data=sample_100, kde=True)"
   ]
  },
  {
   "cell_type": "code",
   "execution_count": 89,
   "id": "mineral-motivation",
   "metadata": {},
   "outputs": [
    {
     "data": {
      "text/plain": [
       "4358     80.94\n",
       "4779     66.71\n",
       "931      78.11\n",
       "3917     90.00\n",
       "1095    103.94\n",
       "         ...  \n",
       "3278     84.70\n",
       "1204    121.19\n",
       "490      65.24\n",
       "2650     59.00\n",
       "34       84.20\n",
       "Name: avg_glucose_level, Length: 1000, dtype: float64"
      ]
     },
     "execution_count": 89,
     "metadata": {},
     "output_type": "execute_result"
    }
   ],
   "source": [
    "sample_1000 = population.sample(1000, random_state=999)\n",
    "sample_1000"
   ]
  },
  {
   "cell_type": "code",
   "execution_count": 90,
   "id": "pleased-leather",
   "metadata": {},
   "outputs": [
    {
     "data": {
      "text/plain": [
       "<AxesSubplot:xlabel='avg_glucose_level', ylabel='Count'>"
      ]
     },
     "execution_count": 90,
     "metadata": {},
     "output_type": "execute_result"
    },
    {
     "data": {
      "image/png": "[encoded data removed]",
      "text/plain": [
       "<Figure size 432x288 with 1 Axes>"
      ]
     },
     "metadata": {
      "needs_background": "light"
     },
     "output_type": "display_data"
    }
   ],
   "source": [
    "sns.histplot(data=sample_1000, kde=True)"
   ]
  },
  {
   "cell_type": "markdown",
   "id": "limiting-buddy",
   "metadata": {},
   "source": [
    "#### **(a) Known population standard deviation, and sample sizes of 100 and 1000**"
   ]
  },
  {
   "cell_type": "markdown",
   "id": "a36baf7a-56cd-4b77-8337-81d6f8d287e9",
   "metadata": {},
   "source": [
    "https://docs.scipy.org/doc/scipy/reference/generated/scipy.stats.norm.html\n",
    "\n",
    "alpha ==> confidence level <br/>\n",
    "loc ==> sample mean  <br/>\n",
    "scale ==> standard error"
   ]
  },
  {
   "cell_type": "markdown",
   "id": "aboriginal-ownership",
   "metadata": {},
   "source": [
    "#### Sample size 100"
   ]
  },
  {
   "cell_type": "code",
   "execution_count": 91,
   "id": "arctic-monaco",
   "metadata": {},
   "outputs": [
    {
     "data": {
      "text/plain": [
       "100"
      ]
     },
     "execution_count": 91,
     "metadata": {},
     "output_type": "execute_result"
    }
   ],
   "source": [
    "n = 100\n",
    "n"
   ]
  },
  {
   "cell_type": "code",
   "execution_count": 92,
   "id": "wound-optics",
   "metadata": {},
   "outputs": [
    {
     "data": {
      "text/plain": [
       "107.90570000000001"
      ]
     },
     "execution_count": 92,
     "metadata": {},
     "output_type": "execute_result"
    }
   ],
   "source": [
    "sample_100_mean = sample_100.mean()\n",
    "sample_100_mean"
   ]
  },
  {
   "cell_type": "code",
   "execution_count": 93,
   "id": "regional-mongolia",
   "metadata": {},
   "outputs": [
    {
     "data": {
      "text/plain": [
       "4.528356015058198"
      ]
     },
     "execution_count": 93,
     "metadata": {},
     "output_type": "execute_result"
    }
   ],
   "source": [
    "standard_error_100 = population_std / np.sqrt(n)\n",
    "standard_error_100"
   ]
  },
  {
   "cell_type": "code",
   "execution_count": 94,
   "id": "latter-stupid",
   "metadata": {},
   "outputs": [
    {
     "data": {
      "text/plain": [
       "(99.03028530131063, 116.7811146986894)"
      ]
     },
     "execution_count": 94,
     "metadata": {},
     "output_type": "execute_result"
    }
   ],
   "source": [
    "norm.interval(alpha=confidence_level, loc=sample_100_mean, scale=standard_error_100)"
   ]
  },
  {
   "cell_type": "markdown",
   "id": "bridal-literacy",
   "metadata": {},
   "source": [
    "#### Sample size 1000"
   ]
  },
  {
   "cell_type": "code",
   "execution_count": 95,
   "id": "medium-fundamental",
   "metadata": {},
   "outputs": [
    {
     "data": {
      "text/plain": [
       "1000"
      ]
     },
     "execution_count": 95,
     "metadata": {},
     "output_type": "execute_result"
    }
   ],
   "source": [
    "n = 1000\n",
    "n"
   ]
  },
  {
   "cell_type": "code",
   "execution_count": 96,
   "id": "formed-gravity",
   "metadata": {},
   "outputs": [
    {
     "data": {
      "text/plain": [
       "107.67422"
      ]
     },
     "execution_count": 96,
     "metadata": {},
     "output_type": "execute_result"
    }
   ],
   "source": [
    "sample_1000_mean = sample_1000.mean()\n",
    "sample_1000_mean"
   ]
  },
  {
   "cell_type": "code",
   "execution_count": 97,
   "id": "stopped-documentation",
   "metadata": {},
   "outputs": [
    {
     "data": {
      "text/plain": [
       "1.4319919063707645"
      ]
     },
     "execution_count": 97,
     "metadata": {},
     "output_type": "execute_result"
    }
   ],
   "source": [
    "standard_error_1000 = population_std / np.sqrt(n)\n",
    "standard_error_1000"
   ]
  },
  {
   "cell_type": "code",
   "execution_count": 98,
   "id": "sexual-blank",
   "metadata": {},
   "outputs": [
    {
     "data": {
      "text/plain": [
       "(104.86756743736045, 110.48087256263956)"
      ]
     },
     "execution_count": 98,
     "metadata": {},
     "output_type": "execute_result"
    }
   ],
   "source": [
    "norm.interval(alpha=confidence_level, loc=sample_1000_mean, scale=standard_error_1000)"
   ]
  },
  {
   "cell_type": "markdown",
   "id": "acute-halifax",
   "metadata": {},
   "source": [
    "#### **(b) Unknown population standard deviation, and sample sizes of 100 and 1000**"
   ]
  },
  {
   "cell_type": "markdown",
   "id": "surprised-migration",
   "metadata": {},
   "source": [
    "#### Sample size 100"
   ]
  },
  {
   "cell_type": "code",
   "execution_count": 99,
   "id": "revised-pattern",
   "metadata": {},
   "outputs": [
    {
     "data": {
      "text/plain": [
       "100"
      ]
     },
     "execution_count": 99,
     "metadata": {},
     "output_type": "execute_result"
    }
   ],
   "source": [
    "n = 100\n",
    "n"
   ]
  },
  {
   "cell_type": "code",
   "execution_count": 100,
   "id": "acting-squad",
   "metadata": {},
   "outputs": [
    {
     "data": {
      "text/plain": [
       "107.90570000000001"
      ]
     },
     "execution_count": 100,
     "metadata": {},
     "output_type": "execute_result"
    }
   ],
   "source": [
    "sample_100_mean = sample_100.mean()\n",
    "sample_100_mean"
   ]
  },
  {
   "cell_type": "code",
   "execution_count": 101,
   "id": "original-warning",
   "metadata": {},
   "outputs": [
    {
     "data": {
      "text/plain": [
       "47.96907099613587"
      ]
     },
     "execution_count": 101,
     "metadata": {},
     "output_type": "execute_result"
    }
   ],
   "source": [
    "sample_100_std = sample_100.std()\n",
    "sample_100_std"
   ]
  },
  {
   "cell_type": "code",
   "execution_count": 102,
   "id": "cubic-scholarship",
   "metadata": {},
   "outputs": [
    {
     "data": {
      "text/plain": [
       "4.796907099613587"
      ]
     },
     "execution_count": 102,
     "metadata": {},
     "output_type": "execute_result"
    }
   ],
   "source": [
    "standard_error_100 = sample_100_std / np.sqrt(n)\n",
    "standard_error_100"
   ]
  },
  {
   "cell_type": "code",
   "execution_count": 103,
   "id": "b1712326-29b2-41dd-a9f0-14cf15d0a104",
   "metadata": {},
   "outputs": [
    {
     "data": {
      "text/plain": [
       "(98.50393484757289, 117.30746515242713)"
      ]
     },
     "execution_count": 103,
     "metadata": {},
     "output_type": "execute_result"
    }
   ],
   "source": [
    "norm.interval(alpha=confidence_level, loc=sample_100_mean, scale=standard_error_100)"
   ]
  },
  {
   "cell_type": "markdown",
   "id": "smart-brain",
   "metadata": {},
   "source": [
    "#### Sample size 1000"
   ]
  },
  {
   "cell_type": "code",
   "execution_count": 104,
   "id": "executed-hammer",
   "metadata": {},
   "outputs": [
    {
     "data": {
      "text/plain": [
       "1000"
      ]
     },
     "execution_count": 104,
     "metadata": {},
     "output_type": "execute_result"
    }
   ],
   "source": [
    "n = 1000\n",
    "n"
   ]
  },
  {
   "cell_type": "code",
   "execution_count": 105,
   "id": "surrounded-threshold",
   "metadata": {},
   "outputs": [
    {
     "data": {
      "text/plain": [
       "107.67422"
      ]
     },
     "execution_count": 105,
     "metadata": {},
     "output_type": "execute_result"
    }
   ],
   "source": [
    "sample_1000_mean = sample_1000.mean()\n",
    "sample_1000_mean"
   ]
  },
  {
   "cell_type": "code",
   "execution_count": 106,
   "id": "fallen-adult",
   "metadata": {},
   "outputs": [
    {
     "data": {
      "text/plain": [
       "46.15896726585909"
      ]
     },
     "execution_count": 106,
     "metadata": {},
     "output_type": "execute_result"
    }
   ],
   "source": [
    "sample_1000_std = sample_1000.std()\n",
    "sample_1000_std"
   ]
  },
  {
   "cell_type": "code",
   "execution_count": 107,
   "id": "extensive-drawing",
   "metadata": {},
   "outputs": [
    {
     "data": {
      "text/plain": [
       "1.459674710012697"
      ]
     },
     "execution_count": 107,
     "metadata": {},
     "output_type": "execute_result"
    }
   ],
   "source": [
    "standard_error_1000 = sample_1000_std / np.sqrt(n)\n",
    "standard_error_1000"
   ]
  },
  {
   "cell_type": "code",
   "execution_count": 108,
   "id": "ac705684-9eeb-4e51-a75f-526f9452e434",
   "metadata": {},
   "outputs": [
    {
     "data": {
      "text/plain": [
       "(104.81331013923118, 110.53512986076883)"
      ]
     },
     "execution_count": 108,
     "metadata": {},
     "output_type": "execute_result"
    }
   ],
   "source": [
    "norm.interval(alpha=confidence_level, loc=sample_1000_mean, scale=standard_error_1000)"
   ]
  },
  {
   "cell_type": "markdown",
   "id": "republican-membership",
   "metadata": {},
   "source": [
    "# 4. Calculating Sample Sizes"
   ]
  },
  {
   "cell_type": "markdown",
   "id": "least-semiconductor",
   "metadata": {},
   "source": [
    "<img src='./imgs/calculating_sample_sizes.png' width=700/>"
   ]
  },
  {
   "cell_type": "markdown",
   "id": "fantastic-commissioner",
   "metadata": {},
   "source": [
    "## Exercise 1\n",
    "Suppose we want to investigate the **mean income** from the brazilian population. According to the last census, the **population standard deviation** is **R\\$ 4000,00**. Assuming a **95\\% confidence level** and a **margin of error** (with respect to the sample mean) of **R\\$ 100,00**, what should be the **sample size**? "
   ]
  },
  {
   "cell_type": "markdown",
   "id": "forward-surge",
   "metadata": {},
   "source": [
    "### Population standard deviation (𝜎)"
   ]
  },
  {
   "cell_type": "code",
   "execution_count": 109,
   "id": "conceptual-october",
   "metadata": {},
   "outputs": [
    {
     "data": {
      "text/plain": [
       "4000"
      ]
     },
     "execution_count": 109,
     "metadata": {},
     "output_type": "execute_result"
    }
   ],
   "source": [
    "population_std = 4000\n",
    "population_std"
   ]
  },
  {
   "cell_type": "markdown",
   "id": "adjusted-fifteen",
   "metadata": {},
   "source": [
    "### Confidence level (1 - α)"
   ]
  },
  {
   "cell_type": "code",
   "execution_count": 110,
   "id": "theoretical-value",
   "metadata": {},
   "outputs": [
    {
     "data": {
      "text/plain": [
       "0.95"
      ]
     },
     "execution_count": 110,
     "metadata": {},
     "output_type": "execute_result"
    }
   ],
   "source": [
    "confidence_level = 0.95\n",
    "confidence_level"
   ]
  },
  {
   "cell_type": "markdown",
   "id": "tamil-enlargement",
   "metadata": {},
   "source": [
    "### Significance level (α)"
   ]
  },
  {
   "cell_type": "code",
   "execution_count": 111,
   "id": "featured-scheme",
   "metadata": {},
   "outputs": [
    {
     "data": {
      "text/plain": [
       "0.050000000000000044"
      ]
     },
     "execution_count": 111,
     "metadata": {},
     "output_type": "execute_result"
    }
   ],
   "source": [
    "significance_level = 1 - confidence_level\n",
    "significance_level"
   ]
  },
  {
   "cell_type": "markdown",
   "id": "continuous-saver",
   "metadata": {},
   "source": [
    "### Margin of Error (e)"
   ]
  },
  {
   "cell_type": "code",
   "execution_count": 112,
   "id": "sunrise-accent",
   "metadata": {},
   "outputs": [
    {
     "data": {
      "text/plain": [
       "100"
      ]
     },
     "execution_count": 112,
     "metadata": {},
     "output_type": "execute_result"
    }
   ],
   "source": [
    "margin_of_error = 100\n",
    "margin_of_error"
   ]
  },
  {
   "cell_type": "markdown",
   "id": "endless-shipping",
   "metadata": {},
   "source": [
    "### Critical value (𝒛𝜶/𝟐 = z0.025)"
   ]
  },
  {
   "cell_type": "code",
   "execution_count": 113,
   "id": "fresh-ribbon",
   "metadata": {},
   "outputs": [
    {
     "data": {
      "text/plain": [
       "1.96"
      ]
     },
     "execution_count": 113,
     "metadata": {},
     "output_type": "execute_result"
    }
   ],
   "source": [
    "critical_value = 1.96\n",
    "critical_value"
   ]
  },
  {
   "cell_type": "markdown",
   "id": "425ae071-d065-450e-8fbc-a4dc4359912c",
   "metadata": {},
   "source": [
    "### Calculating the sample size (n)"
   ]
  },
  {
   "cell_type": "code",
   "execution_count": 114,
   "id": "ddfea578-b3a2-4388-b552-0b87a3f3e2e0",
   "metadata": {},
   "outputs": [
    {
     "data": {
      "text/plain": [
       "6146.560000000001"
      ]
     },
     "execution_count": 114,
     "metadata": {},
     "output_type": "execute_result"
    }
   ],
   "source": [
    "n = (critical_value * (population_std / margin_of_error)) ** 2\n",
    "n"
   ]
  },
  {
   "cell_type": "code",
   "execution_count": 115,
   "id": "79af5786-5436-4437-8f1f-5bb668d1ab2f",
   "metadata": {},
   "outputs": [
    {
     "data": {
      "text/plain": [
       "6147"
      ]
     },
     "execution_count": 115,
     "metadata": {},
     "output_type": "execute_result"
    }
   ],
   "source": [
    "n = int(round(n))\n",
    "n"
   ]
  },
  {
   "cell_type": "markdown",
   "id": "danish-occupation",
   "metadata": {},
   "source": [
    "## Exercise 2\n",
    "In a batch of **10,000 cans** of soda, a simple random sample of **200 cans** was collected to validate the amount of soda. The found **sample standard deviation** was **16 ml**. Each can costs **R\\$ 4,00** and is thrown away after the experiment.\n",
    "\n",
    "The manufacturer stipulates a **maximum error on the population average of only 4 ml**. To ensure a **95\\% confidence level** what sample size should be selected for this study? How much  will the company save in the next experiment/validation?"
   ]
  },
  {
   "cell_type": "markdown",
   "id": "robust-donna",
   "metadata": {},
   "source": [
    "### Population size (N)"
   ]
  },
  {
   "cell_type": "code",
   "execution_count": 116,
   "id": "minus-hunter",
   "metadata": {},
   "outputs": [
    {
     "data": {
      "text/plain": [
       "10000"
      ]
     },
     "execution_count": 116,
     "metadata": {},
     "output_type": "execute_result"
    }
   ],
   "source": [
    "N = 10000\n",
    "N"
   ]
  },
  {
   "cell_type": "markdown",
   "id": "primary-princess",
   "metadata": {},
   "source": [
    "### Calculating the critical value (z-score ==> 𝒛𝜶/𝟐 == z0.025): 95% confidence level"
   ]
  },
  {
   "cell_type": "code",
   "execution_count": 117,
   "id": "fifth-sponsorship",
   "metadata": {},
   "outputs": [
    {
     "data": {
      "text/plain": [
       "1.96"
      ]
     },
     "execution_count": 117,
     "metadata": {},
     "output_type": "execute_result"
    }
   ],
   "source": [
    "critical_value = 1.96\n",
    "critical_value"
   ]
  },
  {
   "cell_type": "markdown",
   "id": "limiting-modification",
   "metadata": {},
   "source": [
    "### Calculating the sample standard deviation (s)"
   ]
  },
  {
   "cell_type": "code",
   "execution_count": 118,
   "id": "known-variation",
   "metadata": {},
   "outputs": [
    {
     "data": {
      "text/plain": [
       "16"
      ]
     },
     "execution_count": 118,
     "metadata": {},
     "output_type": "execute_result"
    }
   ],
   "source": [
    "sample_std = 16\n",
    "sample_std"
   ]
  },
  {
   "cell_type": "markdown",
   "id": "relative-sentence",
   "metadata": {},
   "source": [
    "### Margin of Error (e)"
   ]
  },
  {
   "cell_type": "code",
   "execution_count": 119,
   "id": "recreational-planet",
   "metadata": {},
   "outputs": [
    {
     "data": {
      "text/plain": [
       "4"
      ]
     },
     "execution_count": 119,
     "metadata": {},
     "output_type": "execute_result"
    }
   ],
   "source": [
    "margin_of_error = 4\n",
    "margin_of_error"
   ]
  },
  {
   "cell_type": "markdown",
   "id": "satellite-assets",
   "metadata": {},
   "source": [
    "### Calculating the sample size (n)"
   ]
  },
  {
   "cell_type": "code",
   "execution_count": 120,
   "id": "recognized-broadcast",
   "metadata": {},
   "outputs": [
    {
     "data": {
      "text/plain": [
       "61.096178292185606"
      ]
     },
     "execution_count": 120,
     "metadata": {},
     "output_type": "execute_result"
    }
   ],
   "source": [
    "n = ((critical_value ** 2) * (sample_std ** 2) * N) / (((critical_value ** 2) * (sample_std ** 2)) + ((margin_of_error ** 2) * (N - 1)))\n",
    "n"
   ]
  },
  {
   "cell_type": "code",
   "execution_count": 121,
   "id": "ccf43e3f-dcfb-43b8-a89d-1704c0f8b506",
   "metadata": {},
   "outputs": [
    {
     "data": {
      "text/plain": [
       "61"
      ]
     },
     "execution_count": 121,
     "metadata": {},
     "output_type": "execute_result"
    }
   ],
   "source": [
    "n = int(round(n))\n",
    "n"
   ]
  },
  {
   "cell_type": "markdown",
   "id": "falling-capture",
   "metadata": {},
   "source": [
    "Note that the number of cans (sample size) necessary to meet the requirements is **61**. Therefore, it is not necessary to collect 200 cans as was done before, thus saving money."
   ]
  },
  {
   "cell_type": "markdown",
   "id": "russian-evolution",
   "metadata": {},
   "source": [
    "### Savings"
   ]
  },
  {
   "cell_type": "code",
   "execution_count": 122,
   "id": "higher-person",
   "metadata": {},
   "outputs": [
    {
     "data": {
      "text/plain": [
       "4"
      ]
     },
     "execution_count": 122,
     "metadata": {},
     "output_type": "execute_result"
    }
   ],
   "source": [
    "cost_per_can = 4\n",
    "cost_per_can"
   ]
  },
  {
   "cell_type": "code",
   "execution_count": 123,
   "id": "major-tooth",
   "metadata": {},
   "outputs": [
    {
     "data": {
      "text/plain": [
       "556"
      ]
     },
     "execution_count": 123,
     "metadata": {},
     "output_type": "execute_result"
    }
   ],
   "source": [
    "(200 - n) * cost_per_can"
   ]
  },
  {
   "cell_type": "markdown",
   "id": "greater-rehabilitation",
   "metadata": {},
   "source": [
    "The company will save R$ 556 in the next experiments."
   ]
  },
  {
   "cell_type": "markdown",
   "id": "electronic-borough",
   "metadata": {},
   "source": [
    "# 5. Bootstrap Confidence Interval"
   ]
  },
  {
   "cell_type": "markdown",
   "id": "exact-nicholas",
   "metadata": {},
   "source": [
    "<img src='./imgs/bootstrap_confidence_interval.png' width=700 />"
   ]
  },
  {
   "cell_type": "markdown",
   "id": "graduate-iceland",
   "metadata": {},
   "source": [
    "## Exercise\n",
    "Given the dataset from stroke patients, we want to study their **mean glucose level**.\n",
    "Provide **95% bootstrap confidence intervals** for sample sizes of **100** and **1000**.\n",
    "\n",
    "**Dataset:** https://www.kaggle.com/fedesoriano/stroke-prediction-dataset"
   ]
  },
  {
   "cell_type": "code",
   "execution_count": 136,
   "id": "latest-conservative",
   "metadata": {},
   "outputs": [
    {
     "data": {
      "text/html": [
       "<div>\n",
       "<style scoped>\n",
       "    .dataframe tbody tr th:only-of-type {\n",
       "        vertical-align: middle;\n",
       "    }\n",
       "\n",
       "    .dataframe tbody tr th {\n",
       "        vertical-align: top;\n",
       "    }\n",
       "\n",
       "    .dataframe thead th {\n",
       "        text-align: right;\n",
       "    }\n",
       "</style>\n",
       "<table border=\"1\" class=\"dataframe\">\n",
       "  <thead>\n",
       "    <tr style=\"text-align: right;\">\n",
       "      <th></th>\n",
       "      <th>id</th>\n",
       "      <th>gender</th>\n",
       "      <th>age</th>\n",
       "      <th>hypertension</th>\n",
       "      <th>heart_disease</th>\n",
       "      <th>ever_married</th>\n",
       "      <th>work_type</th>\n",
       "      <th>Residence_type</th>\n",
       "      <th>avg_glucose_level</th>\n",
       "      <th>bmi</th>\n",
       "      <th>smoking_status</th>\n",
       "      <th>stroke</th>\n",
       "    </tr>\n",
       "  </thead>\n",
       "  <tbody>\n",
       "    <tr>\n",
       "      <th>0</th>\n",
       "      <td>9046</td>\n",
       "      <td>Male</td>\n",
       "      <td>67.0</td>\n",
       "      <td>0</td>\n",
       "      <td>1</td>\n",
       "      <td>Yes</td>\n",
       "      <td>Private</td>\n",
       "      <td>Urban</td>\n",
       "      <td>228.69</td>\n",
       "      <td>36.6</td>\n",
       "      <td>formerly smoked</td>\n",
       "      <td>1</td>\n",
       "    </tr>\n",
       "    <tr>\n",
       "      <th>1</th>\n",
       "      <td>51676</td>\n",
       "      <td>Female</td>\n",
       "      <td>61.0</td>\n",
       "      <td>0</td>\n",
       "      <td>0</td>\n",
       "      <td>Yes</td>\n",
       "      <td>Self-employed</td>\n",
       "      <td>Rural</td>\n",
       "      <td>202.21</td>\n",
       "      <td>NaN</td>\n",
       "      <td>never smoked</td>\n",
       "      <td>1</td>\n",
       "    </tr>\n",
       "    <tr>\n",
       "      <th>2</th>\n",
       "      <td>31112</td>\n",
       "      <td>Male</td>\n",
       "      <td>80.0</td>\n",
       "      <td>0</td>\n",
       "      <td>1</td>\n",
       "      <td>Yes</td>\n",
       "      <td>Private</td>\n",
       "      <td>Rural</td>\n",
       "      <td>105.92</td>\n",
       "      <td>32.5</td>\n",
       "      <td>never smoked</td>\n",
       "      <td>1</td>\n",
       "    </tr>\n",
       "    <tr>\n",
       "      <th>3</th>\n",
       "      <td>60182</td>\n",
       "      <td>Female</td>\n",
       "      <td>49.0</td>\n",
       "      <td>0</td>\n",
       "      <td>0</td>\n",
       "      <td>Yes</td>\n",
       "      <td>Private</td>\n",
       "      <td>Urban</td>\n",
       "      <td>171.23</td>\n",
       "      <td>34.4</td>\n",
       "      <td>smokes</td>\n",
       "      <td>1</td>\n",
       "    </tr>\n",
       "    <tr>\n",
       "      <th>4</th>\n",
       "      <td>1665</td>\n",
       "      <td>Female</td>\n",
       "      <td>79.0</td>\n",
       "      <td>1</td>\n",
       "      <td>0</td>\n",
       "      <td>Yes</td>\n",
       "      <td>Self-employed</td>\n",
       "      <td>Rural</td>\n",
       "      <td>174.12</td>\n",
       "      <td>24.0</td>\n",
       "      <td>never smoked</td>\n",
       "      <td>1</td>\n",
       "    </tr>\n",
       "  </tbody>\n",
       "</table>\n",
       "</div>"
      ],
      "text/plain": [
       "      id  gender   age  hypertension  heart_disease ever_married  \\\n",
       "0   9046    Male  67.0             0              1          Yes   \n",
       "1  51676  Female  61.0             0              0          Yes   \n",
       "2  31112    Male  80.0             0              1          Yes   \n",
       "3  60182  Female  49.0             0              0          Yes   \n",
       "4   1665  Female  79.0             1              0          Yes   \n",
       "\n",
       "       work_type Residence_type  avg_glucose_level   bmi   smoking_status  \\\n",
       "0        Private          Urban             228.69  36.6  formerly smoked   \n",
       "1  Self-employed          Rural             202.21   NaN     never smoked   \n",
       "2        Private          Rural             105.92  32.5     never smoked   \n",
       "3        Private          Urban             171.23  34.4           smokes   \n",
       "4  Self-employed          Rural             174.12  24.0     never smoked   \n",
       "\n",
       "   stroke  \n",
       "0       1  \n",
       "1       1  \n",
       "2       1  \n",
       "3       1  \n",
       "4       1  "
      ]
     },
     "execution_count": 136,
     "metadata": {},
     "output_type": "execute_result"
    }
   ],
   "source": [
    "# dataset with data about stroke patients\n",
    "df = pd.read_csv('./datasets/healthcare-dataset-stroke-data.csv')\n",
    "df.head()"
   ]
  },
  {
   "cell_type": "code",
   "execution_count": 137,
   "id": "sweet-contribution",
   "metadata": {},
   "outputs": [
    {
     "data": {
      "text/plain": [
       "0       228.69\n",
       "1       202.21\n",
       "2       105.92\n",
       "3       171.23\n",
       "4       174.12\n",
       "         ...  \n",
       "5105     83.75\n",
       "5106    125.20\n",
       "5107     82.99\n",
       "5108    166.29\n",
       "5109     85.28\n",
       "Name: avg_glucose_level, Length: 5110, dtype: float64"
      ]
     },
     "execution_count": 137,
     "metadata": {},
     "output_type": "execute_result"
    }
   ],
   "source": [
    "population = df['avg_glucose_level']\n",
    "population"
   ]
  },
  {
   "cell_type": "code",
   "execution_count": 138,
   "id": "occupational-rough",
   "metadata": {},
   "outputs": [
    {
     "data": {
      "text/plain": [
       "<AxesSubplot:xlabel='avg_glucose_level', ylabel='Count'>"
      ]
     },
     "execution_count": 138,
     "metadata": {},
     "output_type": "execute_result"
    },
    {
     "data": {
      "image/png": "[encoded data removed]",
      "text/plain": [
       "<Figure size 432x288 with 1 Axes>"
      ]
     },
     "metadata": {
      "needs_background": "light"
     },
     "output_type": "display_data"
    }
   ],
   "source": [
    "sns.histplot(population, kde=True)"
   ]
  },
  {
   "cell_type": "markdown",
   "id": "difficult-winner",
   "metadata": {},
   "source": [
    "#### True **Population Mean**"
   ]
  },
  {
   "cell_type": "code",
   "execution_count": 139,
   "id": "finite-enclosure",
   "metadata": {},
   "outputs": [
    {
     "data": {
      "text/plain": [
       "106.1476771037182"
      ]
     },
     "execution_count": 139,
     "metadata": {},
     "output_type": "execute_result"
    }
   ],
   "source": [
    "population.mean()"
   ]
  },
  {
   "cell_type": "markdown",
   "id": "respected-password",
   "metadata": {},
   "source": [
    "### Sample size: 100"
   ]
  },
  {
   "cell_type": "markdown",
   "id": "based-milan",
   "metadata": {},
   "source": [
    "1. Get a sample S from the population"
   ]
  },
  {
   "cell_type": "code",
   "execution_count": 140,
   "id": "c77d1530-c5d4-4716-8ab4-c5749818c1ea",
   "metadata": {},
   "outputs": [
    {
     "data": {
      "text/plain": [
       "100"
      ]
     },
     "execution_count": 140,
     "metadata": {},
     "output_type": "execute_result"
    }
   ],
   "source": [
    "n = 100\n",
    "n"
   ]
  },
  {
   "cell_type": "code",
   "execution_count": 141,
   "id": "atlantic-milton",
   "metadata": {},
   "outputs": [
    {
     "data": {
      "text/plain": [
       "4358     80.94\n",
       "4779     66.71\n",
       "931      78.11\n",
       "3917     90.00\n",
       "1095    103.94\n",
       "         ...  \n",
       "1566    101.43\n",
       "222     205.35\n",
       "3075     80.92\n",
       "580     107.47\n",
       "1947     65.95\n",
       "Name: avg_glucose_level, Length: 100, dtype: float64"
      ]
     },
     "execution_count": 141,
     "metadata": {},
     "output_type": "execute_result"
    }
   ],
   "source": [
    "# original sample\n",
    "sample_100 = population.sample(n, random_state=999)\n",
    "sample_100"
   ]
  },
  {
   "cell_type": "code",
   "execution_count": 142,
   "id": "oriented-force",
   "metadata": {},
   "outputs": [
    {
     "data": {
      "text/plain": [
       "<AxesSubplot:xlabel='avg_glucose_level', ylabel='Count'>"
      ]
     },
     "execution_count": 142,
     "metadata": {},
     "output_type": "execute_result"
    },
    {
     "data": {
      "image/png": "[encoded data removed]",
      "text/plain": [
       "<Figure size 432x288 with 1 Axes>"
      ]
     },
     "metadata": {
      "needs_background": "light"
     },
     "output_type": "display_data"
    }
   ],
   "source": [
    "sns.histplot(sample_100, kde=True)"
   ]
  },
  {
   "cell_type": "markdown",
   "id": "complete-cuisine",
   "metadata": {},
   "source": [
    "2. Repeat k times:<br/>\n",
    "    2.1. Generate a bootstrap sample by **resampling S**<br/>\n",
    "    2.2. Calculate the desired statistic for the bootstrap sample"
   ]
  },
  {
   "cell_type": "code",
   "execution_count": 143,
   "id": "colonial-conservation",
   "metadata": {},
   "outputs": [
    {
     "data": {
      "text/plain": [
       "10000"
      ]
     },
     "execution_count": 143,
     "metadata": {},
     "output_type": "execute_result"
    }
   ],
   "source": [
    "k = 10000\n",
    "k"
   ]
  },
  {
   "cell_type": "code",
   "execution_count": 144,
   "id": "d9fbf445-cf52-4667-89a3-c7c55e9a6398",
   "metadata": {},
   "outputs": [
    {
     "data": {
      "text/plain": [
       "[108.5844,\n",
       " 108.4843,\n",
       " 120.19560000000001,\n",
       " 101.84260000000003,\n",
       " 114.84280000000001]"
      ]
     },
     "execution_count": 144,
     "metadata": {},
     "output_type": "execute_result"
    }
   ],
   "source": [
    "# bootstrap_sampling_distribution = []\n",
    "\n",
    "# for i in range(k):\n",
    "#     bootstrap_sample = sample_100.sample(n, replace=True, random_state=i)  # resampling\n",
    "#     mean = bootstrap_sample.mean()\n",
    "#     bootstrap_sampling_distribution.append(mean)\n",
    "\n",
    "bootstrap_sampling_distribution = [sample_100.sample(n, replace=True, random_state=i).mean() for i in range(k)]\n",
    "bootstrap_sampling_distribution[:5]"
   ]
  },
  {
   "cell_type": "code",
   "execution_count": 146,
   "id": "c1fcd8e9-4734-4fc5-af72-d663f6ede0ed",
   "metadata": {},
   "outputs": [
    {
     "data": {
      "text/plain": [
       "10000"
      ]
     },
     "execution_count": 146,
     "metadata": {},
     "output_type": "execute_result"
    }
   ],
   "source": [
    "len(bootstrap_sampling_distribution)"
   ]
  },
  {
   "cell_type": "markdown",
   "id": "handmade-respect",
   "metadata": {},
   "source": [
    "3. Build the sampling distribution for the statistic"
   ]
  },
  {
   "cell_type": "code",
   "execution_count": 145,
   "id": "familiar-native",
   "metadata": {},
   "outputs": [
    {
     "data": {
      "text/plain": [
       "<AxesSubplot:ylabel='Count'>"
      ]
     },
     "execution_count": 145,
     "metadata": {},
     "output_type": "execute_result"
    },
    {
     "data": {
      "image/png": "[encoded data removed]",
      "text/plain": [
       "<Figure size 432x288 with 1 Axes>"
      ]
     },
     "metadata": {
      "needs_background": "light"
     },
     "output_type": "display_data"
    }
   ],
   "source": [
    "sns.histplot(bootstrap_sampling_distribution, kde=True)"
   ]
  },
  {
   "cell_type": "markdown",
   "id": "ordered-onion",
   "metadata": {},
   "source": [
    "4. Compute the interval around the mean with the concentration of c% observations/values<br/>\n",
    "    4.1. c% is the confidence level = 1 – α<br/>\n",
    "    4.2. The interval consists of the α/2 percentile and (1 - α/2) percentile <br/>\n",
    "    4.3. Thus, just sort the statistics and return the values of theses percentiles"
   ]
  },
  {
   "cell_type": "markdown",
   "id": "shared-strain",
   "metadata": {},
   "source": [
    "### ALTERNATIVE 1"
   ]
  },
  {
   "cell_type": "code",
   "execution_count": 147,
   "id": "gorgeous-presentation",
   "metadata": {},
   "outputs": [
    {
     "data": {
      "text/plain": [
       "(0.95, 0.050000000000000044)"
      ]
     },
     "execution_count": 147,
     "metadata": {},
     "output_type": "execute_result"
    }
   ],
   "source": [
    "confidence_level, significance_level"
   ]
  },
  {
   "cell_type": "code",
   "execution_count": 148,
   "id": "4de08b2b-3482-4173-89a8-f6e6437cb1cf",
   "metadata": {},
   "outputs": [
    {
     "data": {
      "text/plain": [
       "[91.884, 92.37990000000002, 92.4456, 92.80840000000002, 93.0234]"
      ]
     },
     "execution_count": 148,
     "metadata": {},
     "output_type": "execute_result"
    }
   ],
   "source": [
    "sorted_bootstrap_sampling_distribution = sorted(bootstrap_sampling_distribution)\n",
    "sorted_bootstrap_sampling_distribution[:5]"
   ]
  },
  {
   "cell_type": "code",
   "execution_count": 149,
   "id": "970145b1-e799-41e2-a939-be68084c8688",
   "metadata": {},
   "outputs": [
    {
     "data": {
      "text/plain": [
       "0.025000000000000022"
      ]
     },
     "execution_count": 149,
     "metadata": {},
     "output_type": "execute_result"
    }
   ],
   "source": [
    "percentile_x1 = significance_level / 2\n",
    "percentile_x1"
   ]
  },
  {
   "cell_type": "code",
   "execution_count": 150,
   "id": "31669f06-fec5-4dd4-b784-f9a227ff8d0f",
   "metadata": {},
   "outputs": [
    {
     "data": {
      "text/plain": [
       "0.975"
      ]
     },
     "execution_count": 150,
     "metadata": {},
     "output_type": "execute_result"
    }
   ],
   "source": [
    "percentile_x2 = 1 - (significance_level / 2)\n",
    "percentile_x2"
   ]
  },
  {
   "cell_type": "code",
   "execution_count": 151,
   "id": "02817952-36d2-4710-87f4-10fa90b1d78a",
   "metadata": {},
   "outputs": [
    {
     "data": {
      "text/plain": [
       "(10000, 10000)"
      ]
     },
     "execution_count": 151,
     "metadata": {},
     "output_type": "execute_result"
    }
   ],
   "source": [
    "len(sorted_bootstrap_sampling_distribution), k"
   ]
  },
  {
   "cell_type": "code",
   "execution_count": 152,
   "id": "3a4ac801-cb5f-47d5-bc8b-8dc53831a3af",
   "metadata": {},
   "outputs": [
    {
     "data": {
      "text/plain": [
       "250"
      ]
     },
     "execution_count": 152,
     "metadata": {},
     "output_type": "execute_result"
    }
   ],
   "source": [
    "index_percentile_x1 = int(percentile_x1 * k)\n",
    "index_percentile_x1"
   ]
  },
  {
   "cell_type": "code",
   "execution_count": 153,
   "id": "5815e293-9a40-4114-911d-9f525bb1f580",
   "metadata": {},
   "outputs": [
    {
     "data": {
      "text/plain": [
       "9750"
      ]
     },
     "execution_count": 153,
     "metadata": {},
     "output_type": "execute_result"
    }
   ],
   "source": [
    "index_percentile_x2 = int(percentile_x2 * k)\n",
    "index_percentile_x2"
   ]
  },
  {
   "cell_type": "code",
   "execution_count": 154,
   "id": "d6cdfad9-c742-41ca-92d6-af0b3eadfac4",
   "metadata": {},
   "outputs": [
    {
     "data": {
      "text/plain": [
       "(98.8362, 117.3978)"
      ]
     },
     "execution_count": 154,
     "metadata": {},
     "output_type": "execute_result"
    }
   ],
   "source": [
    "confidence_interval = (\n",
    "    sorted_bootstrap_sampling_distribution[index_percentile_x1],\n",
    "    sorted_bootstrap_sampling_distribution[index_percentile_x2]\n",
    ")\n",
    "confidence_interval"
   ]
  },
  {
   "cell_type": "markdown",
   "id": "romance-flavor",
   "metadata": {},
   "source": [
    "### ALTERNATIVE 2"
   ]
  },
  {
   "cell_type": "code",
   "execution_count": 156,
   "id": "40854299-2c16-4076-bc9c-1e5cc8ff9c82",
   "metadata": {},
   "outputs": [
    {
     "data": {
      "text/plain": [
       "(98.8361825, 117.39633750000002)"
      ]
     },
     "execution_count": 156,
     "metadata": {},
     "output_type": "execute_result"
    }
   ],
   "source": [
    "np.percentile(bootstrap_sampling_distribution, 2.5), \\\n",
    "np.percentile(bootstrap_sampling_distribution, 97.5)"
   ]
  },
  {
   "cell_type": "markdown",
   "id": "decent-antenna",
   "metadata": {},
   "source": [
    "#### Boostrap Sampling Distribution Mean "
   ]
  },
  {
   "cell_type": "code",
   "execution_count": 157,
   "id": "connected-tumor",
   "metadata": {},
   "outputs": [
    {
     "data": {
      "text/plain": [
       "-1.7174511962818144"
      ]
     },
     "execution_count": 157,
     "metadata": {},
     "output_type": "execute_result"
    }
   ],
   "source": [
    "population.mean() - np.array(bootstrap_sampling_distribution).mean()"
   ]
  },
  {
   "cell_type": "markdown",
   "id": "running-vocabulary",
   "metadata": {},
   "source": [
    "### Sample size: 1000"
   ]
  },
  {
   "cell_type": "markdown",
   "id": "satisfied-seeking",
   "metadata": {},
   "source": [
    "1. Get a sample S from the population"
   ]
  },
  {
   "cell_type": "code",
   "execution_count": 158,
   "id": "bffade10-7ac0-4a48-b138-4b49bd257da3",
   "metadata": {},
   "outputs": [
    {
     "data": {
      "text/plain": [
       "1000"
      ]
     },
     "execution_count": 158,
     "metadata": {},
     "output_type": "execute_result"
    }
   ],
   "source": [
    "n = 1000\n",
    "n"
   ]
  },
  {
   "cell_type": "code",
   "execution_count": 159,
   "id": "individual-bible",
   "metadata": {},
   "outputs": [
    {
     "data": {
      "text/plain": [
       "4358     80.94\n",
       "4779     66.71\n",
       "931      78.11\n",
       "3917     90.00\n",
       "1095    103.94\n",
       "         ...  \n",
       "3278     84.70\n",
       "1204    121.19\n",
       "490      65.24\n",
       "2650     59.00\n",
       "34       84.20\n",
       "Name: avg_glucose_level, Length: 1000, dtype: float64"
      ]
     },
     "execution_count": 159,
     "metadata": {},
     "output_type": "execute_result"
    }
   ],
   "source": [
    "# original sample\n",
    "sample_1000 = population.sample(n, random_state=999)\n",
    "sample_1000"
   ]
  },
  {
   "cell_type": "code",
   "execution_count": 160,
   "id": "grateful-forestry",
   "metadata": {},
   "outputs": [
    {
     "data": {
      "text/plain": [
       "<AxesSubplot:xlabel='avg_glucose_level', ylabel='Count'>"
      ]
     },
     "execution_count": 160,
     "metadata": {},
     "output_type": "execute_result"
    },
    {
     "data": {
      "image/png": "[encoded data removed]",
      "text/plain": [
       "<Figure size 432x288 with 1 Axes>"
      ]
     },
     "metadata": {
      "needs_background": "light"
     },
     "output_type": "display_data"
    }
   ],
   "source": [
    "sns.histplot(sample_1000, kde=True)"
   ]
  },
  {
   "cell_type": "markdown",
   "id": "historical-peter",
   "metadata": {},
   "source": [
    "2. Repeat k times:<br/>\n",
    "    2.1. Generate a bootstrap sample by **resampling S**<br/>\n",
    "    2.2. Calculate the desired statistic for the bootstrap sample <br/>\n",
    "3. Build the sampling distribution for the statistic"
   ]
  },
  {
   "cell_type": "markdown",
   "id": "6b58f832-408e-434c-9c8e-55c8712d854e",
   "metadata": {},
   "source": [
    "Instead of doing these steps \"manually\", we can use the method `bootstrap` from the Seaborn package."
   ]
  },
  {
   "cell_type": "code",
   "execution_count": 161,
   "id": "0e43afbc-1dbe-4e2e-9b56-37b1f5ee372f",
   "metadata": {},
   "outputs": [
    {
     "data": {
      "text/plain": [
       "10000"
      ]
     },
     "execution_count": 161,
     "metadata": {},
     "output_type": "execute_result"
    }
   ],
   "source": [
    "k"
   ]
  },
  {
   "cell_type": "code",
   "execution_count": 162,
   "id": "consecutive-patrick",
   "metadata": {},
   "outputs": [
    {
     "data": {
      "text/plain": [
       "array([111.18174, 108.15991, 107.57348, 108.22721, 110.0502 ])"
      ]
     },
     "execution_count": 162,
     "metadata": {},
     "output_type": "execute_result"
    }
   ],
   "source": [
    "bootstrap_sampling_distribution_1000 = sns.algorithms.bootstrap(sample_1000, n_boot=k, func=np.mean, seed=999)\n",
    "bootstrap_sampling_distribution_1000[:5]"
   ]
  },
  {
   "cell_type": "code",
   "execution_count": 163,
   "id": "f49812f4-6c67-4d97-8124-fb6957a49cc6",
   "metadata": {},
   "outputs": [
    {
     "data": {
      "text/plain": [
       "<AxesSubplot:ylabel='Count'>"
      ]
     },
     "execution_count": 163,
     "metadata": {},
     "output_type": "execute_result"
    },
    {
     "data": {
      "image/png": "[encoded data removed]",
      "text/plain": [
       "<Figure size 432x288 with 1 Axes>"
      ]
     },
     "metadata": {
      "needs_background": "light"
     },
     "output_type": "display_data"
    }
   ],
   "source": [
    "sns.histplot(bootstrap_sampling_distribution_1000, kde=True)"
   ]
  },
  {
   "cell_type": "markdown",
   "id": "ethical-container",
   "metadata": {},
   "source": [
    "4. Compute the interval around the mean with the concentration of c% observations/values<br/>\n",
    "    4.1. c% is the confidence level = 1 – α<br/>\n",
    "    4.2. The interval consists of the α/2 percentile and (1 - α/2) percentile <br/>\n",
    "    4.3. Thus, just sort the statistics and return the values of theses percentiles"
   ]
  },
  {
   "cell_type": "code",
   "execution_count": 164,
   "id": "loved-governor",
   "metadata": {},
   "outputs": [
    {
     "data": {
      "text/plain": [
       "(104.86168050000002, 110.520456)"
      ]
     },
     "execution_count": 164,
     "metadata": {},
     "output_type": "execute_result"
    }
   ],
   "source": [
    "confidence_interval = (\n",
    "    np.percentile(bootstrap_sampling_distribution_1000, 2.5),\n",
    "    np.percentile(bootstrap_sampling_distribution_1000, 97.5)\n",
    ")\n",
    "confidence_interval"
   ]
  },
  {
   "cell_type": "markdown",
   "id": "referenced-parcel",
   "metadata": {},
   "source": [
    "#### Boostrap Sampling Distribution Mean "
   ]
  },
  {
   "cell_type": "code",
   "execution_count": 165,
   "id": "supposed-radius",
   "metadata": {},
   "outputs": [
    {
     "data": {
      "text/plain": [
       "-1.5170042232818162"
      ]
     },
     "execution_count": 165,
     "metadata": {},
     "output_type": "execute_result"
    }
   ],
   "source": [
    "population.mean() - np.array(bootstrap_sampling_distribution_1000).mean()"
   ]
  },
  {
   "cell_type": "markdown",
   "id": "electoral-ranch",
   "metadata": {},
   "source": [
    "# 6. Comparing the Calculated 95% Confidence Intervals"
   ]
  },
  {
   "cell_type": "code",
   "execution_count": 166,
   "id": "everyday-behavior",
   "metadata": {},
   "outputs": [],
   "source": [
    "confidence_interval_table = pd.DataFrame({\n",
    "    'Sample Size: 100': [(99.03, 116.78), (98.50, 117.30), (98.83, 117.39)],\n",
    "    'Sample Size: 1000': [(104.86, 110.48), (104.81, 110.53), (104.86, 110.52)]\n",
    "}, index=[('Confidence Interval - Known population std'),\n",
    "          ('Confidence Interval - Unknown population std'),\n",
    "         'Bootstrap']\n",
    ")"
   ]
  },
  {
   "cell_type": "code",
   "execution_count": 167,
   "id": "a46c18c7-65ff-4ffa-8800-95a44a54c012",
   "metadata": {},
   "outputs": [
    {
     "data": {
      "text/html": [
       "<div>\n",
       "<style scoped>\n",
       "    .dataframe tbody tr th:only-of-type {\n",
       "        vertical-align: middle;\n",
       "    }\n",
       "\n",
       "    .dataframe tbody tr th {\n",
       "        vertical-align: top;\n",
       "    }\n",
       "\n",
       "    .dataframe thead th {\n",
       "        text-align: right;\n",
       "    }\n",
       "</style>\n",
       "<table border=\"1\" class=\"dataframe\">\n",
       "  <thead>\n",
       "    <tr style=\"text-align: right;\">\n",
       "      <th></th>\n",
       "      <th>Sample Size: 100</th>\n",
       "      <th>Sample Size: 1000</th>\n",
       "    </tr>\n",
       "  </thead>\n",
       "  <tbody>\n",
       "    <tr>\n",
       "      <th>Confidence Interval - Known population std</th>\n",
       "      <td>(99.03, 116.78)</td>\n",
       "      <td>(104.86, 110.48)</td>\n",
       "    </tr>\n",
       "    <tr>\n",
       "      <th>Confidence Interval - Unknown population std</th>\n",
       "      <td>(98.5, 117.3)</td>\n",
       "      <td>(104.81, 110.53)</td>\n",
       "    </tr>\n",
       "    <tr>\n",
       "      <th>Bootstrap</th>\n",
       "      <td>(98.83, 117.39)</td>\n",
       "      <td>(104.86, 110.52)</td>\n",
       "    </tr>\n",
       "  </tbody>\n",
       "</table>\n",
       "</div>"
      ],
      "text/plain": [
       "                                             Sample Size: 100  \\\n",
       "Confidence Interval - Known population std    (99.03, 116.78)   \n",
       "Confidence Interval - Unknown population std    (98.5, 117.3)   \n",
       "Bootstrap                                     (98.83, 117.39)   \n",
       "\n",
       "                                             Sample Size: 1000  \n",
       "Confidence Interval - Known population std    (104.86, 110.48)  \n",
       "Confidence Interval - Unknown population std  (104.81, 110.53)  \n",
       "Bootstrap                                     (104.86, 110.52)  "
      ]
     },
     "execution_count": 167,
     "metadata": {},
     "output_type": "execute_result"
    }
   ],
   "source": [
    "confidence_interval_table"
   ]
  },
  {
   "cell_type": "markdown",
   "id": "8ea1f8c7-75e8-4661-8a9c-abdd0e03b0e9",
   "metadata": {},
   "source": [
    "#### Population Mean = 106.1476771037182"
   ]
  }
 ],
 "metadata": {
  "kernelspec": {
   "display_name": "Python 3",
   "language": "python",
   "name": "python3"
  },
  "language_info": {
   "codemirror_mode": {
    "name": "ipython",
    "version": 3
   },
   "file_extension": ".py",
   "mimetype": "text/x-python",
   "name": "python",
   "nbconvert_exporter": "python",
   "pygments_lexer": "ipython3",
   "version": "3.8.5"
  }
 },
 "nbformat": 4,
 "nbformat_minor": 5
}
