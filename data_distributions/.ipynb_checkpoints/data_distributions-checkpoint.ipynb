{
 "cells": [
  {
   "cell_type": "markdown",
   "id": "going-scene",
   "metadata": {},
   "source": [
    "**D1AED: Análise Estatística para Ciência de Dados** <br/>\n",
    "IFSP Campinas\n",
    "\n",
    "Prof Dr. Samuel Martins <br/><br/>\n",
    "\n",
    "<a rel=\"license\" href=\"http://creativecommons.org/licenses/by-nc-sa/4.0/\"><img alt=\"Creative Commons License\" style=\"border-width:0\" src=\"https://i.creativecommons.org/l/by-nc-sa/4.0/88x31.png\" /></a><br />This work is licensed under a <a rel=\"license\" href=\"http://creativecommons.org/licenses/by-nc-sa/4.0/\">Creative Commons Attribution-NonCommercial-ShareAlike 4.0 International License</a>."
   ]
  },
  {
   "cell_type": "markdown",
   "id": "liable-hayes",
   "metadata": {},
   "source": [
    "# 1. Probability Distributions"
   ]
  },
  {
   "cell_type": "markdown",
   "id": "orange-bracket",
   "metadata": {},
   "source": [
    "## 1.2. Binomial Distribution"
   ]
  },
  {
   "cell_type": "markdown",
   "id": "thick-genesis",
   "metadata": {},
   "source": [
    "<img src=\"./imgs/binomial_distribution_ex.png\" width=500/>"
   ]
  },
  {
   "cell_type": "markdown",
   "id": "completed-frame",
   "metadata": {},
   "source": [
    "### Exercise 1"
   ]
  },
  {
   "cell_type": "markdown",
   "id": "centered-poverty",
   "metadata": {},
   "source": [
    "In an admission test for the Data Science specialization, **10 questions** with  **3 possible choices** in each question.<br/>\n",
    "**Each question scores equally**. Suppose that a candidate has not been prepared for the test. She decided to guess all answers.<br/>\n",
    "Let the test has the **maximum score of 10** and **cut-off score of 5** for being approved for the next stage.<br/>\n",
    "\n",
    "Provide the _probability_ that this candidate will **get 5 questions right**, and the _probability_ that she will **advance to the next stage of the test**.<br/><br/>\n"
   ]
  },
  {
   "cell_type": "markdown",
   "id": "formed-internet",
   "metadata": {},
   "source": [
    "#### Is this a Binomial experiment?"
   ]
  },
  {
   "cell_type": "markdown",
   "id": "wireless-intersection",
   "metadata": {},
   "source": [
    "#### 1. How many trials (n)? (Fixed number of identical trials)"
   ]
  },
  {
   "cell_type": "code",
   "execution_count": 1,
   "id": "optional-charles",
   "metadata": {},
   "outputs": [
    {
     "data": {
      "text/plain": [
       "10"
      ]
     },
     "execution_count": 1,
     "metadata": {},
     "output_type": "execute_result"
    }
   ],
   "source": [
    "# number of trials == number of questions\n",
    "n = 10\n",
    "n"
   ]
  },
  {
   "cell_type": "markdown",
   "id": "tough-iraqi",
   "metadata": {},
   "source": [
    "#### 2. Are the trials independent?"
   ]
  },
  {
   "cell_type": "markdown",
   "id": "damaged-updating",
   "metadata": {},
   "source": [
    "Yes. One option chosen for a given question does not influence the chosen answer for the other questions."
   ]
  },
  {
   "cell_type": "markdown",
   "id": "polished-glance",
   "metadata": {},
   "source": [
    "#### 3. Are only two outcomes possible per trial?"
   ]
  },
  {
   "cell_type": "markdown",
   "id": "parallel-settle",
   "metadata": {},
   "source": [
    "Yes. The candidate has two possibilities: **hit** or **miss** the question."
   ]
  },
  {
   "cell_type": "markdown",
   "id": "bigger-planning",
   "metadata": {},
   "source": [
    "#### 4. What is the probability of success (p) and failure (q)?"
   ]
  },
  {
   "cell_type": "code",
   "execution_count": 2,
   "id": "fantastic-occurrence",
   "metadata": {},
   "outputs": [
    {
     "data": {
      "text/plain": [
       "3"
      ]
     },
     "execution_count": 2,
     "metadata": {},
     "output_type": "execute_result"
    }
   ],
   "source": [
    "# question == trial\n",
    "n_choices_per_question = 3\n",
    "n_choices_per_question"
   ]
  },
  {
   "cell_type": "code",
   "execution_count": 3,
   "id": "hearing-midwest",
   "metadata": {},
   "outputs": [
    {
     "data": {
      "text/plain": [
       "0.3333333333333333"
      ]
     },
     "execution_count": 3,
     "metadata": {},
     "output_type": "execute_result"
    }
   ],
   "source": [
    "# probabilidade de acertar uma questão ==> hit\n",
    "p = 1 / n_choices_per_question\n",
    "p"
   ]
  },
  {
   "cell_type": "code",
   "execution_count": 4,
   "id": "settled-costume",
   "metadata": {},
   "outputs": [
    {
     "data": {
      "text/plain": [
       "0.6666666666666667"
      ]
     },
     "execution_count": 4,
     "metadata": {},
     "output_type": "execute_result"
    }
   ],
   "source": [
    "# probabilidade de errar uma questão ==> miss\n",
    "q = 1 - p\n",
    "q"
   ]
  },
  {
   "cell_type": "markdown",
   "id": "prerequisite-textbook",
   "metadata": {},
   "source": [
    "Therefore, it is a **Binomial experiment**.\n",
    "\n",
    "**Random variable X**: number of hit questions."
   ]
  },
  {
   "cell_type": "markdown",
   "id": "grand-jenny",
   "metadata": {},
   "source": [
    "<br/>\n",
    "\n",
    "#### Q1. What is the _probability_ that the candidate will get 5 questions right?\n",
    "\n",
    "P(X = 5)"
   ]
  },
  {
   "cell_type": "markdown",
   "id": "disciplinary-pastor",
   "metadata": {},
   "source": [
    "#### What is the total number of events that you want to get successes (x)? "
   ]
  },
  {
   "cell_type": "code",
   "execution_count": 5,
   "id": "accepting-version",
   "metadata": {},
   "outputs": [
    {
     "data": {
      "text/plain": [
       "5"
      ]
     },
     "execution_count": 5,
     "metadata": {},
     "output_type": "execute_result"
    }
   ],
   "source": [
    "# quantas questões você quer acertar\n",
    "x = 5\n",
    "x"
   ]
  },
  {
   "cell_type": "markdown",
   "id": "incident-prayer",
   "metadata": {},
   "source": [
    "##### Solution 1"
   ]
  },
  {
   "cell_type": "code",
   "execution_count": 6,
   "id": "dedicated-functionality",
   "metadata": {},
   "outputs": [],
   "source": [
    "from scipy.special import comb  # computa combinacoes"
   ]
  },
  {
   "cell_type": "code",
   "execution_count": 7,
   "id": "lightweight-photographer",
   "metadata": {},
   "outputs": [
    {
     "data": {
      "text/plain": [
       "0.13656454808718185"
      ]
     },
     "execution_count": 7,
     "metadata": {},
     "output_type": "execute_result"
    }
   ],
   "source": [
    "prob = comb(n, x) * (p ** x) * (q ** (n - x))\n",
    "prob"
   ]
  },
  {
   "cell_type": "markdown",
   "id": "unexpected-carbon",
   "metadata": {},
   "source": [
    "##### Solution 2"
   ]
  },
  {
   "cell_type": "code",
   "execution_count": 8,
   "id": "premium-logging",
   "metadata": {},
   "outputs": [],
   "source": [
    "from scipy.stats import binom"
   ]
  },
  {
   "cell_type": "code",
   "execution_count": 9,
   "id": "fiscal-purse",
   "metadata": {},
   "outputs": [
    {
     "data": {
      "text/plain": [
       "0.13656454808718183"
      ]
     },
     "execution_count": 9,
     "metadata": {},
     "output_type": "execute_result"
    }
   ],
   "source": [
    "prob_scy = binom.pmf(x, n, p)\n",
    "prob_scy"
   ]
  },
  {
   "cell_type": "markdown",
   "id": "still-subject",
   "metadata": {},
   "source": [
    "<br/>\n",
    "\n",
    "#### Q2. How likely is the candidate to pass the test? (What is the _probability_ for that?)\n",
    "<center><img src=\"./imgs/binomial_distribution_ex_Q2.png\" width=500/></center>"
   ]
  },
  {
   "cell_type": "markdown",
   "id": "decimal-criterion",
   "metadata": {},
   "source": [
    "##### Solution 1"
   ]
  },
  {
   "cell_type": "code",
   "execution_count": 10,
   "id": "legendary-payment",
   "metadata": {},
   "outputs": [],
   "source": [
    "prob = 0.0\n",
    "\n",
    "# para cada número de questões acertadas possíveis\n",
    "# para o cenário estudado (ser aprovada no teste)\n",
    "for x in range(5, 11):\n",
    "    prob += binom.pmf(x, n, p)"
   ]
  },
  {
   "cell_type": "code",
   "execution_count": 11,
   "id": "49feb057-98bd-4a18-93e9-5ebf2d7f036b",
   "metadata": {},
   "outputs": [
    {
     "data": {
      "text/plain": [
       "0.2131280800690952"
      ]
     },
     "execution_count": 11,
     "metadata": {},
     "output_type": "execute_result"
    }
   ],
   "source": [
    "prob"
   ]
  },
  {
   "cell_type": "markdown",
   "id": "polar-france",
   "metadata": {},
   "source": [
    "##### Solution 2\n",
    "P(X >= 5) = 1 - P(X <= 4) = 1 - CDF(4)"
   ]
  },
  {
   "cell_type": "code",
   "execution_count": 12,
   "id": "angry-dress",
   "metadata": {},
   "outputs": [
    {
     "data": {
      "text/plain": [
       "0.21312808006909512"
      ]
     },
     "execution_count": 12,
     "metadata": {},
     "output_type": "execute_result"
    }
   ],
   "source": [
    "prob_scy = 1 - binom.cdf(4, n, p)\n",
    "prob_scy"
   ]
  },
  {
   "cell_type": "markdown",
   "id": "regulation-example",
   "metadata": {},
   "source": [
    "##### Solution 3\n",
    "https://docs.scipy.org/doc/scipy/reference/generated/scipy.stats.binom.html\n",
    "\n",
    "SF(4) = 1 - CDF(4) = 1 - P(X <= 4)"
   ]
  },
  {
   "cell_type": "code",
   "execution_count": 13,
   "id": "dressed-championship",
   "metadata": {},
   "outputs": [
    {
     "data": {
      "text/plain": [
       "0.21312808006909517"
      ]
     },
     "execution_count": 13,
     "metadata": {},
     "output_type": "execute_result"
    }
   ],
   "source": [
    "binom.sf(4, n, p)"
   ]
  },
  {
   "cell_type": "markdown",
   "id": "turkish-pressing",
   "metadata": {},
   "source": [
    "<br/>\n",
    "\n",
    "### Exercise 2"
   ]
  },
  {
   "cell_type": "markdown",
   "id": "front-plenty",
   "metadata": {},
   "source": [
    "In the last World Chess Championship, **the proportion of female participants was 60%.** <br/>\n",
    "**The total of teams, with 12 members, in this year's championship is 30.** <br/>\n",
    "According to these information, **how many teams should be formed by 8 women?** <br/><br/>\n",
    "\n"
   ]
  },
  {
   "cell_type": "markdown",
   "id": "eleven-framework",
   "metadata": {},
   "source": [
    "Let's first calculate the probability of a team has 8 women."
   ]
  },
  {
   "cell_type": "markdown",
   "id": "parallel-poster",
   "metadata": {},
   "source": [
    "#### 1. How many trials (n)? (Fixed number of identical trials)"
   ]
  },
  {
   "cell_type": "code",
   "execution_count": 14,
   "id": "offshore-tuesday",
   "metadata": {},
   "outputs": [
    {
     "data": {
      "text/plain": [
       "12"
      ]
     },
     "execution_count": 14,
     "metadata": {},
     "output_type": "execute_result"
    }
   ],
   "source": [
    "n = 12\n",
    "n"
   ]
  },
  {
   "cell_type": "markdown",
   "id": "composed-syntax",
   "metadata": {},
   "source": [
    "#### 2. Are the trials independent?"
   ]
  },
  {
   "cell_type": "markdown",
   "id": "soviet-kelly",
   "metadata": {},
   "source": [
    "Yes. The gender of each member is independent."
   ]
  },
  {
   "cell_type": "markdown",
   "id": "measured-underwear",
   "metadata": {},
   "source": [
    "#### 3. Are only two outcomes possible per trial?"
   ]
  },
  {
   "cell_type": "markdown",
   "id": "gothic-impression",
   "metadata": {},
   "source": [
    "Yes: woman (success) and others (failure)."
   ]
  },
  {
   "cell_type": "markdown",
   "id": "bound-vacuum",
   "metadata": {},
   "source": [
    "#### 4. What is the probability of success (p) and failure (q)?"
   ]
  },
  {
   "cell_type": "code",
   "execution_count": 15,
   "id": "certain-pakistan",
   "metadata": {},
   "outputs": [
    {
     "data": {
      "text/plain": [
       "0.6"
      ]
     },
     "execution_count": 15,
     "metadata": {},
     "output_type": "execute_result"
    }
   ],
   "source": [
    "p = 0.6\n",
    "p"
   ]
  },
  {
   "cell_type": "code",
   "execution_count": 16,
   "id": "ecafc2b1-ee14-4348-911a-21577a145282",
   "metadata": {},
   "outputs": [
    {
     "data": {
      "text/plain": [
       "0.4"
      ]
     },
     "execution_count": 16,
     "metadata": {},
     "output_type": "execute_result"
    }
   ],
   "source": [
    "q = 1 - p\n",
    "q"
   ]
  },
  {
   "cell_type": "markdown",
   "id": "ranking-excerpt",
   "metadata": {},
   "source": [
    "#### What is the total number of events that you want to get successes (x)? "
   ]
  },
  {
   "cell_type": "code",
   "execution_count": 17,
   "id": "white-requirement",
   "metadata": {},
   "outputs": [
    {
     "data": {
      "text/plain": [
       "8"
      ]
     },
     "execution_count": 17,
     "metadata": {},
     "output_type": "execute_result"
    }
   ],
   "source": [
    "x = 8\n",
    "x"
   ]
  },
  {
   "cell_type": "markdown",
   "id": "humanitarian-gazette",
   "metadata": {},
   "source": [
    "#### Q: How many teams (out of 30) should be formed by 8 women?"
   ]
  },
  {
   "cell_type": "code",
   "execution_count": 18,
   "id": "absolute-demonstration",
   "metadata": {},
   "outputs": [
    {
     "data": {
      "text/plain": [
       "0.2128409395199996"
      ]
     },
     "execution_count": 18,
     "metadata": {},
     "output_type": "execute_result"
    }
   ],
   "source": [
    "# probability of a team (12 members) having 8 women ===> P(X = 8) ==> PMF\n",
    "from scipy.stats import binom\n",
    "\n",
    "prob = binom.pmf(x, n, p)\n",
    "\n",
    "prob"
   ]
  },
  {
   "cell_type": "markdown",
   "id": "shared-flight",
   "metadata": {},
   "source": [
    "##### Solution"
   ]
  },
  {
   "cell_type": "markdown",
   "id": "endless-employer",
   "metadata": {},
   "source": [
    "#### mean = n_total_teams * prob"
   ]
  },
  {
   "cell_type": "code",
   "execution_count": 19,
   "id": "surrounded-catalog",
   "metadata": {},
   "outputs": [
    {
     "data": {
      "text/plain": [
       "30"
      ]
     },
     "execution_count": 19,
     "metadata": {},
     "output_type": "execute_result"
    }
   ],
   "source": [
    "n_total_teams = 30\n",
    "n_total_teams"
   ]
  },
  {
   "cell_type": "code",
   "execution_count": 20,
   "id": "romantic-custody",
   "metadata": {},
   "outputs": [
    {
     "data": {
      "text/plain": [
       "6.385228185599988"
      ]
     },
     "execution_count": 20,
     "metadata": {},
     "output_type": "execute_result"
    }
   ],
   "source": [
    "# What is the expected value (mean) of 30 trials (teams) having teams with 8 women (successes)?\n",
    "n_team_with_8_women = n_total_teams * prob\n",
    "n_team_with_8_women"
   ]
  },
  {
   "cell_type": "markdown",
   "id": "special-listening",
   "metadata": {},
   "source": [
    "<br/>\n",
    "\n",
    "## 1.3. Poisson Distribution"
   ]
  },
  {
   "cell_type": "markdown",
   "id": "animal-handbook",
   "metadata": {},
   "source": [
    "<img src=\"./imgs/poisson_distribution_formula.png\" width=600/>"
   ]
  },
  {
   "cell_type": "markdown",
   "id": "lucky-ability",
   "metadata": {},
   "source": [
    "### Exercise 1"
   ]
  },
  {
   "cell_type": "markdown",
   "id": "informational-reservoir",
   "metadata": {},
   "source": [
    "A restaurant receives **20 orders per hour**. What is the chance that, at a given hour chosen at random, the restaurant will receive **15 orders**?"
   ]
  },
  {
   "cell_type": "markdown",
   "id": "completed-julian",
   "metadata": {},
   "source": [
    "#### What is the mean number of occurrences per hour? (𝜆)"
   ]
  },
  {
   "cell_type": "code",
   "execution_count": 21,
   "id": "transparent-sunday",
   "metadata": {},
   "outputs": [
    {
     "data": {
      "text/plain": [
       "20"
      ]
     },
     "execution_count": 21,
     "metadata": {},
     "output_type": "execute_result"
    }
   ],
   "source": [
    "lambda_ = 20\n",
    "lambda_"
   ]
  },
  {
   "cell_type": "markdown",
   "id": "floppy-avenue",
   "metadata": {},
   "source": [
    "#### What is the desired number of occurrences within the period of time? (x)\n",
    "P(X = 15)"
   ]
  },
  {
   "cell_type": "code",
   "execution_count": 22,
   "id": "local-vatican",
   "metadata": {},
   "outputs": [
    {
     "data": {
      "text/plain": [
       "15"
      ]
     },
     "execution_count": 22,
     "metadata": {},
     "output_type": "execute_result"
    }
   ],
   "source": [
    "x = 15\n",
    "x"
   ]
  },
  {
   "cell_type": "markdown",
   "id": "massive-indicator",
   "metadata": {},
   "source": [
    "##### Solution 1"
   ]
  },
  {
   "cell_type": "code",
   "execution_count": 23,
   "id": "absent-canadian",
   "metadata": {},
   "outputs": [],
   "source": [
    "import numpy as np"
   ]
  },
  {
   "cell_type": "code",
   "execution_count": 24,
   "id": "a8b52a90-5141-4cc4-a0ab-1579eb341319",
   "metadata": {},
   "outputs": [
    {
     "data": {
      "text/plain": [
       "0.0516488535317584"
      ]
     },
     "execution_count": 24,
     "metadata": {},
     "output_type": "execute_result"
    }
   ],
   "source": [
    "prob = ((np.e ** (-lambda_)) * (lambda_ ** x)) / np.math.factorial(x)\n",
    "prob"
   ]
  },
  {
   "cell_type": "markdown",
   "id": "activated-seminar",
   "metadata": {},
   "source": [
    "##### Solution 2\n",
    "https://docs.scipy.org/doc/scipy/reference/generated/scipy.stats.poisson.html"
   ]
  },
  {
   "cell_type": "code",
   "execution_count": 25,
   "id": "modified-imagination",
   "metadata": {},
   "outputs": [],
   "source": [
    "from scipy.stats import poisson"
   ]
  },
  {
   "cell_type": "code",
   "execution_count": 26,
   "id": "noticed-condition",
   "metadata": {},
   "outputs": [
    {
     "data": {
      "text/plain": [
       "0.05164885353175814"
      ]
     },
     "execution_count": 26,
     "metadata": {},
     "output_type": "execute_result"
    }
   ],
   "source": [
    "prob_scy = poisson.pmf(x, lambda_)\n",
    "prob_scy"
   ]
  },
  {
   "cell_type": "markdown",
   "id": "amber-roulette",
   "metadata": {},
   "source": [
    "### Exercise 2"
   ]
  },
  {
   "cell_type": "markdown",
   "id": "functioning-dress",
   "metadata": {},
   "source": [
    "Vehicles pass through a junction on a busy road at an average rate of 300 per hour. <br/>"
   ]
  },
  {
   "cell_type": "markdown",
   "id": "individual-invention",
   "metadata": {},
   "source": [
    "#### **Q1**: Find the probability that none passes in a given minute."
   ]
  },
  {
   "cell_type": "markdown",
   "id": "loved-stereo",
   "metadata": {},
   "source": [
    "##### The average number of cars per minute (𝜆)"
   ]
  },
  {
   "cell_type": "code",
   "execution_count": 27,
   "id": "duplicate-definition",
   "metadata": {},
   "outputs": [
    {
     "data": {
      "text/plain": [
       "5.0"
      ]
     },
     "execution_count": 27,
     "metadata": {},
     "output_type": "execute_result"
    }
   ],
   "source": [
    "lambda_ = 300 / 60\n",
    "lambda_"
   ]
  },
  {
   "cell_type": "markdown",
   "id": "compliant-cancer",
   "metadata": {},
   "source": [
    "##### What is the desired number of occurrences within the period of time? (x)"
   ]
  },
  {
   "cell_type": "code",
   "execution_count": 28,
   "id": "victorian-creature",
   "metadata": {},
   "outputs": [
    {
     "data": {
      "text/plain": [
       "0"
      ]
     },
     "execution_count": 28,
     "metadata": {},
     "output_type": "execute_result"
    }
   ],
   "source": [
    "x = 0\n",
    "x"
   ]
  },
  {
   "cell_type": "code",
   "execution_count": 29,
   "id": "light-worship",
   "metadata": {},
   "outputs": [
    {
     "data": {
      "text/plain": [
       "0.006737946999085467"
      ]
     },
     "execution_count": 29,
     "metadata": {},
     "output_type": "execute_result"
    }
   ],
   "source": [
    "# P(X=0)\n",
    "prob = poisson.pmf(x, lambda_)\n",
    "prob"
   ]
  },
  {
   "cell_type": "markdown",
   "id": "biblical-distinction",
   "metadata": {},
   "source": [
    "#### **Q2**: What is the expected number (average number) passing in two minutes?"
   ]
  },
  {
   "cell_type": "code",
   "execution_count": 30,
   "id": "emerging-brooks",
   "metadata": {},
   "outputs": [
    {
     "data": {
      "text/plain": [
       "10.0"
      ]
     },
     "execution_count": 30,
     "metadata": {},
     "output_type": "execute_result"
    }
   ],
   "source": [
    "# lambda_ = average rate of passing in a minute\n",
    "expected_number_per_two_minutes = lambda_ * 2\n",
    "expected_number_per_two_minutes"
   ]
  },
  {
   "cell_type": "markdown",
   "id": "atomic-numbers",
   "metadata": {},
   "source": [
    "#### **Q3**: Find the probability that this expected number actually passes through in a given two-minute period.\n",
    "Given that the average rate of vehicles that pass through in a busy road in **two minutes** is **10**, which is the probability of passing through **exactly 10 vehicles** in a given two-minute period?"
   ]
  },
  {
   "cell_type": "markdown",
   "id": "lyric-deployment",
   "metadata": {},
   "source": [
    "##### The average number of cars per two minutes (𝜆)"
   ]
  },
  {
   "cell_type": "code",
   "execution_count": 31,
   "id": "collective-eating",
   "metadata": {},
   "outputs": [
    {
     "data": {
      "text/plain": [
       "10"
      ]
     },
     "execution_count": 31,
     "metadata": {},
     "output_type": "execute_result"
    }
   ],
   "source": [
    "lambda_ = 10\n",
    "lambda_"
   ]
  },
  {
   "cell_type": "markdown",
   "id": "amber-richards",
   "metadata": {},
   "source": [
    "##### What is the desired number of occurrences within the period of time? (x)"
   ]
  },
  {
   "cell_type": "code",
   "execution_count": 32,
   "id": "after-burke",
   "metadata": {},
   "outputs": [
    {
     "data": {
      "text/plain": [
       "10"
      ]
     },
     "execution_count": 32,
     "metadata": {},
     "output_type": "execute_result"
    }
   ],
   "source": [
    "x = 10\n",
    "x"
   ]
  },
  {
   "cell_type": "code",
   "execution_count": 33,
   "id": "vocal-explanation",
   "metadata": {},
   "outputs": [
    {
     "data": {
      "text/plain": [
       "0.12511003572113372"
      ]
     },
     "execution_count": 33,
     "metadata": {},
     "output_type": "execute_result"
    }
   ],
   "source": [
    "# P(X=10)\n",
    "prob = poisson.pmf(x, lambda_)\n",
    "prob"
   ]
  },
  {
   "cell_type": "markdown",
   "id": "indirect-alaska",
   "metadata": {},
   "source": [
    "### Exercise 3"
   ]
  },
  {
   "cell_type": "markdown",
   "id": "gentle-vatican",
   "metadata": {},
   "source": [
    "Suppose the **average number of lions** seen on a **1-day safari** is **5**. What is the probability that tourists will see **fewer than four lions** on the next 1-day safari?"
   ]
  },
  {
   "cell_type": "markdown",
   "id": "innovative-majority",
   "metadata": {},
   "source": [
    "#### What is the mean number of lions seen on a 1-day safari? (𝜆)"
   ]
  },
  {
   "cell_type": "code",
   "execution_count": 34,
   "id": "second-diploma",
   "metadata": {},
   "outputs": [
    {
     "data": {
      "text/plain": [
       "5"
      ]
     },
     "execution_count": 34,
     "metadata": {},
     "output_type": "execute_result"
    }
   ],
   "source": [
    "lambda_ = 5\n",
    "lambda_"
   ]
  },
  {
   "cell_type": "markdown",
   "id": "changed-bosnia",
   "metadata": {},
   "source": [
    "#### What is the desired number of occurrences within the period of time? (x)\n",
    "x = 0, 1, 2, or 3"
   ]
  },
  {
   "cell_type": "markdown",
   "id": "dutch-annual",
   "metadata": {},
   "source": [
    "<img src=\"./imgs/poisson_distribution_ex3.png\" width=400/>"
   ]
  },
  {
   "cell_type": "markdown",
   "id": "relevant-certificate",
   "metadata": {},
   "source": [
    "##### Solution 1"
   ]
  },
  {
   "cell_type": "code",
   "execution_count": 35,
   "id": "skilled-reserve",
   "metadata": {},
   "outputs": [
    {
     "data": {
      "text/plain": [
       "0.26502591529736164"
      ]
     },
     "execution_count": 35,
     "metadata": {},
     "output_type": "execute_result"
    }
   ],
   "source": [
    "prob = 0.0\n",
    "\n",
    "for x in range(4):\n",
    "    prob += poisson.pmf(x, lambda_)\n",
    "\n",
    "prob"
   ]
  },
  {
   "cell_type": "markdown",
   "id": "buried-stone",
   "metadata": {},
   "source": [
    "##### Solution 2"
   ]
  },
  {
   "cell_type": "code",
   "execution_count": 37,
   "id": "metric-information",
   "metadata": {},
   "outputs": [
    {
     "data": {
      "text/plain": [
       "0.2650259152973616"
      ]
     },
     "execution_count": 37,
     "metadata": {},
     "output_type": "execute_result"
    }
   ],
   "source": [
    "# P(X ≤ 3) = CDF(3)\n",
    "x = 3\n",
    "\n",
    "prob_scy = poisson.cdf(x, lambda_)\n",
    "prob_scy"
   ]
  },
  {
   "cell_type": "markdown",
   "id": "characteristic-convention",
   "metadata": {},
   "source": [
    "<br/>\n",
    "\n",
    "## 1.4. Normal Distribution"
   ]
  },
  {
   "cell_type": "markdown",
   "id": "stylish-spouse",
   "metadata": {},
   "source": [
    "<img src=\"./imgs/standard_normal_distribution_formula.png\" width=700/>"
   ]
  },
  {
   "cell_type": "markdown",
   "id": "historic-possibility",
   "metadata": {},
   "source": [
    "### Exercise 1"
   ]
  },
  {
   "cell_type": "markdown",
   "id": "unusual-albania",
   "metadata": {},
   "source": [
    "When studying the height of the inhabitants of Pompeia, it was found that its **distribution is approximately normal**, with **mean** of 1.70 m and **standard deviation** of 0.1."
   ]
  },
  {
   "cell_type": "code",
   "execution_count": 1,
   "id": "senior-escape",
   "metadata": {},
   "outputs": [],
   "source": [
    "mean = 1.7\n",
    "std = 0.1"
   ]
  },
  {
   "cell_type": "markdown",
   "id": "naked-practice",
   "metadata": {},
   "source": [
    "#### Q1: Probability of a person, selected by chance, is less than 1.8m tall? P(X < 1.8) = P(X ≤ 1.8)"
   ]
  },
  {
   "cell_type": "code",
   "execution_count": 2,
   "id": "positive-pricing",
   "metadata": {},
   "outputs": [
    {
     "data": {
      "text/plain": [
       "1.8"
      ]
     },
     "execution_count": 2,
     "metadata": {},
     "output_type": "execute_result"
    }
   ],
   "source": [
    "x = 1.8\n",
    "x"
   ]
  },
  {
   "cell_type": "code",
   "execution_count": 3,
   "id": "geological-history",
   "metadata": {},
   "outputs": [
    {
     "data": {
      "text/plain": [
       "1.0000000000000009"
      ]
     },
     "execution_count": 3,
     "metadata": {},
     "output_type": "execute_result"
    }
   ],
   "source": [
    "z = (x - mean) / std\n",
    "z"
   ]
  },
  {
   "cell_type": "markdown",
   "id": "changing-detection",
   "metadata": {},
   "source": [
    "##### **P(X ≤ 1.8) = P(Z ≤ 1.000)**"
   ]
  },
  {
   "cell_type": "markdown",
   "id": "compressed-partnership",
   "metadata": {},
   "source": [
    "##### Solution 1 - Using the z-score table\n",
    "https://www.math.arizona.edu/~rsims/ma464/standardnormaltable.pdf"
   ]
  },
  {
   "cell_type": "markdown",
   "id": "israeli-macedonia",
   "metadata": {},
   "source": [
    "Checking the z-score table, **P(Z ≤ 1.000)=0.84134**"
   ]
  },
  {
   "cell_type": "markdown",
   "id": "chinese-election",
   "metadata": {},
   "source": [
    "##### Solution 2 - Using scipy"
   ]
  },
  {
   "cell_type": "code",
   "execution_count": 4,
   "id": "handled-benchmark",
   "metadata": {},
   "outputs": [],
   "source": [
    "from scipy.stats import norm"
   ]
  },
  {
   "cell_type": "code",
   "execution_count": 6,
   "id": "adjacent-savings",
   "metadata": {},
   "outputs": [
    {
     "data": {
      "text/plain": [
       "0.8413447460685431"
      ]
     },
     "execution_count": 6,
     "metadata": {},
     "output_type": "execute_result"
    }
   ],
   "source": [
    "# Z~N(0,1)\n",
    "# CDF(z=1.0)\n",
    "prob = norm.cdf(z)\n",
    "prob"
   ]
  },
  {
   "cell_type": "markdown",
   "id": "eb0bb558-5f14-49a7-bd44-6c8303afe1ea",
   "metadata": {},
   "source": [
    "##### Solution 3 - Using scipy"
   ]
  },
  {
   "cell_type": "code",
   "execution_count": 9,
   "id": "8368cb37-762d-4b7e-986c-8620f07fd270",
   "metadata": {},
   "outputs": [
    {
     "data": {
      "text/plain": [
       "0.8413447460685431"
      ]
     },
     "execution_count": 9,
     "metadata": {},
     "output_type": "execute_result"
    }
   ],
   "source": [
    "# computando diretamente no scipy\n",
    "# P(X<1.8), para X~N(1.7, 0.1)\n",
    "norm.cdf(x, loc=mean, scale=std)"
   ]
  },
  {
   "cell_type": "markdown",
   "id": "professional-synthesis",
   "metadata": {},
   "source": [
    "#### Q2: Probability of a person, selected by chance, is between 1.6m and 1.8m tall? P(1.6 <= X <= 1.8)\n",
    "P(1.6 <= X <= 1.8) = P(X ≤ 1.8) - P(X ≤ 1.6)"
   ]
  },
  {
   "cell_type": "code",
   "execution_count": 10,
   "id": "unknown-ultimate",
   "metadata": {},
   "outputs": [],
   "source": [
    "a = 1.6\n",
    "b = 1.8"
   ]
  },
  {
   "cell_type": "code",
   "execution_count": 11,
   "id": "editorial-ontario",
   "metadata": {},
   "outputs": [
    {
     "data": {
      "text/plain": [
       "(-0.9999999999999987, 1.0000000000000009)"
      ]
     },
     "execution_count": 11,
     "metadata": {},
     "output_type": "execute_result"
    }
   ],
   "source": [
    "z_a = (a - mean) / std\n",
    "z_b = (b - mean) / std\n",
    "\n",
    "z_a, z_b"
   ]
  },
  {
   "cell_type": "markdown",
   "id": "graduate-genetics",
   "metadata": {},
   "source": [
    "**P(1.6 <= X <= 1.8) = P(Z ≤ 1.0) - P(Z ≤ -0.9999)**"
   ]
  },
  {
   "cell_type": "markdown",
   "id": "approximate-damage",
   "metadata": {},
   "source": [
    "##### Solution 1 - Using the z-score table\n",
    "https://www.math.arizona.edu/~rsims/ma464/standardnormaltable.pdf"
   ]
  },
  {
   "cell_type": "code",
   "execution_count": 12,
   "id": "professional-music",
   "metadata": {},
   "outputs": [],
   "source": [
    "prob_z_a = 0.16109\n",
    "prob_z_b = 0.84134"
   ]
  },
  {
   "cell_type": "code",
   "execution_count": 13,
   "id": "ac26e83f-de38-4b60-972e-b1c42657a783",
   "metadata": {},
   "outputs": [
    {
     "data": {
      "text/plain": [
       "0.68025"
      ]
     },
     "execution_count": 13,
     "metadata": {},
     "output_type": "execute_result"
    }
   ],
   "source": [
    "prob = prob_z_b - prob_z_a\n",
    "prob"
   ]
  },
  {
   "cell_type": "markdown",
   "id": "soviet-cooperative",
   "metadata": {},
   "source": [
    "##### Solution 2 - Using scipy"
   ]
  },
  {
   "cell_type": "code",
   "execution_count": 14,
   "id": "round-welding",
   "metadata": {},
   "outputs": [
    {
     "data": {
      "text/plain": [
       "0.6826894921370857"
      ]
     },
     "execution_count": 14,
     "metadata": {},
     "output_type": "execute_result"
    }
   ],
   "source": [
    "# P(Z < z_b) - P(Z < z_a)\n",
    "norm.cdf(z_b) - norm.cdf(z_a)"
   ]
  },
  {
   "cell_type": "markdown",
   "id": "66a56ed0-0fbc-4353-ab06-53516cd149ad",
   "metadata": {},
   "source": [
    "##### Solution 3 - Using scipy"
   ]
  },
  {
   "cell_type": "code",
   "execution_count": 15,
   "id": "08a5fbcc-c202-40fe-9807-33b5f963ef6d",
   "metadata": {},
   "outputs": [
    {
     "data": {
      "text/plain": [
       "0.6826894921370857"
      ]
     },
     "execution_count": 15,
     "metadata": {},
     "output_type": "execute_result"
    }
   ],
   "source": [
    "# P(X < b) - P(X < a)\n",
    "norm.cdf(b, loc=mean, scale=std) - norm.cdf(a, loc=mean, scale=std)"
   ]
  },
  {
   "cell_type": "markdown",
   "id": "improving-excerpt",
   "metadata": {},
   "source": [
    "#### Q3: Probability of a person, selected by chance, is over 1.9m tall? P (X >= 1.9)\n",
    "P(X >= 1.9) = 1 - P(X ≤ 1.9)"
   ]
  },
  {
   "cell_type": "code",
   "execution_count": 16,
   "id": "marine-treaty",
   "metadata": {},
   "outputs": [
    {
     "data": {
      "text/plain": [
       "1.9"
      ]
     },
     "execution_count": 16,
     "metadata": {},
     "output_type": "execute_result"
    }
   ],
   "source": [
    "x = 1.9\n",
    "x"
   ]
  },
  {
   "cell_type": "code",
   "execution_count": 17,
   "id": "accessible-lighting",
   "metadata": {},
   "outputs": [
    {
     "data": {
      "text/plain": [
       "1.9999999999999996"
      ]
     },
     "execution_count": 17,
     "metadata": {},
     "output_type": "execute_result"
    }
   ],
   "source": [
    "z = (1.9 - mean) / std\n",
    "z"
   ]
  },
  {
   "cell_type": "markdown",
   "id": "fallen-perception",
   "metadata": {},
   "source": [
    "**P(X >= 1.9) = P(Z >= 1.99999) = 1 - P(Z ≤ 1.99999)**"
   ]
  },
  {
   "cell_type": "markdown",
   "id": "powerful-collection",
   "metadata": {},
   "source": [
    "##### Solution 1 - Using the z-score table\n",
    "https://www.math.arizona.edu/~rsims/ma464/standardnormaltable.pdf"
   ]
  },
  {
   "cell_type": "code",
   "execution_count": 18,
   "id": "rapid-lighter",
   "metadata": {},
   "outputs": [
    {
     "data": {
      "text/plain": [
       "0.022750000000000048"
      ]
     },
     "execution_count": 18,
     "metadata": {},
     "output_type": "execute_result"
    }
   ],
   "source": [
    "cdf_z = 0.97725  # considerei a CDF(2.0)\n",
    "\n",
    "prob = 1 - cdf_z\n",
    "prob"
   ]
  },
  {
   "cell_type": "markdown",
   "id": "radio-joint",
   "metadata": {},
   "source": [
    "##### Solution 2 - Using scipy"
   ]
  },
  {
   "cell_type": "code",
   "execution_count": 20,
   "id": "preceding-ireland",
   "metadata": {},
   "outputs": [
    {
     "data": {
      "text/plain": [
       "0.02275013194817921"
      ]
     },
     "execution_count": 20,
     "metadata": {},
     "output_type": "execute_result"
    }
   ],
   "source": [
    "# 1 - P(Z < z)\n",
    "1 - norm.cdf(z)"
   ]
  },
  {
   "cell_type": "markdown",
   "id": "3d089192-62b3-48ce-9ae5-815d68532806",
   "metadata": {},
   "source": [
    "##### Solution 3 - Using scipy"
   ]
  },
  {
   "cell_type": "code",
   "execution_count": 21,
   "id": "71493684-bebe-4465-8cec-d21993e7b469",
   "metadata": {},
   "outputs": [
    {
     "data": {
      "text/plain": [
       "0.02275013194817921"
      ]
     },
     "execution_count": 21,
     "metadata": {},
     "output_type": "execute_result"
    }
   ],
   "source": [
    "# 1 - P(X < x)\n",
    "1 - norm.cdf(x, loc=mean, scale=std)"
   ]
  },
  {
   "cell_type": "markdown",
   "id": "according-reporter",
   "metadata": {},
   "source": [
    "<br/>\n",
    "\n",
    "# 2. Central Limit Theorem"
   ]
  },
  {
   "cell_type": "code",
   "execution_count": null,
   "id": "statewide-westminster",
   "metadata": {},
   "outputs": [],
   "source": [
    "# dataset with data about stroke patients\n",
    "df = pd.read_csv('./datasets/healthcare-dataset-stroke-data.csv')"
   ]
  },
  {
   "cell_type": "code",
   "execution_count": null,
   "id": "crazy-alfred",
   "metadata": {},
   "outputs": [],
   "source": [
    "df.head()"
   ]
  },
  {
   "cell_type": "code",
   "execution_count": null,
   "id": "limiting-hardwood",
   "metadata": {},
   "outputs": [],
   "source": [
    "population = df['avg_glucose_level']\n",
    "population.head()"
   ]
  },
  {
   "cell_type": "code",
   "execution_count": null,
   "id": "adverse-january",
   "metadata": {},
   "outputs": [],
   "source": [
    "population.shape()"
   ]
  },
  {
   "cell_type": "code",
   "execution_count": null,
   "id": "centered-vacation",
   "metadata": {},
   "outputs": [],
   "source": [
    "population_mean = population.mean()\n",
    "\n",
    "plt.figure(figsize=(10,6))\n",
    "ax = sns.histplot(population)  # the distribution is not normal\n",
    "ax.axvline(x=population_mean, color='red')\n",
    "ax.annotate(f'Population Mean\\n{population_mean:.2f}', xy=(population_mean + 5, 350))"
   ]
  },
  {
   "cell_type": "markdown",
   "id": "pressing-detail",
   "metadata": {},
   "source": [
    "<br/>\n",
    "\n",
    "#### The data distribution of a sample does not necessarily follow the **normal distribution**"
   ]
  },
  {
   "cell_type": "code",
   "execution_count": null,
   "id": "exempt-bracket",
   "metadata": {},
   "outputs": [],
   "source": [
    "sample_100 = population.sample(100)"
   ]
  },
  {
   "cell_type": "code",
   "execution_count": null,
   "id": "nervous-enough",
   "metadata": {},
   "outputs": [],
   "source": [
    "plt.figure(figsize=(10,6))\n",
    "sns.histplot(sample_100)"
   ]
  },
  {
   "cell_type": "markdown",
   "id": "vocal-cemetery",
   "metadata": {},
   "source": [
    "#### As the sample size increases, the **sampling distribution of the mean** approaches a **normal distribution** with the **sampling distribution’s mean** equals **the population mean**"
   ]
  },
  {
   "cell_type": "code",
   "execution_count": null,
   "id": "active-preliminary",
   "metadata": {},
   "outputs": [],
   "source": [
    "# Dictionary where each key correspond to a sample size\n",
    "# For each sample size, there is a dataframe with 1000 samples associated to\n",
    "samples = {}\n",
    "\n",
    "for n in [5, 10, 30, 100, 1000]:\n",
    "    df_sample_size = pd.DataFrame()\n",
    "    \n",
    "    for i in range(1000):\n",
    "        sample = population.sample(n)\n",
    "        sample.reset_index(drop=True, inplace=True)  # requires this \"trick\" to work\n",
    "        df_sample_size[f'Sample #{i}'] = sample\n",
    "    \n",
    "    samples[n] = df_sample_size"
   ]
  },
  {
   "cell_type": "code",
   "execution_count": null,
   "id": "fundamental-chancellor",
   "metadata": {},
   "outputs": [],
   "source": [
    "samples.keys()"
   ]
  },
  {
   "cell_type": "code",
   "execution_count": null,
   "id": "selective-thailand",
   "metadata": {},
   "outputs": [],
   "source": [
    "samples[5]"
   ]
  },
  {
   "cell_type": "code",
   "execution_count": null,
   "id": "employed-australian",
   "metadata": {},
   "outputs": [],
   "source": [
    "samples[100]"
   ]
  },
  {
   "cell_type": "code",
   "execution_count": null,
   "id": "sought-impression",
   "metadata": {},
   "outputs": [],
   "source": [
    "# mean of each one of the 1000 samples with sample size of 100\n",
    "samples[100].mean()"
   ]
  },
  {
   "cell_type": "code",
   "execution_count": null,
   "id": "classified-trail",
   "metadata": {},
   "outputs": [],
   "source": [
    "sample_sizes = sorted(samples.keys())\n",
    "\n",
    "fig, axs = plt.subplots(1, 5, figsize=(24, 3))\n",
    "\n",
    "for i, n in enumerate(sample_sizes):\n",
    "    sampling_distribution = samples[n].mean()\n",
    "    mean_of_sampling_distribution = sampling_distribution.mean()\n",
    "    \n",
    "    ax = sns.histplot(sampling_distribution, ax=axs[i])\n",
    "    axs[i].axvline(x=mean_of_sampling_distribution, color='red')\n",
    "    ax.annotate(f'Mean\\n{mean_of_sampling_distribution:.2f}', xy=(mean_of_sampling_distribution + 1, 120))\n",
    "    ax.spines['top'].set_visible(False)\n",
    "    ax.set_ylim([0, 130])"
   ]
  },
  {
   "cell_type": "markdown",
   "id": "hawaiian-south",
   "metadata": {},
   "source": [
    "#### Standard error"
   ]
  },
  {
   "cell_type": "markdown",
   "id": "controlled-doubt",
   "metadata": {},
   "source": [
    "<img src='./imgs/standard_error.png' width=150 />"
   ]
  },
  {
   "cell_type": "code",
   "execution_count": null,
   "id": "european-composite",
   "metadata": {},
   "outputs": [],
   "source": []
  },
  {
   "cell_type": "markdown",
   "id": "olympic-malaysia",
   "metadata": {},
   "source": [
    "**The larger the sample size, the smaller the standard error.**"
   ]
  },
  {
   "cell_type": "markdown",
   "id": "homeless-turkey",
   "metadata": {},
   "source": [
    "<br/>\n",
    "\n",
    "# 3. Confidence Interval"
   ]
  },
  {
   "cell_type": "markdown",
   "id": "gentle-popularity",
   "metadata": {},
   "source": [
    "<img src='./imgs/confidence_interval.png' width=700 />"
   ]
  },
  {
   "cell_type": "markdown",
   "id": "criminal-czech",
   "metadata": {},
   "source": [
    "- A **90% level of confidence** has 𝜶 = 0.10 and **critical value** of 𝑧𝛼/2 = 1.64.\n",
    "- A **95% level of confidence** has 𝜶 = 0.05 and **critical value** of 𝑧𝛼/2 = 1.96.\n",
    "- A **99% level of confidence** has 𝜶 = 0.01 and **critical value** of 𝑧𝛼/2 = 2.58."
   ]
  },
  {
   "cell_type": "markdown",
   "id": "absent-ordinary",
   "metadata": {},
   "source": [
    "## Exercise 1\n",
    "Suppose the heights of the inhabitants of a city are **normally distributed** with **population standard deviation** of 20 cm.\n",
    "We measure the heights of **40** randomly chosen people, and get a **mean height** of 1.75 m.\n",
    "Construct a **confidence interval** for the population mean with a **significance level of 5%**."
   ]
  },
  {
   "cell_type": "markdown",
   "id": "broad-boost",
   "metadata": {},
   "source": [
    "### Sample size"
   ]
  },
  {
   "cell_type": "code",
   "execution_count": null,
   "id": "insured-dictionary",
   "metadata": {},
   "outputs": [],
   "source": []
  },
  {
   "cell_type": "markdown",
   "id": "imposed-howard",
   "metadata": {},
   "source": [
    "### Population standard deviation and sample mean"
   ]
  },
  {
   "cell_type": "code",
   "execution_count": null,
   "id": "removable-digit",
   "metadata": {},
   "outputs": [],
   "source": []
  },
  {
   "cell_type": "code",
   "execution_count": null,
   "id": "appreciated-swift",
   "metadata": {},
   "outputs": [],
   "source": []
  },
  {
   "cell_type": "markdown",
   "id": "common-senate",
   "metadata": {},
   "source": [
    "### Significance level (α)"
   ]
  },
  {
   "cell_type": "code",
   "execution_count": null,
   "id": "banned-bunch",
   "metadata": {},
   "outputs": [],
   "source": []
  },
  {
   "cell_type": "markdown",
   "id": "vanilla-thermal",
   "metadata": {},
   "source": [
    "### Confidence level (1 - α)"
   ]
  },
  {
   "cell_type": "code",
   "execution_count": null,
   "id": "recovered-bikini",
   "metadata": {},
   "outputs": [],
   "source": []
  },
  {
   "cell_type": "markdown",
   "id": "warming-modem",
   "metadata": {},
   "source": [
    "### Critical value (𝒛𝜶/𝟐)"
   ]
  },
  {
   "cell_type": "code",
   "execution_count": null,
   "id": "automatic-effects",
   "metadata": {},
   "outputs": [],
   "source": []
  },
  {
   "cell_type": "markdown",
   "id": "complete-newport",
   "metadata": {},
   "source": [
    "### Standard Error"
   ]
  },
  {
   "cell_type": "code",
   "execution_count": null,
   "id": "played-botswana",
   "metadata": {},
   "outputs": [],
   "source": []
  },
  {
   "cell_type": "markdown",
   "id": "functioning-purse",
   "metadata": {},
   "source": [
    "### Margin of Error"
   ]
  },
  {
   "cell_type": "code",
   "execution_count": null,
   "id": "advance-disposition",
   "metadata": {},
   "outputs": [],
   "source": []
  },
  {
   "cell_type": "markdown",
   "id": "graduate-cricket",
   "metadata": {},
   "source": [
    "### 95% Confidence Interval"
   ]
  },
  {
   "cell_type": "markdown",
   "id": "least-tension",
   "metadata": {},
   "source": [
    "#### Solution 1 - manually"
   ]
  },
  {
   "cell_type": "code",
   "execution_count": null,
   "id": "revised-generator",
   "metadata": {},
   "outputs": [],
   "source": []
  },
  {
   "cell_type": "markdown",
   "id": "common-quarter",
   "metadata": {},
   "source": [
    "#### Solution 2 - Scipy\n",
    "https://docs.scipy.org/doc/scipy/reference/generated/scipy.stats.norm.html\n",
    "\n",
    "alpha ==> confidence level <br/>\n",
    "loc ==> sample mean  <br/>\n",
    "scale ==> standard error"
   ]
  },
  {
   "cell_type": "code",
   "execution_count": null,
   "id": "spread-collaboration",
   "metadata": {},
   "outputs": [],
   "source": []
  },
  {
   "cell_type": "markdown",
   "id": "anticipated-segment",
   "metadata": {},
   "source": [
    "## Exercise 2\n",
    "Given a dataset from stroke patients, we want to study their mean glucose level. <br/>\n",
    "For two samples of 100 and 1000 observations, provide a 95% confidence intervals for the following scenarios:\n",
    "\n",
    "**(a) Known population standard deviation** <br/>\n",
    "**(b) Unknown population standard deviation**\n",
    "\n",
    "**Dataset:** https://www.kaggle.com/fedesoriano/stroke-prediction-dataset"
   ]
  },
  {
   "cell_type": "code",
   "execution_count": null,
   "id": "tested-underwear",
   "metadata": {},
   "outputs": [],
   "source": []
  },
  {
   "cell_type": "code",
   "execution_count": null,
   "id": "automotive-forwarding",
   "metadata": {},
   "outputs": [],
   "source": []
  },
  {
   "cell_type": "code",
   "execution_count": null,
   "id": "round-newton",
   "metadata": {},
   "outputs": [],
   "source": []
  },
  {
   "cell_type": "code",
   "execution_count": null,
   "id": "sacred-project",
   "metadata": {},
   "outputs": [],
   "source": []
  },
  {
   "cell_type": "markdown",
   "id": "affiliated-equality",
   "metadata": {},
   "source": [
    "#### Population Mean = 106.1476771037182"
   ]
  },
  {
   "cell_type": "code",
   "execution_count": null,
   "id": "killing-metallic",
   "metadata": {},
   "outputs": [],
   "source": []
  },
  {
   "cell_type": "code",
   "execution_count": null,
   "id": "global-ranch",
   "metadata": {
    "tags": []
   },
   "outputs": [],
   "source": []
  },
  {
   "cell_type": "code",
   "execution_count": null,
   "id": "apart-parker",
   "metadata": {},
   "outputs": [],
   "source": []
  },
  {
   "cell_type": "code",
   "execution_count": null,
   "id": "median-soccer",
   "metadata": {},
   "outputs": [],
   "source": []
  },
  {
   "cell_type": "code",
   "execution_count": null,
   "id": "secure-cleaning",
   "metadata": {},
   "outputs": [],
   "source": []
  },
  {
   "cell_type": "code",
   "execution_count": null,
   "id": "hungry-namibia",
   "metadata": {},
   "outputs": [],
   "source": []
  },
  {
   "cell_type": "markdown",
   "id": "buried-origin",
   "metadata": {},
   "source": [
    "#### **(a) Known population standard deviation, and sample sizes of 100 and 1000**"
   ]
  },
  {
   "cell_type": "markdown",
   "id": "analyzed-hands",
   "metadata": {},
   "source": [
    "#### Sample size 100"
   ]
  },
  {
   "cell_type": "code",
   "execution_count": null,
   "id": "differential-burton",
   "metadata": {},
   "outputs": [],
   "source": []
  },
  {
   "cell_type": "code",
   "execution_count": null,
   "id": "ranking-escape",
   "metadata": {},
   "outputs": [],
   "source": []
  },
  {
   "cell_type": "code",
   "execution_count": null,
   "id": "parallel-signature",
   "metadata": {},
   "outputs": [],
   "source": []
  },
  {
   "cell_type": "code",
   "execution_count": null,
   "id": "likely-wyoming",
   "metadata": {},
   "outputs": [],
   "source": []
  },
  {
   "cell_type": "markdown",
   "id": "nasty-moses",
   "metadata": {},
   "source": [
    "#### Sample size 1000"
   ]
  },
  {
   "cell_type": "code",
   "execution_count": null,
   "id": "abstract-orleans",
   "metadata": {},
   "outputs": [],
   "source": []
  },
  {
   "cell_type": "code",
   "execution_count": null,
   "id": "indoor-aggregate",
   "metadata": {},
   "outputs": [],
   "source": []
  },
  {
   "cell_type": "code",
   "execution_count": null,
   "id": "entire-product",
   "metadata": {},
   "outputs": [],
   "source": []
  },
  {
   "cell_type": "code",
   "execution_count": null,
   "id": "clear-margin",
   "metadata": {},
   "outputs": [],
   "source": []
  },
  {
   "cell_type": "markdown",
   "id": "swedish-hopkins",
   "metadata": {},
   "source": [
    "#### **(b) Unknown population standard deviation, and sample sizes of 100 and 1000**"
   ]
  },
  {
   "cell_type": "markdown",
   "id": "permanent-cameroon",
   "metadata": {},
   "source": [
    "#### Sample size 100"
   ]
  },
  {
   "cell_type": "code",
   "execution_count": null,
   "id": "agricultural-export",
   "metadata": {},
   "outputs": [],
   "source": []
  },
  {
   "cell_type": "code",
   "execution_count": null,
   "id": "romance-brother",
   "metadata": {},
   "outputs": [],
   "source": []
  },
  {
   "cell_type": "code",
   "execution_count": null,
   "id": "southeast-partner",
   "metadata": {},
   "outputs": [],
   "source": []
  },
  {
   "cell_type": "code",
   "execution_count": null,
   "id": "noble-pledge",
   "metadata": {},
   "outputs": [],
   "source": []
  },
  {
   "cell_type": "markdown",
   "id": "musical-andorra",
   "metadata": {},
   "source": [
    "#### Sample size 1000"
   ]
  },
  {
   "cell_type": "code",
   "execution_count": null,
   "id": "continued-rating",
   "metadata": {},
   "outputs": [],
   "source": []
  },
  {
   "cell_type": "code",
   "execution_count": null,
   "id": "single-asset",
   "metadata": {},
   "outputs": [],
   "source": []
  },
  {
   "cell_type": "code",
   "execution_count": null,
   "id": "expensive-astrology",
   "metadata": {},
   "outputs": [],
   "source": []
  },
  {
   "cell_type": "code",
   "execution_count": null,
   "id": "greatest-blair",
   "metadata": {},
   "outputs": [],
   "source": []
  },
  {
   "cell_type": "markdown",
   "id": "closing-evans",
   "metadata": {},
   "source": [
    "# 4. Calculating Sample Sizes"
   ]
  },
  {
   "cell_type": "markdown",
   "id": "least-professional",
   "metadata": {},
   "source": [
    "<img src='./imgs/calculating_sample_sizes.png' width=700/>"
   ]
  },
  {
   "cell_type": "markdown",
   "id": "polar-microphone",
   "metadata": {},
   "source": [
    "## Exercise 1\n",
    "Suppose we want to investigate the **mean income** from the brazilian population. According to the last census, the **population standard deviation** is **R\\$ 4000,00**. Assuming a **95\\% confidence level** and a **margin of error** (with respect to the sample mean) of **R\\$ 100,00**, what should be the **sample size**? "
   ]
  },
  {
   "cell_type": "markdown",
   "id": "timely-midwest",
   "metadata": {},
   "source": [
    "### Population standard deviation (𝜎)"
   ]
  },
  {
   "cell_type": "code",
   "execution_count": null,
   "id": "headed-dakota",
   "metadata": {},
   "outputs": [],
   "source": []
  },
  {
   "cell_type": "markdown",
   "id": "chicken-lottery",
   "metadata": {},
   "source": [
    "### Significance level (α)"
   ]
  },
  {
   "cell_type": "code",
   "execution_count": null,
   "id": "similar-causing",
   "metadata": {},
   "outputs": [],
   "source": []
  },
  {
   "cell_type": "markdown",
   "id": "labeled-definition",
   "metadata": {},
   "source": [
    "### Critical value (𝒛𝜶/𝟐)"
   ]
  },
  {
   "cell_type": "code",
   "execution_count": null,
   "id": "alike-stick",
   "metadata": {},
   "outputs": [],
   "source": []
  },
  {
   "cell_type": "markdown",
   "id": "hazardous-american",
   "metadata": {},
   "source": [
    "### Calculating the sample size (n)"
   ]
  },
  {
   "cell_type": "code",
   "execution_count": null,
   "id": "thrown-sector",
   "metadata": {},
   "outputs": [],
   "source": []
  },
  {
   "cell_type": "markdown",
   "id": "drawn-jewelry",
   "metadata": {},
   "source": [
    "## Exercise 2\n",
    "In a batch of **10,000 cans** of soda, a simple random sample of **200 cans** was collected to validation the amount of soda. The found **sample standard deviation** was **16 ml**. Each can costs **R\\$ 4,00** and is thrown away after the experiment.\n",
    "\n",
    "The manufacturer stipulates a **maximum error on the population average of only 4 ml**. To ensure a **95\\% confidence level** what sample size should be selected for this study? How much  will the company save in the next experiment/validation?"
   ]
  },
  {
   "cell_type": "markdown",
   "id": "important-young",
   "metadata": {},
   "source": [
    "### Population size (N)"
   ]
  },
  {
   "cell_type": "code",
   "execution_count": null,
   "id": "appropriate-sensitivity",
   "metadata": {},
   "outputs": [],
   "source": []
  },
  {
   "cell_type": "markdown",
   "id": "southwest-terrorist",
   "metadata": {},
   "source": [
    "### Calculating the critical value (z-score ==> 𝒛𝜶/𝟐): 95% confidence value"
   ]
  },
  {
   "cell_type": "code",
   "execution_count": null,
   "id": "minimal-webcam",
   "metadata": {},
   "outputs": [],
   "source": []
  },
  {
   "cell_type": "markdown",
   "id": "green-measurement",
   "metadata": {},
   "source": [
    "### Calculating the sample standard deviation (s)"
   ]
  },
  {
   "cell_type": "code",
   "execution_count": null,
   "id": "embedded-upper",
   "metadata": {},
   "outputs": [],
   "source": []
  },
  {
   "cell_type": "markdown",
   "id": "described-bracelet",
   "metadata": {},
   "source": [
    "### Margin of Error (e)"
   ]
  },
  {
   "cell_type": "code",
   "execution_count": null,
   "id": "criminal-parade",
   "metadata": {},
   "outputs": [],
   "source": []
  },
  {
   "cell_type": "markdown",
   "id": "fiscal-bangladesh",
   "metadata": {},
   "source": [
    "### Calculating the sample size (n)"
   ]
  },
  {
   "cell_type": "code",
   "execution_count": null,
   "id": "varying-opportunity",
   "metadata": {},
   "outputs": [],
   "source": []
  },
  {
   "cell_type": "markdown",
   "id": "complimentary-assembly",
   "metadata": {},
   "source": [
    "Note that the number of cans (sample size) necessary to meet the requirements is **61**. Therefore, it is not necessary to collect 200 samples as was done before, thus saving money."
   ]
  },
  {
   "cell_type": "markdown",
   "id": "wanted-burning",
   "metadata": {},
   "source": [
    "### Savings"
   ]
  },
  {
   "cell_type": "code",
   "execution_count": null,
   "id": "instructional-sense",
   "metadata": {},
   "outputs": [],
   "source": []
  },
  {
   "cell_type": "markdown",
   "id": "interior-garbage",
   "metadata": {},
   "source": [
    "The company will save R$ 556 in the next experiments."
   ]
  },
  {
   "cell_type": "code",
   "execution_count": null,
   "id": "steady-aircraft",
   "metadata": {},
   "outputs": [],
   "source": []
  },
  {
   "cell_type": "markdown",
   "id": "superior-control",
   "metadata": {},
   "source": [
    "# 5. Bootstrap Confidence Interval"
   ]
  },
  {
   "cell_type": "markdown",
   "id": "constant-teacher",
   "metadata": {},
   "source": [
    "<img src='./imgs/bootstrap_confidence_interval.png' width=700 />"
   ]
  },
  {
   "cell_type": "markdown",
   "id": "matched-retirement",
   "metadata": {},
   "source": [
    "## Exercise\n",
    "Given a dataset from stroke patients, we want to study their **mean glucose level**.\n",
    "Provide **95% bootstrap confidence intervals** for sample sizes of **100** and **1000**.\n",
    "\n",
    "**Dataset:** https://www.kaggle.com/fedesoriano/stroke-prediction-dataset"
   ]
  },
  {
   "cell_type": "code",
   "execution_count": null,
   "id": "brown-graphic",
   "metadata": {},
   "outputs": [],
   "source": []
  },
  {
   "cell_type": "code",
   "execution_count": null,
   "id": "disciplinary-symphony",
   "metadata": {},
   "outputs": [],
   "source": []
  },
  {
   "cell_type": "code",
   "execution_count": null,
   "id": "falling-plant",
   "metadata": {},
   "outputs": [],
   "source": []
  },
  {
   "cell_type": "code",
   "execution_count": null,
   "id": "headed-equity",
   "metadata": {},
   "outputs": [],
   "source": []
  },
  {
   "cell_type": "markdown",
   "id": "complete-oxide",
   "metadata": {},
   "source": [
    "#### True **Population Mean**"
   ]
  },
  {
   "cell_type": "code",
   "execution_count": null,
   "id": "independent-trigger",
   "metadata": {},
   "outputs": [],
   "source": []
  },
  {
   "cell_type": "markdown",
   "id": "significant-slovakia",
   "metadata": {},
   "source": [
    "### Sample size: 100"
   ]
  },
  {
   "cell_type": "markdown",
   "id": "broadband-preliminary",
   "metadata": {},
   "source": [
    "1. Get a sample S from the population"
   ]
  },
  {
   "cell_type": "code",
   "execution_count": null,
   "id": "introductory-mystery",
   "metadata": {},
   "outputs": [],
   "source": []
  },
  {
   "cell_type": "code",
   "execution_count": null,
   "id": "exotic-bullet",
   "metadata": {},
   "outputs": [],
   "source": []
  },
  {
   "cell_type": "markdown",
   "id": "precise-internship",
   "metadata": {},
   "source": [
    "2. Repeat k times:<br/>\n",
    "    2.1. Generate a bootstrap sample by **resampling S**<br/>\n",
    "    2.2. Calculate the desired statistic for the bootstrap sample"
   ]
  },
  {
   "cell_type": "code",
   "execution_count": null,
   "id": "african-stevens",
   "metadata": {},
   "outputs": [],
   "source": []
  },
  {
   "cell_type": "markdown",
   "id": "twelve-visitor",
   "metadata": {},
   "source": [
    "3. Build the sampling distribution for the statistic"
   ]
  },
  {
   "cell_type": "code",
   "execution_count": null,
   "id": "sexual-assist",
   "metadata": {},
   "outputs": [],
   "source": []
  },
  {
   "cell_type": "markdown",
   "id": "funky-andrews",
   "metadata": {},
   "source": [
    "4. Compute the interval around the mean with the concentration of c% observations/values<br/>\n",
    "    4.1. c% is the confidence level = 1 – α<br/>\n",
    "    4.2. The interval consists of the α/2 percentile and (1 - α/2) percentile <br/>\n",
    "    4.3. Thus, just sort the statistics and return the values of theses percentiles"
   ]
  },
  {
   "cell_type": "markdown",
   "id": "civilian-stanley",
   "metadata": {},
   "source": [
    "### ALTERNATIVE 1"
   ]
  },
  {
   "cell_type": "code",
   "execution_count": null,
   "id": "canadian-stress",
   "metadata": {},
   "outputs": [],
   "source": []
  },
  {
   "cell_type": "markdown",
   "id": "vanilla-destination",
   "metadata": {},
   "source": [
    "### ALTERNATIVE 2"
   ]
  },
  {
   "cell_type": "code",
   "execution_count": null,
   "id": "simplified-particular",
   "metadata": {},
   "outputs": [],
   "source": []
  },
  {
   "cell_type": "markdown",
   "id": "compound-contribution",
   "metadata": {},
   "source": [
    "#### Boostrap Sampling Distribution Mean"
   ]
  },
  {
   "cell_type": "code",
   "execution_count": null,
   "id": "addressed-treasurer",
   "metadata": {},
   "outputs": [],
   "source": []
  },
  {
   "cell_type": "markdown",
   "id": "median-costume",
   "metadata": {},
   "source": [
    "### Sample size: 1000"
   ]
  },
  {
   "cell_type": "markdown",
   "id": "aging-supplier",
   "metadata": {},
   "source": [
    "1. Get a sample S from the population"
   ]
  },
  {
   "cell_type": "code",
   "execution_count": null,
   "id": "derived-dream",
   "metadata": {},
   "outputs": [],
   "source": []
  },
  {
   "cell_type": "markdown",
   "id": "romance-profile",
   "metadata": {},
   "source": [
    "2. Repeat k times:<br/>\n",
    "    2.1. Generate a bootstrap sample by **resampling S**<br/>\n",
    "    2.2. Calculate the desired statistic for the bootstrap sample <br/>\n",
    "3. Build the sampling distribution for the statistic"
   ]
  },
  {
   "cell_type": "code",
   "execution_count": null,
   "id": "popular-minute",
   "metadata": {},
   "outputs": [],
   "source": []
  },
  {
   "cell_type": "code",
   "execution_count": null,
   "id": "formed-flower",
   "metadata": {},
   "outputs": [],
   "source": []
  },
  {
   "cell_type": "markdown",
   "id": "hundred-mixer",
   "metadata": {},
   "source": [
    "4. Compute the interval around the mean with the concentration of c% observations/values<br/>\n",
    "    4.1. c% is the confidence level = 1 – α<br/>\n",
    "    4.2. The interval consists of the α/2 percentile and (1 - α/2) percentile <br/>\n",
    "    4.3. Thus, just sort the statistics and return the values of theses percentiles"
   ]
  },
  {
   "cell_type": "code",
   "execution_count": null,
   "id": "dirty-broadway",
   "metadata": {},
   "outputs": [],
   "source": []
  },
  {
   "cell_type": "markdown",
   "id": "linear-stereo",
   "metadata": {},
   "source": [
    "#### Boostrap Sampling Distribution Mean "
   ]
  },
  {
   "cell_type": "code",
   "execution_count": null,
   "id": "hired-cruise",
   "metadata": {},
   "outputs": [],
   "source": []
  },
  {
   "cell_type": "markdown",
   "id": "diagnostic-gospel",
   "metadata": {},
   "source": [
    "# 6. Comparing the Calculated 95% Confidence Intervals"
   ]
  },
  {
   "cell_type": "code",
   "execution_count": null,
   "id": "physical-newton",
   "metadata": {},
   "outputs": [],
   "source": []
  }
 ],
 "metadata": {
  "kernelspec": {
   "display_name": "Python 3",
   "language": "python",
   "name": "python3"
  },
  "language_info": {
   "codemirror_mode": {
    "name": "ipython",
    "version": 3
   },
   "file_extension": ".py",
   "mimetype": "text/x-python",
   "name": "python",
   "nbconvert_exporter": "python",
   "pygments_lexer": "ipython3",
   "version": "3.8.5"
  }
 },
 "nbformat": 4,
 "nbformat_minor": 5
}
